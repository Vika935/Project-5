{
 "cells": [
  {
   "cell_type": "markdown",
   "metadata": {
    "id": "LMuaGIE3lGcr"
   },
   "source": [
    "# Исследовательский анализ данных в Python и проверка гипотез"
   ]
  },
  {
   "cell_type": "markdown",
   "metadata": {},
   "source": [
    "Автор: Красавцева Виктория Игоревна \n",
    "\n",
    "Дата: 18.05.2025"
   ]
  },
  {
   "cell_type": "markdown",
   "metadata": {},
   "source": [
    "Цель и задача проекта: Провести исследовательский анализ данных в Python, чтобы выявить инсайты об изменении пользовательских предпочтений и популярности событий осенью 2024 года, а также проверить гипотезы о разнице в поведении пользователей с мобильными и стационарными устройствами"
   ]
  },
  {
   "cell_type": "markdown",
   "metadata": {},
   "source": [
    "Структура:\n",
    "1. Загрузка данных и знакомство с ними\n",
    "2. Предобработка данных и подготовка их к исследованию\n",
    "3. Исследовательский анализ данных\n",
    " - A. Анализ распределения заказов по сегментам и их сезонные изменения\n",
    " - B. Осенняя активность пользователей\n",
    " - C. Популярные события и партнёры\n",
    " \n",
    "4. Статистический анализ данных\n",
    "5. Общий вывод и рекомендации"
   ]
  },
  {
   "cell_type": "markdown",
   "metadata": {},
   "source": [
    "Описание данных:\n",
    "final_tickets_orders_df.csv включает информацию обо всех заказах билетов, совершённых с двух типов устройств — мобильных и стационарных.\n",
    "- order_id — уникальный идентификатор заказа.\n",
    "- user_id — уникальный идентификатор пользователя.\n",
    "- created_dt_msk — дата создания заказа (московское время).\n",
    "- created_ts_msk — дата и время создания заказа (московское время).\n",
    "- event_id — идентификатор мероприятия из таблицы events.\n",
    "- cinema_circuit — сеть кинотеатров. Если не применимо, то здесь будет значение 'нет'.\n",
    "- age_limit — возрастное ограничение мероприятия.\n",
    "- currency_code — валюта оплаты, например rub для российских рублей.\n",
    "- device_type_canonical — тип устройства, с которого был оформлен заказ, например mobile для мобильных устройств, desktop для стационарных.\n",
    "- revenue — выручка от заказа.\n",
    "- service_name — название билетного оператора.\n",
    "- tickets_count — количество купленных билетов.\n",
    "- total — общая сумма заказа.\n",
    "- days_since_prev с количеством дней с предыдущей покупки для каждого пользователя. \n",
    "\n",
    "final_tickets_events_df содержит информацию о событиях, включая город и регион события, а также информацию о площадке проведения мероприятия. \n",
    "- event_id — уникальный идентификатор мероприятия.\n",
    "- event_name — название мероприятия. Аналог поля event_name_code из исходной базы данных.\n",
    "- event_type_description — описание типа мероприятия.\n",
    "- event_type_main — основной тип мероприятия: театральная постановка, концерт и так далее.\n",
    "- organizers — организаторы мероприятия.\n",
    "- region_name — название региона.\n",
    "- city_name — название города.\n",
    "- venue_id — уникальный идентификатор площадки.\n",
    "- venue_name — название площадки.\n",
    "- venue_address — адрес площадки.\n",
    "\n",
    "final_tickets_tenge_df.csv с информацией о курсе тенге к российскому рублю за 2024 год. \n",
    "- nominal — номинал (100 тенге).\n",
    "- data — дата.\n",
    "- curs — курс тенге к рублю.\n",
    "- cdx — обозначение валюты (kzt)."
   ]
  },
  {
   "cell_type": "markdown",
   "metadata": {},
   "source": [
    "##  Загрузка данных и знакомство с ними"
   ]
  },
  {
   "cell_type": "code",
   "execution_count": 1,
   "metadata": {},
   "outputs": [],
   "source": [
    "# Импорты библиотек\n",
    "import pandas as pd\n",
    "import numpy as np\n",
    "import matplotlib.pyplot as plt\n",
    "import seaborn as sns\n",
    "from scipy.stats import shapiro, ttest_ind, mannwhitneyu"
   ]
  },
  {
   "cell_type": "code",
   "execution_count": 2,
   "metadata": {},
   "outputs": [
    {
     "data": {
      "text/html": [
       "<div>\n",
       "<style scoped>\n",
       "    .dataframe tbody tr th:only-of-type {\n",
       "        vertical-align: middle;\n",
       "    }\n",
       "\n",
       "    .dataframe tbody tr th {\n",
       "        vertical-align: top;\n",
       "    }\n",
       "\n",
       "    .dataframe thead th {\n",
       "        text-align: right;\n",
       "    }\n",
       "</style>\n",
       "<table border=\"1\" class=\"dataframe\">\n",
       "  <thead>\n",
       "    <tr style=\"text-align: right;\">\n",
       "      <th></th>\n",
       "      <th>order_id</th>\n",
       "      <th>user_id</th>\n",
       "      <th>created_dt_msk</th>\n",
       "      <th>created_ts_msk</th>\n",
       "      <th>event_id</th>\n",
       "      <th>cinema_circuit</th>\n",
       "      <th>age_limit</th>\n",
       "      <th>currency_code</th>\n",
       "      <th>device_type_canonical</th>\n",
       "      <th>revenue</th>\n",
       "      <th>service_name</th>\n",
       "      <th>tickets_count</th>\n",
       "      <th>total</th>\n",
       "      <th>days_since_prev</th>\n",
       "    </tr>\n",
       "  </thead>\n",
       "  <tbody>\n",
       "    <tr>\n",
       "      <th>0</th>\n",
       "      <td>4359165</td>\n",
       "      <td>0002849b70a3ce2</td>\n",
       "      <td>2024-08-20</td>\n",
       "      <td>2024-08-20 16:08:03</td>\n",
       "      <td>169230</td>\n",
       "      <td>нет</td>\n",
       "      <td>16</td>\n",
       "      <td>rub</td>\n",
       "      <td>mobile</td>\n",
       "      <td>1521.94</td>\n",
       "      <td>Край билетов</td>\n",
       "      <td>4</td>\n",
       "      <td>10870.99</td>\n",
       "      <td>NaN</td>\n",
       "    </tr>\n",
       "    <tr>\n",
       "      <th>1</th>\n",
       "      <td>7965605</td>\n",
       "      <td>0005ca5e93f2cf4</td>\n",
       "      <td>2024-07-23</td>\n",
       "      <td>2024-07-23 18:36:24</td>\n",
       "      <td>237325</td>\n",
       "      <td>нет</td>\n",
       "      <td>0</td>\n",
       "      <td>rub</td>\n",
       "      <td>mobile</td>\n",
       "      <td>289.45</td>\n",
       "      <td>Мой билет</td>\n",
       "      <td>2</td>\n",
       "      <td>2067.51</td>\n",
       "      <td>NaN</td>\n",
       "    </tr>\n",
       "    <tr>\n",
       "      <th>2</th>\n",
       "      <td>7292370</td>\n",
       "      <td>0005ca5e93f2cf4</td>\n",
       "      <td>2024-10-06</td>\n",
       "      <td>2024-10-06 13:56:02</td>\n",
       "      <td>578454</td>\n",
       "      <td>нет</td>\n",
       "      <td>0</td>\n",
       "      <td>rub</td>\n",
       "      <td>mobile</td>\n",
       "      <td>1258.57</td>\n",
       "      <td>За билетом!</td>\n",
       "      <td>4</td>\n",
       "      <td>13984.16</td>\n",
       "      <td>75.0</td>\n",
       "    </tr>\n",
       "    <tr>\n",
       "      <th>3</th>\n",
       "      <td>1139875</td>\n",
       "      <td>000898990054619</td>\n",
       "      <td>2024-07-13</td>\n",
       "      <td>2024-07-13 19:40:48</td>\n",
       "      <td>387271</td>\n",
       "      <td>нет</td>\n",
       "      <td>0</td>\n",
       "      <td>rub</td>\n",
       "      <td>mobile</td>\n",
       "      <td>8.49</td>\n",
       "      <td>Лови билет!</td>\n",
       "      <td>2</td>\n",
       "      <td>212.28</td>\n",
       "      <td>NaN</td>\n",
       "    </tr>\n",
       "    <tr>\n",
       "      <th>4</th>\n",
       "      <td>972400</td>\n",
       "      <td>000898990054619</td>\n",
       "      <td>2024-10-04</td>\n",
       "      <td>2024-10-04 22:33:15</td>\n",
       "      <td>509453</td>\n",
       "      <td>нет</td>\n",
       "      <td>18</td>\n",
       "      <td>rub</td>\n",
       "      <td>mobile</td>\n",
       "      <td>1390.41</td>\n",
       "      <td>Билеты без проблем</td>\n",
       "      <td>3</td>\n",
       "      <td>10695.43</td>\n",
       "      <td>83.0</td>\n",
       "    </tr>\n",
       "  </tbody>\n",
       "</table>\n",
       "</div>"
      ],
      "text/plain": [
       "   order_id          user_id created_dt_msk       created_ts_msk  event_id  \\\n",
       "0   4359165  0002849b70a3ce2     2024-08-20  2024-08-20 16:08:03    169230   \n",
       "1   7965605  0005ca5e93f2cf4     2024-07-23  2024-07-23 18:36:24    237325   \n",
       "2   7292370  0005ca5e93f2cf4     2024-10-06  2024-10-06 13:56:02    578454   \n",
       "3   1139875  000898990054619     2024-07-13  2024-07-13 19:40:48    387271   \n",
       "4    972400  000898990054619     2024-10-04  2024-10-04 22:33:15    509453   \n",
       "\n",
       "  cinema_circuit  age_limit currency_code device_type_canonical  revenue  \\\n",
       "0            нет         16           rub                mobile  1521.94   \n",
       "1            нет          0           rub                mobile   289.45   \n",
       "2            нет          0           rub                mobile  1258.57   \n",
       "3            нет          0           rub                mobile     8.49   \n",
       "4            нет         18           rub                mobile  1390.41   \n",
       "\n",
       "         service_name  tickets_count     total  days_since_prev  \n",
       "0        Край билетов              4  10870.99              NaN  \n",
       "1           Мой билет              2   2067.51              NaN  \n",
       "2         За билетом!              4  13984.16             75.0  \n",
       "3         Лови билет!              2    212.28              NaN  \n",
       "4  Билеты без проблем              3  10695.43             83.0  "
      ]
     },
     "metadata": {},
     "output_type": "display_data"
    },
    {
     "name": "stdout",
     "output_type": "stream",
     "text": [
      "<class 'pandas.core.frame.DataFrame'>\n",
      "RangeIndex: 290849 entries, 0 to 290848\n",
      "Data columns (total 14 columns):\n",
      " #   Column                 Non-Null Count   Dtype  \n",
      "---  ------                 --------------   -----  \n",
      " 0   order_id               290849 non-null  int64  \n",
      " 1   user_id                290849 non-null  object \n",
      " 2   created_dt_msk         290849 non-null  object \n",
      " 3   created_ts_msk         290849 non-null  object \n",
      " 4   event_id               290849 non-null  int64  \n",
      " 5   cinema_circuit         290849 non-null  object \n",
      " 6   age_limit              290849 non-null  int64  \n",
      " 7   currency_code          290849 non-null  object \n",
      " 8   device_type_canonical  290849 non-null  object \n",
      " 9   revenue                290849 non-null  float64\n",
      " 10  service_name           290849 non-null  object \n",
      " 11  tickets_count          290849 non-null  int64  \n",
      " 12  total                  290849 non-null  float64\n",
      " 13  days_since_prev        268909 non-null  float64\n",
      "dtypes: float64(3), int64(4), object(7)\n",
      "memory usage: 31.1+ MB\n",
      "None\n"
     ]
    }
   ],
   "source": [
    "# Загрузка данных, информацию обо всех заказах билетов\n",
    "orders = pd.read_csv('https://code.s3.yandex.net/datasets/final_tickets_orders_df.csv')\n",
    "display(orders.head())\n",
    "print(orders.info())"
   ]
  },
  {
   "cell_type": "code",
   "execution_count": 3,
   "metadata": {},
   "outputs": [
    {
     "data": {
      "text/html": [
       "<div>\n",
       "<style scoped>\n",
       "    .dataframe tbody tr th:only-of-type {\n",
       "        vertical-align: middle;\n",
       "    }\n",
       "\n",
       "    .dataframe tbody tr th {\n",
       "        vertical-align: top;\n",
       "    }\n",
       "\n",
       "    .dataframe thead th {\n",
       "        text-align: right;\n",
       "    }\n",
       "</style>\n",
       "<table border=\"1\" class=\"dataframe\">\n",
       "  <thead>\n",
       "    <tr style=\"text-align: right;\">\n",
       "      <th></th>\n",
       "      <th>event_id</th>\n",
       "      <th>event_name</th>\n",
       "      <th>event_type_description</th>\n",
       "      <th>event_type_main</th>\n",
       "      <th>organizers</th>\n",
       "      <th>region_name</th>\n",
       "      <th>city_name</th>\n",
       "      <th>city_id</th>\n",
       "      <th>venue_id</th>\n",
       "      <th>venue_name</th>\n",
       "      <th>venue_address</th>\n",
       "    </tr>\n",
       "  </thead>\n",
       "  <tbody>\n",
       "    <tr>\n",
       "      <th>0</th>\n",
       "      <td>4436</td>\n",
       "      <td>e4f26fba-da77-4c61-928a-6c3e434d793f</td>\n",
       "      <td>спектакль</td>\n",
       "      <td>театр</td>\n",
       "      <td>№4893</td>\n",
       "      <td>Североярская область</td>\n",
       "      <td>Озёрск</td>\n",
       "      <td>2</td>\n",
       "      <td>1600</td>\n",
       "      <td>Кладбище искусств \"Проблема\" и партнеры</td>\n",
       "      <td>наб. Загородная, д. 785</td>\n",
       "    </tr>\n",
       "    <tr>\n",
       "      <th>1</th>\n",
       "      <td>5785</td>\n",
       "      <td>5cc08a60-fdea-4186-9bb2-bffc3603fb77</td>\n",
       "      <td>спектакль</td>\n",
       "      <td>театр</td>\n",
       "      <td>№1931</td>\n",
       "      <td>Светополянский округ</td>\n",
       "      <td>Глиноград</td>\n",
       "      <td>54</td>\n",
       "      <td>2196</td>\n",
       "      <td>Лекции по искусству \"Свет\" Групп</td>\n",
       "      <td>ул. Ягодная, д. 942</td>\n",
       "    </tr>\n",
       "    <tr>\n",
       "      <th>2</th>\n",
       "      <td>8817</td>\n",
       "      <td>8e379a89-3a10-4811-ba06-ec22ebebe989</td>\n",
       "      <td>спектакль</td>\n",
       "      <td>театр</td>\n",
       "      <td>№4896</td>\n",
       "      <td>Североярская область</td>\n",
       "      <td>Озёрск</td>\n",
       "      <td>2</td>\n",
       "      <td>4043</td>\n",
       "      <td>Кинокомитет \"Золотая\" Инк</td>\n",
       "      <td>ш. Коммуны, д. 92 стр. 6</td>\n",
       "    </tr>\n",
       "    <tr>\n",
       "      <th>3</th>\n",
       "      <td>8849</td>\n",
       "      <td>682e3129-6a32-4952-9d8a-ef7f60d4c247</td>\n",
       "      <td>спектакль</td>\n",
       "      <td>театр</td>\n",
       "      <td>№4960</td>\n",
       "      <td>Каменевский регион</td>\n",
       "      <td>Глиногорск</td>\n",
       "      <td>213</td>\n",
       "      <td>1987</td>\n",
       "      <td>Выставка ремесел \"Свет\" Лтд</td>\n",
       "      <td>пер. Набережный, д. 35</td>\n",
       "    </tr>\n",
       "    <tr>\n",
       "      <th>4</th>\n",
       "      <td>8850</td>\n",
       "      <td>d6e99176-c77f-4af0-9222-07c571f6c624</td>\n",
       "      <td>спектакль</td>\n",
       "      <td>театр</td>\n",
       "      <td>№4770</td>\n",
       "      <td>Лесодальний край</td>\n",
       "      <td>Родниковец</td>\n",
       "      <td>55</td>\n",
       "      <td>4230</td>\n",
       "      <td>Фестивальный проект \"Листья\" Групп</td>\n",
       "      <td>пер. Проезжий, д. 9</td>\n",
       "    </tr>\n",
       "  </tbody>\n",
       "</table>\n",
       "</div>"
      ],
      "text/plain": [
       "   event_id                            event_name event_type_description  \\\n",
       "0      4436  e4f26fba-da77-4c61-928a-6c3e434d793f              спектакль   \n",
       "1      5785  5cc08a60-fdea-4186-9bb2-bffc3603fb77              спектакль   \n",
       "2      8817  8e379a89-3a10-4811-ba06-ec22ebebe989              спектакль   \n",
       "3      8849  682e3129-6a32-4952-9d8a-ef7f60d4c247              спектакль   \n",
       "4      8850  d6e99176-c77f-4af0-9222-07c571f6c624              спектакль   \n",
       "\n",
       "  event_type_main organizers           region_name   city_name  city_id  \\\n",
       "0           театр      №4893  Североярская область      Озёрск        2   \n",
       "1           театр      №1931  Светополянский округ   Глиноград       54   \n",
       "2           театр      №4896  Североярская область      Озёрск        2   \n",
       "3           театр      №4960    Каменевский регион  Глиногорск      213   \n",
       "4           театр      №4770      Лесодальний край  Родниковец       55   \n",
       "\n",
       "   venue_id                               venue_name             venue_address  \n",
       "0      1600  Кладбище искусств \"Проблема\" и партнеры   наб. Загородная, д. 785  \n",
       "1      2196         Лекции по искусству \"Свет\" Групп       ул. Ягодная, д. 942  \n",
       "2      4043                Кинокомитет \"Золотая\" Инк  ш. Коммуны, д. 92 стр. 6  \n",
       "3      1987              Выставка ремесел \"Свет\" Лтд    пер. Набережный, д. 35  \n",
       "4      4230       Фестивальный проект \"Листья\" Групп       пер. Проезжий, д. 9  "
      ]
     },
     "metadata": {},
     "output_type": "display_data"
    },
    {
     "name": "stdout",
     "output_type": "stream",
     "text": [
      "<class 'pandas.core.frame.DataFrame'>\n",
      "RangeIndex: 22427 entries, 0 to 22426\n",
      "Data columns (total 11 columns):\n",
      " #   Column                  Non-Null Count  Dtype \n",
      "---  ------                  --------------  ----- \n",
      " 0   event_id                22427 non-null  int64 \n",
      " 1   event_name              22427 non-null  object\n",
      " 2   event_type_description  22427 non-null  object\n",
      " 3   event_type_main         22427 non-null  object\n",
      " 4   organizers              22427 non-null  object\n",
      " 5   region_name             22427 non-null  object\n",
      " 6   city_name               22427 non-null  object\n",
      " 7   city_id                 22427 non-null  int64 \n",
      " 8   venue_id                22427 non-null  int64 \n",
      " 9   venue_name              22427 non-null  object\n",
      " 10  venue_address           22427 non-null  object\n",
      "dtypes: int64(3), object(8)\n",
      "memory usage: 1.9+ MB\n",
      "None\n"
     ]
    }
   ],
   "source": [
    "# Загрузка данных, информацию о событиях\n",
    "events = pd.read_csv('https://code.s3.yandex.net/datasets/final_tickets_events_df.csv')\n",
    "display(events.head())\n",
    "print(events.info())"
   ]
  },
  {
   "cell_type": "code",
   "execution_count": 4,
   "metadata": {},
   "outputs": [
    {
     "data": {
      "text/html": [
       "<div>\n",
       "<style scoped>\n",
       "    .dataframe tbody tr th:only-of-type {\n",
       "        vertical-align: middle;\n",
       "    }\n",
       "\n",
       "    .dataframe tbody tr th {\n",
       "        vertical-align: top;\n",
       "    }\n",
       "\n",
       "    .dataframe thead th {\n",
       "        text-align: right;\n",
       "    }\n",
       "</style>\n",
       "<table border=\"1\" class=\"dataframe\">\n",
       "  <thead>\n",
       "    <tr style=\"text-align: right;\">\n",
       "      <th></th>\n",
       "      <th>data</th>\n",
       "      <th>nominal</th>\n",
       "      <th>curs</th>\n",
       "      <th>cdx</th>\n",
       "    </tr>\n",
       "  </thead>\n",
       "  <tbody>\n",
       "    <tr>\n",
       "      <th>0</th>\n",
       "      <td>2024-01-10</td>\n",
       "      <td>100</td>\n",
       "      <td>19.9391</td>\n",
       "      <td>kzt</td>\n",
       "    </tr>\n",
       "    <tr>\n",
       "      <th>1</th>\n",
       "      <td>2024-01-11</td>\n",
       "      <td>100</td>\n",
       "      <td>19.7255</td>\n",
       "      <td>kzt</td>\n",
       "    </tr>\n",
       "    <tr>\n",
       "      <th>2</th>\n",
       "      <td>2024-01-12</td>\n",
       "      <td>100</td>\n",
       "      <td>19.5839</td>\n",
       "      <td>kzt</td>\n",
       "    </tr>\n",
       "    <tr>\n",
       "      <th>3</th>\n",
       "      <td>2024-01-13</td>\n",
       "      <td>100</td>\n",
       "      <td>19.4501</td>\n",
       "      <td>kzt</td>\n",
       "    </tr>\n",
       "    <tr>\n",
       "      <th>4</th>\n",
       "      <td>2024-01-14</td>\n",
       "      <td>100</td>\n",
       "      <td>19.4501</td>\n",
       "      <td>kzt</td>\n",
       "    </tr>\n",
       "    <tr>\n",
       "      <th>...</th>\n",
       "      <td>...</td>\n",
       "      <td>...</td>\n",
       "      <td>...</td>\n",
       "      <td>...</td>\n",
       "    </tr>\n",
       "    <tr>\n",
       "      <th>352</th>\n",
       "      <td>2024-12-27</td>\n",
       "      <td>100</td>\n",
       "      <td>19.2705</td>\n",
       "      <td>kzt</td>\n",
       "    </tr>\n",
       "    <tr>\n",
       "      <th>353</th>\n",
       "      <td>2024-12-28</td>\n",
       "      <td>100</td>\n",
       "      <td>19.5105</td>\n",
       "      <td>kzt</td>\n",
       "    </tr>\n",
       "    <tr>\n",
       "      <th>354</th>\n",
       "      <td>2024-12-29</td>\n",
       "      <td>100</td>\n",
       "      <td>19.4860</td>\n",
       "      <td>kzt</td>\n",
       "    </tr>\n",
       "    <tr>\n",
       "      <th>355</th>\n",
       "      <td>2024-12-30</td>\n",
       "      <td>100</td>\n",
       "      <td>19.4860</td>\n",
       "      <td>kzt</td>\n",
       "    </tr>\n",
       "    <tr>\n",
       "      <th>356</th>\n",
       "      <td>2024-12-31</td>\n",
       "      <td>100</td>\n",
       "      <td>19.4860</td>\n",
       "      <td>kzt</td>\n",
       "    </tr>\n",
       "  </tbody>\n",
       "</table>\n",
       "<p>357 rows × 4 columns</p>\n",
       "</div>"
      ],
      "text/plain": [
       "           data  nominal     curs  cdx\n",
       "0    2024-01-10      100  19.9391  kzt\n",
       "1    2024-01-11      100  19.7255  kzt\n",
       "2    2024-01-12      100  19.5839  kzt\n",
       "3    2024-01-13      100  19.4501  kzt\n",
       "4    2024-01-14      100  19.4501  kzt\n",
       "..          ...      ...      ...  ...\n",
       "352  2024-12-27      100  19.2705  kzt\n",
       "353  2024-12-28      100  19.5105  kzt\n",
       "354  2024-12-29      100  19.4860  kzt\n",
       "355  2024-12-30      100  19.4860  kzt\n",
       "356  2024-12-31      100  19.4860  kzt\n",
       "\n",
       "[357 rows x 4 columns]"
      ]
     },
     "metadata": {},
     "output_type": "display_data"
    },
    {
     "name": "stdout",
     "output_type": "stream",
     "text": [
      "<class 'pandas.core.frame.DataFrame'>\n",
      "RangeIndex: 357 entries, 0 to 356\n",
      "Data columns (total 4 columns):\n",
      " #   Column   Non-Null Count  Dtype  \n",
      "---  ------   --------------  -----  \n",
      " 0   data     357 non-null    object \n",
      " 1   nominal  357 non-null    int64  \n",
      " 2   curs     357 non-null    float64\n",
      " 3   cdx      357 non-null    object \n",
      "dtypes: float64(1), int64(1), object(2)\n",
      "memory usage: 11.3+ KB\n",
      "None\n"
     ]
    }
   ],
   "source": [
    "# Загрузка данных, информацией о курсе тенге к российскому рублю за 2024 год\n",
    "tenge = pd.read_csv('https://code.s3.yandex.net/datasets/final_tickets_tenge_df.csv')\n",
    "display(tenge)\n",
    "print(tenge.info())"
   ]
  },
  {
   "cell_type": "markdown",
   "metadata": {},
   "source": [
    "Промежуточный вывод:\n",
    "\n",
    "Общая оценка датасетов\n",
    "\n",
    "    Объемы данных:\n",
    "\n",
    "- Orders: 290849 записей, 14 столбцов, 31.1+ MB\n",
    "- Events: 22427 записей, 11 столбцов, 1.9+ MB\n",
    "- Tenge: 357 записей, 4 столбца, 11.3+ KB\n",
    "\n",
    "    Orders:\n",
    "\n",
    "- Пропуски: обнаружены только в days_since_prev (21940 пропущенных значений)\n",
    "- Типы данных: соответствуют ожидаемым\n",
    "\n",
    "    Events:\n",
    "\n",
    "- Полнота: все поля заполнены\n",
    "\n",
    "    Tenge:\n",
    "\n",
    "- Полнота: данные за весь 2024 год\n",
    "- Стабильность: номинал фиксирован (100)\n",
    "\n",
    "    Необходимые шаги предобработки\n",
    "\n",
    "- Временные данные: преобразование created_dt_msk и created_ts_msk в datetime, преобразование data в datetime\n",
    "- Пропуски: анализ и обработка пропущенных значений в days_since_prev\n",
    "- Адреса: очистка и стандартизация venue_address"
   ]
  },
  {
   "cell_type": "markdown",
   "metadata": {},
   "source": [
    "## Предобработка данных и подготовка их к исследованию"
   ]
  },
  {
   "cell_type": "code",
   "execution_count": 5,
   "metadata": {},
   "outputs": [
    {
     "name": "stdout",
     "output_type": "stream",
     "text": [
      "order_id                     0\n",
      "user_id                      0\n",
      "created_dt_msk               0\n",
      "created_ts_msk               0\n",
      "event_id                     0\n",
      "cinema_circuit               0\n",
      "age_limit                    0\n",
      "currency_code                0\n",
      "device_type_canonical        0\n",
      "revenue                      0\n",
      "service_name                 0\n",
      "tickets_count                0\n",
      "total                        0\n",
      "days_since_prev          21940\n",
      "dtype: int64\n",
      "event_id                  0\n",
      "event_name                0\n",
      "event_type_description    0\n",
      "event_type_main           0\n",
      "organizers                0\n",
      "region_name               0\n",
      "city_name                 0\n",
      "city_id                   0\n",
      "venue_id                  0\n",
      "venue_name                0\n",
      "venue_address             0\n",
      "dtype: int64\n",
      "data       0\n",
      "nominal    0\n",
      "curs       0\n",
      "cdx        0\n",
      "dtype: int64\n"
     ]
    }
   ],
   "source": [
    "# Проверка пропусков\n",
    "print(orders.isnull().sum())\n",
    "print(events.isnull().sum())\n",
    "print(tenge.isnull().sum())"
   ]
  },
  {
   "cell_type": "markdown",
   "metadata": {},
   "source": [
    "Промежуточный вывод:\n",
    "Обнаружены пропуски только в столбце days_since_prev (21940 записей).\n",
    "Выгрузка данных из SQL прошла успешно"
   ]
  },
  {
   "cell_type": "code",
   "execution_count": 6,
   "metadata": {},
   "outputs": [
    {
     "name": "stdout",
     "output_type": "stream",
     "text": [
      "['rub' 'kzt']\n",
      "device_type_canonical\n",
      "mobile     232679\n",
      "desktop     58170\n",
      "Name: count, dtype: int64\n",
      "service_name\n",
      "Билеты без проблем        63709\n",
      "Лови билет!               41126\n",
      "Билеты в руки             40364\n",
      "Мой билет                 34843\n",
      "Облачко                   26642\n",
      "Лучшие билеты             17795\n",
      "Весь в билетах            16849\n",
      "Прачечная                 10273\n",
      "Край билетов               6207\n",
      "Тебе билет!                5228\n",
      "Яблоко                     5039\n",
      "Дом культуры               4502\n",
      "За билетом!                2865\n",
      "Городской дом культуры     2733\n",
      "Show_ticket                2200\n",
      "Мир касс                   2167\n",
      "Быстробилет                2003\n",
      "Выступления.ру             1616\n",
      "Восьмёрка                  1118\n",
      "Crazy ticket!               790\n",
      "Росбилет                    539\n",
      "Шоу начинается!             499\n",
      "Быстрый кассир              381\n",
      "Радио ticket                376\n",
      "Телебилет                   321\n",
      "КарандашРУ                  133\n",
      "Реестр                      125\n",
      "Билет по телефону            85\n",
      "Вперёд!                      80\n",
      "Дырокол                      74\n",
      "Кино билет                   67\n",
      "Цвет и билет                 61\n",
      "Тех билет                    22\n",
      "Лимоны                        8\n",
      "Зе Бест!                      5\n",
      "Билеты в интернете            4\n",
      "Name: count, dtype: int64\n",
      "cinema_circuit\n",
      "нет           289451\n",
      "Другое          1261\n",
      "КиноСити         122\n",
      "Киномакс           7\n",
      "Москино            7\n",
      "ЦентрФильм         1\n",
      "Name: count, dtype: int64\n",
      "age_limit\n",
      "16    78579\n",
      "12    62557\n",
      "0     61487\n",
      "6     52173\n",
      "18    36053\n",
      "Name: count, dtype: int64\n"
     ]
    }
   ],
   "source": [
    "# Анализ категориальных переменных\n",
    "print(orders['currency_code'].unique())  # ['RUB']\n",
    "print(orders['device_type_canonical'].value_counts())\n",
    "print(orders['service_name'].value_counts())\n",
    "print(orders['cinema_circuit'].value_counts())\n",
    "print(orders['age_limit'].value_counts())"
   ]
  },
  {
   "cell_type": "code",
   "execution_count": 7,
   "metadata": {},
   "outputs": [
    {
     "name": "stdout",
     "output_type": "stream",
     "text": [
      "event_type_main\n",
      "концерты    8680\n",
      "театр       7076\n",
      "другое      4658\n",
      "спорт        872\n",
      "стендап      636\n",
      "выставки     290\n",
      "ёлки         215\n",
      "Name: count, dtype: int64\n",
      "event_type_description\n",
      "концерт                   8485\n",
      "спектакль                 6015\n",
      "событие                   4530\n",
      "шоу                        731\n",
      "спортивное мероприятие     575\n",
      "балет                      484\n",
      "мюзикл                     359\n",
      "спорт                      297\n",
      "опера                      252\n",
      "фестиваль                  212\n",
      "выставка                   209\n",
      "ёлка                       157\n",
      "цирковое шоу               112\n",
      "экскурсия                    3\n",
      "оперетта                     1\n",
      "рок-мюзикл                   1\n",
      "музыкальный спектакль        1\n",
      "снегурочка                   1\n",
      "подарок                      1\n",
      "кукольный спектакль          1\n",
      "Name: count, dtype: int64\n",
      "organizers\n",
      "№1874    121\n",
      "№1659    120\n",
      "№5024    117\n",
      "№1738    117\n",
      "№3529    113\n",
      "№4651    110\n",
      "№4549    110\n",
      "№3436    109\n",
      "№1745    104\n",
      "№4421     98\n",
      "Name: count, dtype: int64\n",
      "region_name\n",
      "Каменевский регион          5983\n",
      "Североярская область        3814\n",
      "Широковская область         1233\n",
      "Светополянский округ        1075\n",
      "Речиновская область          702\n",
      "                            ... \n",
      "Светолесский край              2\n",
      "Сосноводолинская область       2\n",
      "Лесноярский край               2\n",
      "Теплоозёрский округ            2\n",
      "Верхозёрский край              2\n",
      "Name: count, Length: 81, dtype: int64\n",
      "city_name\n",
      "Глиногорск      5778\n",
      "Озёрск          3806\n",
      "Глиноград        817\n",
      "Дальнесветск     702\n",
      "Радужнополье     695\n",
      "                ... \n",
      "Горицветск         1\n",
      "Лесополин          1\n",
      "Малиновецк         1\n",
      "Глинополин         1\n",
      "Горнолесье         1\n",
      "Name: count, Length: 352, dtype: int64\n"
     ]
    }
   ],
   "source": [
    "# Анализ типов мероприятий\n",
    "print(events['event_type_main'].value_counts())\n",
    "print(events['event_type_description'].value_counts())\n",
    "print(events['organizers'].value_counts().head(10))\n",
    "print(events['region_name'].value_counts())\n",
    "print(events['city_name'].value_counts())"
   ]
  },
  {
   "cell_type": "code",
   "execution_count": 8,
   "metadata": {},
   "outputs": [
    {
     "name": "stdout",
     "output_type": "stream",
     "text": [
      "             revenue          total\n",
      "count  290849.000000  290849.000000\n",
      "mean      625.083054    7526.465613\n",
      "std      1227.316214   15328.267730\n",
      "min       -90.760000    -358.850000\n",
      "25%       116.790000    2156.870000\n",
      "50%       355.340000    4771.390000\n",
      "75%       809.750000    8955.950000\n",
      "max     81174.540000  811745.400000\n"
     ]
    },
    {
     "data": {
      "text/plain": [
       "Text(0.5, 1.0, 'Выбросы в выручке')"
      ]
     },
     "execution_count": 8,
     "metadata": {},
     "output_type": "execute_result"
    },
    {
     "data": {
      "image/png": "[encoded data removed]",
      "text/plain": [
       "<Figure size 1400x700 with 1 Axes>"
      ]
     },
     "metadata": {},
     "output_type": "display_data"
    },
    {
     "data": {
      "image/png": "[encoded data removed]",
      "text/plain": [
       "<Figure size 1400x700 with 1 Axes>"
      ]
     },
     "metadata": {},
     "output_type": "display_data"
    }
   ],
   "source": [
    "# Статистика по выручке\n",
    "print(orders[['revenue', 'total']].describe())\n",
    "\n",
    "# Гистограмма распределения\n",
    "plt.figure(figsize=(14, 7))\n",
    "sns.histplot(data=orders, x='revenue', bins=100)\n",
    "plt.title('Распределение выручки')\n",
    "plt.xscale('log')\n",
    "\n",
    "# Анализ выбросов\n",
    "plt.figure(figsize=(14, 7))\n",
    "sns.boxplot(x=orders['revenue'])\n",
    "plt.title('Выбросы в выручке')"
   ]
  },
  {
   "cell_type": "code",
   "execution_count": 9,
   "metadata": {},
   "outputs": [
    {
     "name": "stdout",
     "output_type": "stream",
     "text": [
      "count    290849.000000\n",
      "mean          2.754230\n",
      "std           1.170467\n",
      "min           1.000000\n",
      "25%           2.000000\n",
      "50%           3.000000\n",
      "75%           4.000000\n",
      "max          57.000000\n",
      "Name: tickets_count, dtype: float64\n"
     ]
    },
    {
     "data": {
      "text/plain": [
       "Text(0.5, 1.0, 'Выбросы в количестве билетов')"
      ]
     },
     "execution_count": 9,
     "metadata": {},
     "output_type": "execute_result"
    },
    {
     "data": {
      "image/png": "[encoded data removed]",
      "text/plain": [
       "<Figure size 1400x700 with 1 Axes>"
      ]
     },
     "metadata": {},
     "output_type": "display_data"
    },
    {
     "data": {
      "image/png": "[encoded data removed]",
      "text/plain": [
       "<Figure size 1400x700 with 1 Axes>"
      ]
     },
     "metadata": {},
     "output_type": "display_data"
    }
   ],
   "source": [
    "# Определение 99-го процентиля\n",
    "revenue_99th_percentile = orders['revenue'].quantile(0.99)\n",
    "\n",
    "# Фильтрация по 99-му процентилю\n",
    "filtered_orders = orders[orders['revenue'] <= revenue_99th_percentile]\n",
    "\n",
    "# Статистика по количеству билетов\n",
    "print(orders['tickets_count'].describe())\n",
    "\n",
    "# Гистограмма\n",
    "plt.figure(figsize=(14, 7))\n",
    "sns.histplot(data=orders, x='tickets_count', bins=30)\n",
    "plt.title('Распределение количества билетов')\n",
    "\n",
    "# Анализ выбросов\n",
    "plt.figure(figsize=(14, 7))\n",
    "sns.boxplot(x=orders['tickets_count'])\n",
    "plt.title('Выбросы в количестве билетов')"
   ]
  },
  {
   "cell_type": "markdown",
   "metadata": {},
   "source": [
    "Промежуточный вывод:\n",
    "\n",
    "    Основные находки:\n",
    "\n",
    "- Данные в целом корректны\n",
    "- Выявлены выбросы в выручке\n",
    "- Обнаружены аномально большие значения в количестве билетов\n",
    "- Категориальные переменные имеют ожидаемые значения"
   ]
  },
  {
   "cell_type": "code",
   "execution_count": 10,
   "metadata": {},
   "outputs": [
    {
     "name": "stdout",
     "output_type": "stream",
     "text": [
      "Количество явных дубликатов: 0\n",
      "Количество неявных дубликатов для однобилетных бронирований: 81\n",
      "Примеры неявных дубликатов:\n",
      "        event_id       created_ts_msk  revenue    total currency_code\n",
      "259940     81165  2024-07-28 12:50:38    40.84   510.46           rub\n",
      "259941     81165  2024-07-28 12:50:38    40.84   510.46           rub\n",
      "11777     183706  2024-08-13 16:31:07    69.82   997.48           rub\n",
      "11778     183706  2024-08-13 16:31:07    69.82   997.48           rub\n",
      "154170    298035  2024-08-23 14:08:19   126.84  3170.95           rub\n",
      "...          ...                  ...      ...      ...           ...\n",
      "99976     589957  2024-10-31 22:03:45   298.76  2133.99           rub\n",
      "229646    589957  2024-10-31 22:51:15   298.76  2133.99           rub\n",
      "248571    589957  2024-10-31 22:51:15   298.76  2133.99           rub\n",
      "242418    589957  2024-10-31 23:01:45   298.76  2133.99           rub\n",
      "259588    589957  2024-10-31 23:01:45   298.76  2133.99           rub\n",
      "\n",
      "[81 rows x 5 columns]\n",
      "\n",
      "Анализ временных промежутков между дубликатами:\n",
      "count                 41\n",
      "mean     0 days 00:00:00\n",
      "std      0 days 00:00:00\n",
      "min      0 days 00:00:00\n",
      "25%      0 days 00:00:00\n",
      "50%      0 days 00:00:00\n",
      "75%      0 days 00:00:00\n",
      "max      0 days 00:00:00\n",
      "Name: time_diff, dtype: object\n",
      "Общее количество неявных дубликатов: 58\n"
     ]
    }
   ],
   "source": [
    "import warnings\n",
    "warnings.filterwarnings('ignore')\n",
    "# Проверка явных дубликатов\n",
    "print(\"Количество явных дубликатов:\", orders.duplicated().sum())\n",
    "\n",
    "# Фильтруем только записи с одним билетом\n",
    "single_ticket_orders = orders[orders['tickets_count'] == 1]\n",
    "\n",
    "# Проверяем неявные дубликаты только по ключевым полям бронирования одного билета\n",
    "duplicate_mask = single_ticket_orders[['event_id', 'created_ts_msk', 'revenue', 'total', 'currency_code']].duplicated(keep=False)\n",
    "\n",
    "# Количество неявных дубликатов для однобилетных бронирований\n",
    "print(\"Количество неявных дубликатов для однобилетных бронирований:\", duplicate_mask.sum())\n",
    "\n",
    "# Просмотр примеров неявных дубликатов\n",
    "if duplicate_mask.sum() > 0:\n",
    "    duplicate_rows = single_ticket_orders[duplicate_mask]\n",
    "    print(\"Примеры неявных дубликатов:\")\n",
    "    print(duplicate_rows[['event_id', 'created_ts_msk', 'revenue', 'total', 'currency_code']].sort_values(by=['event_id', 'created_ts_msk']))\n",
    "\n",
    "# Анализ временных промежутков между дубликатами\n",
    "if duplicate_mask.sum() > 0:\n",
    "    # Проверяем и конвертируем тип данных столбца\n",
    "    if not pd.api.types.is_datetime64_any_dtype(duplicate_rows['created_ts_msk']):\n",
    "        duplicate_rows['created_ts_msk'] = pd.to_datetime(duplicate_rows['created_ts_msk'])\n",
    "    \n",
    "    duplicate_rows['time_diff'] = duplicate_rows.groupby(['event_id', 'created_ts_msk'])['created_ts_msk'].diff()\n",
    "    print(\"\\nАнализ временных промежутков между дубликатами:\")\n",
    "    print(duplicate_rows['time_diff'].describe())\n",
    "\n",
    "    \n",
    "# Проверяем неявные дубликаты по всем полям, кроме order_id\n",
    "duplicate_mask = orders.drop(columns=['order_id']).duplicated(keep=False)\n",
    "\n",
    "# Количество неявных дубликатов\n",
    "print(\"Общее количество неявных дубликатов:\", duplicate_mask.sum())\n",
    "\n",
    "    "
   ]
  },
  {
   "cell_type": "code",
   "execution_count": 11,
   "metadata": {
    "scrolled": true
   },
   "outputs": [
    {
     "name": "stdout",
     "output_type": "stream",
     "text": [
      "Общее количество неявных дубликатов: 58\n",
      "Примеры неявных дубликатов:\n",
      "        order_id          user_id created_dt_msk       created_ts_msk  \\\n",
      "11777    1123983  06eb7897f65b433     2024-08-13  2024-08-13 16:31:07   \n",
      "11778    1123867  06eb7897f65b433     2024-08-13  2024-08-13 16:31:07   \n",
      "57217     160922  2564e3703075008     2024-10-30  2024-10-30 10:04:15   \n",
      "57220     160893  2564e3703075008     2024-10-30  2024-10-30 10:04:15   \n",
      "84010    3363711  3ee7dc2e115847f     2024-06-25  2024-06-25 07:32:08   \n",
      "84015    3363798  3ee7dc2e115847f     2024-06-25  2024-06-25 07:32:08   \n",
      "148473   2324032  7b525118ae656af     2024-10-28  2024-10-28 08:33:04   \n",
      "148477   2323916  7b525118ae656af     2024-10-28  2024-10-28 08:33:04   \n",
      "154170   5372628  7eb4fc207ecc10f     2024-08-23  2024-08-23 14:08:19   \n",
      "154173   5372831  7eb4fc207ecc10f     2024-08-23  2024-08-23 14:08:19   \n",
      "154178   5373179  7eb4fc207ecc10f     2024-08-23  2024-08-23 14:08:19   \n",
      "154981   3463732  7eb4fc207ecc10f     2024-09-21  2024-09-21 11:43:58   \n",
      "154993   3463819  7eb4fc207ecc10f     2024-09-21  2024-09-21 11:43:58   \n",
      "156213   6657937  7eb4fc207ecc10f     2024-10-26  2024-10-26 09:39:03   \n",
      "156215   6657995  7eb4fc207ecc10f     2024-10-26  2024-10-26 09:39:03   \n",
      "174481    312621  8d6c1ff89fac35f     2024-10-31  2024-10-31 22:28:57   \n",
      "174584   6114564  8d6c1ff89fac35f     2024-10-31  2024-10-31 22:28:57   \n",
      "176438   8248268  8f95286aa5fd8d7     2024-06-20  2024-06-20 10:57:19   \n",
      "176439   8248210  8f95286aa5fd8d7     2024-06-20  2024-06-20 10:57:19   \n",
      "177607   6431041  9103be7b790235f     2024-08-03  2024-08-03 15:01:56   \n",
      "177608   6431070  9103be7b790235f     2024-08-03  2024-08-03 15:01:56   \n",
      "181790   1799219  9402cc20d69d44f     2024-09-30  2024-09-30 21:35:37   \n",
      "181791   1799248  9402cc20d69d44f     2024-09-30  2024-09-30 21:35:37   \n",
      "192882   7299649  a0384c26d91e09e     2024-08-24  2024-08-24 00:07:14   \n",
      "192883   7299678  a0384c26d91e09e     2024-08-24  2024-08-24 00:07:14   \n",
      "200453   6001812  a6e25611c394f8c     2024-10-04  2024-10-04 10:11:25   \n",
      "200458   6002015  a6e25611c394f8c     2024-10-04  2024-10-04 10:11:25   \n",
      "228554   2768196  c2c6d35ff678ca6     2024-08-06  2024-08-06 13:26:42   \n",
      "228555   2768167  c2c6d35ff678ca6     2024-08-06  2024-08-06 13:26:42   \n",
      "228559   2768051  c2c6d35ff678ca6     2024-08-06  2024-08-06 13:26:42   \n",
      "228561   2767964  c2c6d35ff678ca6     2024-08-06  2024-08-06 13:26:42   \n",
      "231603   4569560  c68f202c21433f7     2024-10-09  2024-10-09 13:58:42   \n",
      "231606   4569328  c68f202c21433f7     2024-10-09  2024-10-09 13:58:41   \n",
      "231607   4569357  c68f202c21433f7     2024-10-09  2024-10-09 13:58:42   \n",
      "231611   4569444  c68f202c21433f7     2024-10-09  2024-10-09 13:58:41   \n",
      "231623   2411061  c68f202c21433f7     2024-10-16  2024-10-16 17:20:16   \n",
      "231626   2410887  c68f202c21433f7     2024-10-16  2024-10-16 17:20:16   \n",
      "232673   1585808  c7a762e320f0def     2024-06-19  2024-06-19 11:07:59   \n",
      "232676   7927528  c7a762e320f0def     2024-06-19  2024-06-19 11:07:59   \n",
      "234814   8237161  c96b961916a84fb     2024-10-26  2024-10-26 15:06:16   \n",
      "234818   8237045  c96b961916a84fb     2024-10-26  2024-10-26 15:06:16   \n",
      "237733   2321712  cbe06d8837e87fb     2024-10-01  2024-10-01 11:20:05   \n",
      "237736    602012  cbe06d8837e87fb     2024-10-01  2024-10-01 11:20:05   \n",
      "237738   4739065  cbe06d8837e87fb     2024-10-01  2024-10-01 11:11:17   \n",
      "237742   6597994  cbe06d8837e87fb     2024-10-01  2024-10-01 11:11:17   \n",
      "241381   5571220  cdbc02c6ad8087a     2024-10-01  2024-10-01 11:36:30   \n",
      "241393   5875662  cdbc02c6ad8087a     2024-10-01  2024-10-01 11:36:30   \n",
      "255428   7229817  de88a121becea97     2024-09-21  2024-09-21 17:21:18   \n",
      "255429   7229759  de88a121becea97     2024-09-21  2024-09-21 17:21:18   \n",
      "259940    588411  e333b28575ed7f9     2024-07-28  2024-07-28 12:50:38   \n",
      "259941    589252  e333b28575ed7f9     2024-07-28  2024-07-28 12:50:38   \n",
      "285612   8547809  fd4d47438ebb946     2024-06-19  2024-06-19 15:40:56   \n",
      "285614   8547983  fd4d47438ebb946     2024-06-19  2024-06-19 15:40:56   \n",
      "285615   8548012  fd4d47438ebb946     2024-06-19  2024-06-19 15:40:56   \n",
      "285617   8548041  fd4d47438ebb946     2024-06-19  2024-06-19 15:40:50   \n",
      "285618   8548070  fd4d47438ebb946     2024-06-19  2024-06-19 15:40:50   \n",
      "285619   8548099  fd4d47438ebb946     2024-06-19  2024-06-19 15:40:56   \n",
      "285622   8547867  fd4d47438ebb946     2024-06-19  2024-06-19 15:40:56   \n",
      "\n",
      "        event_id cinema_circuit  age_limit currency_code  \\\n",
      "11777     183706            нет         18           rub   \n",
      "11778     183706            нет         18           rub   \n",
      "57217     589005            нет          6           rub   \n",
      "57220     589005            нет          6           rub   \n",
      "84010     277504            нет          6           rub   \n",
      "84015     277504            нет          6           rub   \n",
      "148473    588203            нет          0           rub   \n",
      "148477    588203            нет          0           rub   \n",
      "154170    298035            нет          6           rub   \n",
      "154173    298035            нет          6           rub   \n",
      "154178    298035            нет          6           rub   \n",
      "154981    448579            нет          0           rub   \n",
      "154993    448579            нет          0           rub   \n",
      "156213    418836            нет          0           rub   \n",
      "156215    418836            нет          0           rub   \n",
      "174481    589624            нет         16           rub   \n",
      "174584    589624            нет         16           rub   \n",
      "176438    244875            нет          0           rub   \n",
      "176439    244875            нет          0           rub   \n",
      "177607    410465            нет          0           rub   \n",
      "177608    410465            нет          0           rub   \n",
      "181790    540784            нет          6           rub   \n",
      "181791    540784            нет          6           rub   \n",
      "192882    534657            нет         16           rub   \n",
      "192883    534657            нет         16           rub   \n",
      "200453    514735            нет         12           rub   \n",
      "200458    514735            нет         12           rub   \n",
      "228554    379268            нет          0           rub   \n",
      "228555    379268            нет          0           rub   \n",
      "228559    379268            нет          0           rub   \n",
      "228561    379268            нет          0           rub   \n",
      "231603    578715            нет         12           rub   \n",
      "231606    578715            нет         12           rub   \n",
      "231607    578715            нет         12           rub   \n",
      "231611    578715            нет         12           rub   \n",
      "231623    469657            нет          6           rub   \n",
      "231626    469657            нет          6           rub   \n",
      "232673    538926            нет         18           rub   \n",
      "232676    538926            нет         18           rub   \n",
      "234814    551137            нет         12           rub   \n",
      "234818    551137            нет         12           rub   \n",
      "237733    574431            нет          0           rub   \n",
      "237736    574431            нет          0           rub   \n",
      "237738    574431            нет          0           rub   \n",
      "237742    574431            нет          0           rub   \n",
      "241381    574431            нет          0           rub   \n",
      "241393    574431            нет          0           rub   \n",
      "255428    571963            нет          6           rub   \n",
      "255429    571963            нет          6           rub   \n",
      "259940     81165            нет         12           rub   \n",
      "259941     81165            нет         12           rub   \n",
      "285612    489843            нет         18           rub   \n",
      "285614    489843            нет         18           rub   \n",
      "285615    489843            нет         18           rub   \n",
      "285617    489843            нет         18           rub   \n",
      "285618    489843            нет         18           rub   \n",
      "285619    489843            нет         18           rub   \n",
      "285622    489843            нет         18           rub   \n",
      "\n",
      "       device_type_canonical  revenue        service_name  tickets_count  \\\n",
      "11777                 mobile    69.82       Билеты в руки              1   \n",
      "11778                 mobile    69.82       Билеты в руки              1   \n",
      "57217                 mobile    11.23         Лови билет!              2   \n",
      "57220                 mobile    11.23         Лови билет!              2   \n",
      "84010                 mobile    59.19       Билеты в руки              3   \n",
      "84015                 mobile    59.19       Билеты в руки              3   \n",
      "148473                mobile    26.96       Лучшие билеты              4   \n",
      "148477                mobile    26.96       Лучшие билеты              4   \n",
      "154170                mobile   126.84  Билеты без проблем              1   \n",
      "154173                mobile   126.84  Билеты без проблем              1   \n",
      "154178                mobile   126.84  Билеты без проблем              1   \n",
      "154981                mobile     2.54         Лови билет!              1   \n",
      "154993                mobile     2.54         Лови билет!              1   \n",
      "156213                mobile   294.85         Лови билет!              3   \n",
      "156215                mobile   294.85         Лови билет!              3   \n",
      "174481               desktop    41.83           Мой билет              1   \n",
      "174584               desktop    41.83           Мой билет              1   \n",
      "176438                mobile    15.73         Лови билет!              3   \n",
      "176439                mobile    15.73         Лови билет!              3   \n",
      "177607                mobile   685.12           Мой билет              2   \n",
      "177608                mobile   685.12           Мой билет              2   \n",
      "181790               desktop   177.04         За билетом!              2   \n",
      "181791               desktop   177.04         За билетом!              2   \n",
      "192882                mobile   679.21         Быстробилет              2   \n",
      "192883                mobile   679.21         Быстробилет              2   \n",
      "200453                mobile   259.64       Лучшие билеты              3   \n",
      "200458                mobile   259.64       Лучшие билеты              3   \n",
      "228554                mobile    87.02  Билеты без проблем              4   \n",
      "228555                mobile   108.77  Билеты без проблем              5   \n",
      "228559                mobile    87.02  Билеты без проблем              4   \n",
      "228561                mobile   108.77  Билеты без проблем              5   \n",
      "231603                mobile    38.21  Билеты без проблем              1   \n",
      "231606                mobile    38.21  Билеты без проблем              1   \n",
      "231607                mobile    38.21  Билеты без проблем              1   \n",
      "231611                mobile    38.21  Билеты без проблем              1   \n",
      "231623                mobile    12.64  Билеты без проблем              1   \n",
      "231626                mobile    12.64  Билеты без проблем              1   \n",
      "232673                mobile     0.00  Билеты без проблем              3   \n",
      "232676                mobile     0.00  Билеты без проблем              3   \n",
      "234814                mobile  1044.19  Билеты без проблем              3   \n",
      "234818                mobile  1044.19  Билеты без проблем              3   \n",
      "237733               desktop   155.99       Билеты в руки              4   \n",
      "237736               desktop   155.99       Билеты в руки              4   \n",
      "237738               desktop   155.99       Билеты в руки              4   \n",
      "237742               desktop   155.99       Билеты в руки              4   \n",
      "241381               desktop   116.99       Билеты в руки              3   \n",
      "241393               desktop   116.99       Билеты в руки              3   \n",
      "255428                mobile  1065.84           Мой билет              2   \n",
      "255429                mobile  1065.84           Мой билет              2   \n",
      "259940                mobile    40.84         Тебе билет!              1   \n",
      "259941                mobile    40.84         Тебе билет!              1   \n",
      "285612               desktop   989.57  Билеты без проблем              3   \n",
      "285614               desktop  1319.43  Билеты без проблем              4   \n",
      "285615               desktop  1319.43  Билеты без проблем              4   \n",
      "285617               desktop   989.57  Билеты без проблем              3   \n",
      "285618               desktop   989.57  Билеты без проблем              3   \n",
      "285619               desktop   989.57  Билеты без проблем              3   \n",
      "285622               desktop  1319.43  Билеты без проблем              4   \n",
      "\n",
      "           total  days_since_prev  \n",
      "11777     997.48              0.0  \n",
      "11778     997.48              0.0  \n",
      "57217     280.81              0.0  \n",
      "57220     280.81              0.0  \n",
      "84010     739.85              0.0  \n",
      "84015     739.85              0.0  \n",
      "148473    674.12              0.0  \n",
      "148477    674.12              0.0  \n",
      "154170   3170.95              0.0  \n",
      "154173   3170.95              0.0  \n",
      "154178   3170.95              0.0  \n",
      "154981     84.82              0.0  \n",
      "154993     84.82              0.0  \n",
      "156213   4914.21              0.0  \n",
      "156215   4914.21              0.0  \n",
      "174481   1045.75              0.0  \n",
      "174584   1045.75              0.0  \n",
      "176438    524.39              0.0  \n",
      "176439    524.39              0.0  \n",
      "177607   5709.34              0.0  \n",
      "177608   5709.34              0.0  \n",
      "181790   2529.11              0.0  \n",
      "181791   2529.11              0.0  \n",
      "192882   5224.70              0.0  \n",
      "192883   5224.70              0.0  \n",
      "200453   2596.43              0.0  \n",
      "200458   2596.43              0.0  \n",
      "228554   4350.98              0.0  \n",
      "228555   5438.72              0.0  \n",
      "228559   4350.98              0.0  \n",
      "228561   5438.72              0.0  \n",
      "231603    764.25              0.0  \n",
      "231606    764.25              0.0  \n",
      "231607    764.25              0.0  \n",
      "231611    764.25              0.0  \n",
      "231623    421.17              0.0  \n",
      "231626    421.17              0.0  \n",
      "232673      0.00              0.0  \n",
      "232676      0.00              0.0  \n",
      "234814  13052.41              0.0  \n",
      "234818  13052.41              0.0  \n",
      "237733   3899.74              0.0  \n",
      "237736   3899.74              0.0  \n",
      "237738   3899.74              0.0  \n",
      "237742   3899.74              0.0  \n",
      "241381   2924.80              0.0  \n",
      "241393   2924.80              0.0  \n",
      "255428   8881.97              0.0  \n",
      "255429   8881.97              0.0  \n",
      "259940    510.46              0.0  \n",
      "259941    510.46              0.0  \n",
      "285612  10995.23              0.0  \n",
      "285614  14660.31              0.0  \n",
      "285615  14660.31              0.0  \n",
      "285617  10995.23              0.0  \n",
      "285618  10995.23              0.0  \n",
      "285619  10995.23              0.0  \n",
      "285622  14660.31              0.0  \n",
      "\n",
      "Анализ временных промежутков между дубликатами:\n",
      "count                           36\n",
      "mean     0 days 00:00:27.333333333\n",
      "std      0 days 00:04:29.450870157\n",
      "min              -1 days +23:51:12\n",
      "25%                0 days 00:00:00\n",
      "50%                0 days 00:00:00\n",
      "75%                0 days 00:00:00\n",
      "max                0 days 00:25:13\n",
      "Name: time_diff, dtype: object\n"
     ]
    }
   ],
   "source": [
    "# Проверяем неявные дубликаты по всем полям, кроме order_id\n",
    "duplicate_mask = orders.drop(columns=['order_id']).duplicated(keep=False)\n",
    "\n",
    "# Количество неявных дубликатов\n",
    "print(\"Общее количество неявных дубликатов:\", duplicate_mask.sum())\n",
    "\n",
    "# Просмотр примеров\n",
    "if duplicate_mask.sum() > 0:\n",
    "    duplicate_rows = orders[duplicate_mask]\n",
    "    print(\"Примеры неявных дубликатов:\")\n",
    "    print(duplicate_rows)\n",
    "# Анализ временных промежутков между дубликатами\n",
    "if duplicate_mask.sum() > 0:\n",
    "    duplicate_rows['created_ts_msk'] = pd.to_datetime(duplicate_rows['created_ts_msk'])\n",
    "    duplicate_rows['time_diff'] = duplicate_rows.groupby(['event_id'])['created_ts_msk'].diff()\n",
    "    print(\"\\nАнализ временных промежутков между дубликатами:\")\n",
    "    print(duplicate_rows['time_diff'].describe())\n"
   ]
  },
  {
   "cell_type": "markdown",
   "metadata": {},
   "source": [
    "Количество дубликатов: 58 записей\n",
    "\n",
    "    На основе анализа данных можно сделать следующие выводы:\n",
    "\n",
    "    Временные промежутки:\n",
    "- 41 запись имеет нулевую разницу во времени (одновременные записи) \n",
    "это явные технические ошибки\n",
    "\n",
    "    Дубликаты с нулевой разницей во времени:\n",
    "Это технические ошибки, их нужно удалить"
   ]
  },
  {
   "cell_type": "code",
   "execution_count": 12,
   "metadata": {},
   "outputs": [
    {
     "name": "stdout",
     "output_type": "stream",
     "text": [
      "Количество оставшихся дубликатов: 0\n"
     ]
    }
   ],
   "source": [
    "#  Удаляем явные дубликаты\n",
    "orders = orders.drop_duplicates()\n",
    "\n",
    "#  Фильтруем записи с одним билетом\n",
    "single_ticket_orders = orders[orders['tickets_count'] == 1]\n",
    "\n",
    "#  Удаляем дубликаты с одинаковым временем\n",
    "# Группируем по важным полям и оставляем только первые записи\n",
    "orders = single_ticket_orders.groupby(['event_id', 'created_ts_msk', 'revenue', 'total', 'currency_code']).first().reset_index()\n",
    "\n",
    "#  Перепроверяем количество дубликатов\n",
    "print(\"Количество оставшихся дубликатов:\", orders.duplicated().sum())\n"
   ]
  },
  {
   "cell_type": "markdown",
   "metadata": {},
   "source": [
    "Промежуточный вывод:\n",
    "Мы удалили неявные дубликаты с одинаковым временем "
   ]
  },
  {
   "cell_type": "code",
   "execution_count": 13,
   "metadata": {},
   "outputs": [
    {
     "name": "stdout",
     "output_type": "stream",
     "text": [
      "Типы данных до оптимизации:\n",
      "event_id                   int64\n",
      "created_ts_msk            object\n",
      "revenue                  float64\n",
      "total                    float64\n",
      "currency_code             object\n",
      "order_id                   int64\n",
      "user_id                   object\n",
      "created_dt_msk            object\n",
      "cinema_circuit            object\n",
      "age_limit                  int64\n",
      "device_type_canonical     object\n",
      "service_name              object\n",
      "tickets_count              int64\n",
      "days_since_prev          float64\n",
      "dtype: object\n",
      "Типы данных после оптимизации:\n",
      "event_id                          int32\n",
      "created_ts_msk           datetime64[ns]\n",
      "revenue                         float32\n",
      "total                           float32\n",
      "currency_code                    object\n",
      "order_id                          int32\n",
      "user_id                          object\n",
      "created_dt_msk                   object\n",
      "cinema_circuit                   object\n",
      "age_limit                         int32\n",
      "device_type_canonical            object\n",
      "service_name                     object\n",
      "tickets_count                     int32\n",
      "days_since_prev                 float32\n",
      "created_date                     object\n",
      "created_hour                      int32\n",
      "dtype: object\n",
      "\n",
      "Размер датасета: 3.8251991271972656 MB\n"
     ]
    }
   ],
   "source": [
    "print(\"Типы данных до оптимизации:\")\n",
    "print(orders.dtypes)\n",
    "# Преобразуем временные метки\n",
    "orders['created_ts_msk'] = pd.to_datetime(orders['created_ts_msk'])\n",
    "\n",
    "# Оптимизируем числовые типы\n",
    "# Для целочисленных полей используем int32\n",
    "for col in orders.select_dtypes(include='int').columns:\n",
    "    orders[col] = orders[col].astype('int32')\n",
    "\n",
    "# Для float полей используем float32\n",
    "for col in orders.select_dtypes(include='float').columns:\n",
    "    orders[col] = orders[col].astype('float32')\n",
    "\n",
    "# Создаем базовые временные атрибуты\n",
    "orders['created_date'] = orders['created_ts_msk'].dt.date\n",
    "orders['created_hour'] = orders['created_ts_msk'].dt.hour\n",
    "\n",
    "# Проверяем результат\n",
    "print(\"Типы данных после оптимизации:\")\n",
    "print(orders.dtypes)\n",
    "\n",
    "print(\"\\nРазмер датасета:\", orders.memory_usage().sum() / 1024**2, \"MB\")\n"
   ]
  },
  {
   "cell_type": "markdown",
   "metadata": {},
   "source": [
    "Промежуточный вывод:\n",
    "\n",
    "Основные изменения типов данных:\n",
    "\n",
    "- Целочисленные поля (event_id, order_id, age_limit, tickets_count) с int64 → int32\n",
    "- Числовые поля (revenue, total, days_since_prev) с float64 → float32\n",
    "- Дата и время (created_ts_msk) с object → datetime64[ns]\n",
    "- Добавлены новые поля: created_date (object), created_hour (int64)\n",
    "\n",
    "    Результаты оптимизации:\n",
    "\n",
    "Размер датасета остался практически неизменным: 3.98 MB\n",
    "Ожидаемого значительного уменьшения размера не произошло"
   ]
  },
  {
   "cell_type": "code",
   "execution_count": 14,
   "metadata": {},
   "outputs": [
    {
     "name": "stdout",
     "output_type": "stream",
     "text": [
      "      revenue currency_code  curs  revenue_rub  one_ticket_revenue_rub  month  \\\n",
      "0  212.039993           rub   NaN   212.039993              212.039993      9   \n",
      "1  212.039993           rub   NaN   212.039993              212.039993     10   \n",
      "2   59.160000           rub   NaN    59.160000               59.160000     10   \n",
      "3   59.160000           rub   NaN    59.160000               59.160000     10   \n",
      "4  702.630005           rub   NaN   702.630005              702.630005      7   \n",
      "\n",
      "  season  \n",
      "0  осень  \n",
      "1  осень  \n",
      "2  осень  \n",
      "3  осень  \n",
      "4   лето  \n",
      "Исходный размер датасета orders: 41780\n",
      "Размер после объединения с курсами: 41780\n",
      "\n",
      "Пропущенные значения:\n",
      "В revenue_rub: 667\n",
      "В курсе (curs): 41779\n"
     ]
    },
    {
     "data": {
      "text/html": [
       "<div>\n",
       "<style scoped>\n",
       "    .dataframe tbody tr th:only-of-type {\n",
       "        vertical-align: middle;\n",
       "    }\n",
       "\n",
       "    .dataframe tbody tr th {\n",
       "        vertical-align: top;\n",
       "    }\n",
       "\n",
       "    .dataframe thead th {\n",
       "        text-align: right;\n",
       "    }\n",
       "</style>\n",
       "<table border=\"1\" class=\"dataframe\">\n",
       "  <thead>\n",
       "    <tr style=\"text-align: right;\">\n",
       "      <th></th>\n",
       "      <th>created_ts_msk</th>\n",
       "      <th>event_id</th>\n",
       "      <th>revenue</th>\n",
       "      <th>total</th>\n",
       "      <th>currency_code</th>\n",
       "      <th>order_id</th>\n",
       "      <th>user_id</th>\n",
       "      <th>created_dt_msk</th>\n",
       "      <th>cinema_circuit</th>\n",
       "      <th>age_limit</th>\n",
       "      <th>...</th>\n",
       "      <th>service_name</th>\n",
       "      <th>tickets_count</th>\n",
       "      <th>days_since_prev</th>\n",
       "      <th>created_date</th>\n",
       "      <th>created_hour</th>\n",
       "      <th>curs</th>\n",
       "      <th>revenue_rub</th>\n",
       "      <th>one_ticket_revenue_rub</th>\n",
       "      <th>month</th>\n",
       "      <th>season</th>\n",
       "    </tr>\n",
       "  </thead>\n",
       "  <tbody>\n",
       "    <tr>\n",
       "      <th>0</th>\n",
       "      <td>2024-09-17 15:42:05</td>\n",
       "      <td>4436</td>\n",
       "      <td>212.039993</td>\n",
       "      <td>2120.419922</td>\n",
       "      <td>rub</td>\n",
       "      <td>544911</td>\n",
       "      <td>c2c6d35ff678ca6</td>\n",
       "      <td>2024-09-17</td>\n",
       "      <td>нет</td>\n",
       "      <td>16</td>\n",
       "      <td>...</td>\n",
       "      <td>Лови билет!</td>\n",
       "      <td>1</td>\n",
       "      <td>1.0</td>\n",
       "      <td>2024-09-17</td>\n",
       "      <td>15</td>\n",
       "      <td>NaN</td>\n",
       "      <td>212.039993</td>\n",
       "      <td>212.039993</td>\n",
       "      <td>9</td>\n",
       "      <td>осень</td>\n",
       "    </tr>\n",
       "    <tr>\n",
       "      <th>1</th>\n",
       "      <td>2024-10-27 22:11:03</td>\n",
       "      <td>4436</td>\n",
       "      <td>212.039993</td>\n",
       "      <td>2120.419922</td>\n",
       "      <td>rub</td>\n",
       "      <td>4477195</td>\n",
       "      <td>0beb8fc0c0a9ce1</td>\n",
       "      <td>2024-10-27</td>\n",
       "      <td>нет</td>\n",
       "      <td>16</td>\n",
       "      <td>...</td>\n",
       "      <td>Лови билет!</td>\n",
       "      <td>1</td>\n",
       "      <td>0.0</td>\n",
       "      <td>2024-10-27</td>\n",
       "      <td>22</td>\n",
       "      <td>NaN</td>\n",
       "      <td>212.039993</td>\n",
       "      <td>212.039993</td>\n",
       "      <td>10</td>\n",
       "      <td>осень</td>\n",
       "    </tr>\n",
       "    <tr>\n",
       "      <th>2</th>\n",
       "      <td>2024-10-08 14:09:05</td>\n",
       "      <td>5785</td>\n",
       "      <td>59.160000</td>\n",
       "      <td>739.440002</td>\n",
       "      <td>rub</td>\n",
       "      <td>6271454</td>\n",
       "      <td>fe237d2cfd6e503</td>\n",
       "      <td>2024-10-08</td>\n",
       "      <td>нет</td>\n",
       "      <td>6</td>\n",
       "      <td>...</td>\n",
       "      <td>Лови билет!</td>\n",
       "      <td>1</td>\n",
       "      <td>0.0</td>\n",
       "      <td>2024-10-08</td>\n",
       "      <td>14</td>\n",
       "      <td>NaN</td>\n",
       "      <td>59.160000</td>\n",
       "      <td>59.160000</td>\n",
       "      <td>10</td>\n",
       "      <td>осень</td>\n",
       "    </tr>\n",
       "    <tr>\n",
       "      <th>3</th>\n",
       "      <td>2024-10-08 14:11:27</td>\n",
       "      <td>5785</td>\n",
       "      <td>59.160000</td>\n",
       "      <td>739.440002</td>\n",
       "      <td>rub</td>\n",
       "      <td>6271425</td>\n",
       "      <td>fe237d2cfd6e503</td>\n",
       "      <td>2024-10-08</td>\n",
       "      <td>нет</td>\n",
       "      <td>6</td>\n",
       "      <td>...</td>\n",
       "      <td>Лови билет!</td>\n",
       "      <td>1</td>\n",
       "      <td>0.0</td>\n",
       "      <td>2024-10-08</td>\n",
       "      <td>14</td>\n",
       "      <td>NaN</td>\n",
       "      <td>59.160000</td>\n",
       "      <td>59.160000</td>\n",
       "      <td>10</td>\n",
       "      <td>осень</td>\n",
       "    </tr>\n",
       "    <tr>\n",
       "      <th>4</th>\n",
       "      <td>2024-07-10 19:57:33</td>\n",
       "      <td>8849</td>\n",
       "      <td>702.630005</td>\n",
       "      <td>7026.259766</td>\n",
       "      <td>rub</td>\n",
       "      <td>1858002</td>\n",
       "      <td>7aeb0ca2fc1d6a5</td>\n",
       "      <td>2024-07-10</td>\n",
       "      <td>нет</td>\n",
       "      <td>16</td>\n",
       "      <td>...</td>\n",
       "      <td>Прачечная</td>\n",
       "      <td>1</td>\n",
       "      <td>8.0</td>\n",
       "      <td>2024-07-10</td>\n",
       "      <td>19</td>\n",
       "      <td>NaN</td>\n",
       "      <td>702.630005</td>\n",
       "      <td>702.630005</td>\n",
       "      <td>7</td>\n",
       "      <td>лето</td>\n",
       "    </tr>\n",
       "  </tbody>\n",
       "</table>\n",
       "<p>5 rows × 21 columns</p>\n",
       "</div>"
      ],
      "text/plain": [
       "       created_ts_msk  event_id     revenue        total currency_code  \\\n",
       "0 2024-09-17 15:42:05      4436  212.039993  2120.419922           rub   \n",
       "1 2024-10-27 22:11:03      4436  212.039993  2120.419922           rub   \n",
       "2 2024-10-08 14:09:05      5785   59.160000   739.440002           rub   \n",
       "3 2024-10-08 14:11:27      5785   59.160000   739.440002           rub   \n",
       "4 2024-07-10 19:57:33      8849  702.630005  7026.259766           rub   \n",
       "\n",
       "   order_id          user_id created_dt_msk cinema_circuit  age_limit  ...  \\\n",
       "0    544911  c2c6d35ff678ca6     2024-09-17            нет         16  ...   \n",
       "1   4477195  0beb8fc0c0a9ce1     2024-10-27            нет         16  ...   \n",
       "2   6271454  fe237d2cfd6e503     2024-10-08            нет          6  ...   \n",
       "3   6271425  fe237d2cfd6e503     2024-10-08            нет          6  ...   \n",
       "4   1858002  7aeb0ca2fc1d6a5     2024-07-10            нет         16  ...   \n",
       "\n",
       "  service_name tickets_count  days_since_prev  created_date created_hour  \\\n",
       "0  Лови билет!             1              1.0    2024-09-17           15   \n",
       "1  Лови билет!             1              0.0    2024-10-27           22   \n",
       "2  Лови билет!             1              0.0    2024-10-08           14   \n",
       "3  Лови билет!             1              0.0    2024-10-08           14   \n",
       "4    Прачечная             1              8.0    2024-07-10           19   \n",
       "\n",
       "   curs  revenue_rub  one_ticket_revenue_rub  month  season  \n",
       "0   NaN   212.039993              212.039993      9   осень  \n",
       "1   NaN   212.039993              212.039993     10   осень  \n",
       "2   NaN    59.160000               59.160000     10   осень  \n",
       "3   NaN    59.160000               59.160000     10   осень  \n",
       "4   NaN   702.630005              702.630005      7    лето  \n",
       "\n",
       "[5 rows x 21 columns]"
      ]
     },
     "metadata": {},
     "output_type": "display_data"
    }
   ],
   "source": [
    "# Подготовка данных\n",
    "# Преобразуем временные метки\n",
    "orders['created_ts_msk'] = pd.to_datetime(orders['created_ts_msk'])\n",
    "tenge['data'] = pd.to_datetime(tenge['data'])\n",
    "\n",
    "# Подготовка курсов валют\n",
    "# Создаем индекс по дате\n",
    "tenge.set_index('data', inplace=True)\n",
    "\n",
    "# Объединение датасетов\n",
    "# Создаем временной индекс в основном датасете\n",
    "orders.set_index('created_ts_msk', inplace=True)\n",
    "\n",
    "# Выполняем объединение по дате\n",
    "merged_data = orders.join(tenge['curs'], how='left')\n",
    "\n",
    "# Создание столбца с выручкой в рублях\n",
    "def convert_to_rub(row):\n",
    "    if row['currency_code'] == 'rub':\n",
    "        return row['revenue']\n",
    "    elif row['currency_code'] == 'kzt':\n",
    "        # Используем уже объединенный курс\n",
    "        return row['revenue'] * row['curs'] / 100 if pd.notna(row['curs']) else None\n",
    "    else:\n",
    "        return None\n",
    "\n",
    "merged_data['revenue_rub'] = merged_data.apply(convert_to_rub, axis=1)\n",
    "\n",
    "# Расчет выручки с одного билета\n",
    "merged_data['one_ticket_revenue_rub'] = merged_data['revenue_rub'] / merged_data['tickets_count']\n",
    "\n",
    "# Создание столбца с месяцем\n",
    "merged_data['month'] = merged_data.index.month\n",
    "\n",
    "# Создание столбца с сезоном\n",
    "def get_season(month):\n",
    "    if month in [12, 1, 2]:\n",
    "        return 'зима'\n",
    "    elif month in [3, 4, 5]:\n",
    "        return 'весна'\n",
    "    elif month in [6, 7, 8]:\n",
    "        return 'лето'\n",
    "    else:\n",
    "        return 'осень'\n",
    "\n",
    "merged_data['season'] = merged_data['month'].apply(get_season)\n",
    "\n",
    "# Сброс индекса и проверка\n",
    "merged_data.reset_index(inplace=True)\n",
    "\n",
    "# Проверка созданных столбцов\n",
    "print(merged_data[['revenue', 'currency_code', 'curs', 'revenue_rub', 'one_ticket_revenue_rub', 'month', 'season']].head())\n",
    "\n",
    "# Проверка размера датасета\n",
    "print(\"Исходный размер датасета orders:\", len(orders))\n",
    "print(\"Размер после объединения с курсами:\", len(merged_data))\n",
    "\n",
    "#  Проверка количества пропущенных значений\n",
    "print(\"\\nПропущенные значения:\")\n",
    "print(\"В revenue_rub:\", merged_data['revenue_rub'].isna().sum())\n",
    "print(\"В курсе (curs):\", merged_data['curs'].isna().sum())\n",
    "\n",
    "display(merged_data.head())"
   ]
  },
  {
   "cell_type": "markdown",
   "metadata": {},
   "source": [
    "Промежуточный вывод:\n",
    "\n",
    "- Преобразован формат временных меток\n",
    "- Выполнено объединение с курсами валют\n",
    "- Созданы новые столбцы для анализа\n",
    "- Выполнена конвертация валют\n",
    "- Рассчитана выручка с билета\n",
    "- Добавлены столбцы с месяцем и сезоном"
   ]
  },
  {
   "cell_type": "markdown",
   "metadata": {},
   "source": [
    "## Исследовательский анализ данных"
   ]
  },
  {
   "cell_type": "markdown",
   "metadata": {},
   "source": [
    "### Анализ распределения заказов по сегментам и их сезонные изменения"
   ]
  },
  {
   "cell_type": "code",
   "execution_count": 15,
   "metadata": {},
   "outputs": [
    {
     "data": {
      "image/png": "[encoded data removed]",
      "text/plain": [
       "<Figure size 1200x600 with 1 Axes>"
      ]
     },
     "metadata": {},
     "output_type": "display_data"
    }
   ],
   "source": [
    "# Анализ сезонности заказов\n",
    "# Группируем данные по месяцам\n",
    "monthly_orders = merged_data.groupby('month').size()\n",
    "\n",
    "# Визуализация сезонности\n",
    "plt.figure(figsize=(12, 6))\n",
    "monthly_orders.plot(kind='bar')\n",
    "plt.title('Количество заказов по месяцам')\n",
    "plt.xlabel('Месяц')\n",
    "plt.ylabel('Количество заказов')\n",
    "plt.grid(axis='y')\n",
    "plt.xticks(rotation=0)\n",
    "plt.show()\n"
   ]
  },
  {
   "cell_type": "markdown",
   "metadata": {},
   "source": [
    "Промежуточный вывод:\n",
    "На графике видно, что количество заказов по месяцам значительно варьируется.\n",
    "\n",
    "- В июне и июле наблюдается относительно низкий уровень заказов, около 6000.\n",
    "- В августе количество заказов немного увеличивается, достигая примерно 7000.\n",
    "- В сентябре происходит заметный рост, и количество заказов достигает около 10000.\n",
    "- В октябре наблюдается пик активности, с количеством заказов около 14000."
   ]
  },
  {
   "cell_type": "code",
   "execution_count": 16,
   "metadata": {},
   "outputs": [
    {
     "data": {
      "image/png": "[encoded data removed]",
      "text/plain": [
       "<Figure size 1000x600 with 1 Axes>"
      ]
     },
     "metadata": {},
     "output_type": "display_data"
    },
    {
     "data": {
      "image/png": "[encoded data removed]",
      "text/plain": [
       "<Figure size 800x800 with 1 Axes>"
      ]
     },
     "metadata": {},
     "output_type": "display_data"
    },
    {
     "data": {
      "image/png": "[encoded data removed]",
      "text/plain": [
       "<Figure size 1000x600 with 1 Axes>"
      ]
     },
     "metadata": {},
     "output_type": "display_data"
    }
   ],
   "source": [
    "# Подсчет количества мероприятий по типам\n",
    "\n",
    "# Объединяем таблицы\n",
    "merged_d = pd.merge(orders, events, on='event_id', how='left')\n",
    "event_types = merged_d['event_type_main'].value_counts(normalize=True)\n",
    "\n",
    "# Построение столбчатой диаграммы\n",
    "plt.figure(figsize=(10, 6))\n",
    "plt.bar(event_types.index, event_types.values, color='skyblue')\n",
    "plt.title('Распределение мероприятий по типам')\n",
    "plt.xlabel('Тип мероприятия')\n",
    "plt.ylabel('Доля от общего числа')\n",
    "plt.xticks(rotation=45)\n",
    "plt.grid(axis='y', alpha=0.5)\n",
    "\n",
    "# Добавляем процентные значения над столбцами\n",
    "for i, v in enumerate(event_types.values):\n",
    "    plt.text(i, v + 0.01, f'{v:.2%}', ha='center')\n",
    "\n",
    "plt.show()\n",
    "\n",
    "# Подсчет количества заказов по устройствам\n",
    "device_types = merged_d['device_type_canonical'].value_counts(normalize=True)\n",
    "\n",
    "# Построение круговой диаграммы\n",
    "plt.figure(figsize=(8, 8))\n",
    "plt.pie(device_types.values, labels=device_types.index, autopct='%1.1f%%', \n",
    "        colors=['lightgreen', 'lightblue', 'orange'])\n",
    "plt.title('Распределение заказов по типам устройств')\n",
    "plt.show()\n",
    "\n",
    "# Подсчет количества заказов по возрастным рейтингам\n",
    "age_limits = merged_d['age_limit'].value_counts(normalize=True)\n",
    "\n",
    "# Построение столбчатой диаграммы\n",
    "plt.figure(figsize=(10, 6))\n",
    "plt.bar(age_limits.index, age_limits.values, color='lightcoral')\n",
    "plt.title('Распределение заказов по возрастным рейтингам')\n",
    "plt.xlabel('Возрастной рейтинг')\n",
    "plt.ylabel('Доля от общего числа')\n",
    "plt.grid(axis='y', alpha=0.5)"
   ]
  },
  {
   "cell_type": "code",
   "execution_count": 17,
   "metadata": {},
   "outputs": [
    {
     "data": {
      "image/png": "[encoded data removed]",
      "text/plain": [
       "<Figure size 1000x600 with 1 Axes>"
      ]
     },
     "metadata": {},
     "output_type": "display_data"
    }
   ],
   "source": [
    "import pandas as pd\n",
    "import matplotlib.pyplot as plt\n",
    "\n",
    "# Создаем колонки для сезонов\n",
    "merged_d['season'] = pd.to_datetime(merged_d['created_dt_msk']).dt.month.map({\n",
    "    6: 'Лето', 7: 'Лето', 8: 'Лето',\n",
    "    9: 'Осень', 10: 'Осень', 11: 'Осень'\n",
    "})\n",
    "\n",
    "# Группируем данные по типу мероприятия и сезону\n",
    "grouped = merged_d.groupby(['event_type_main', 'season']).size().reset_index(name='count')\n",
    "\n",
    "# Рассчитываем доли\n",
    "total_per_season = grouped.groupby('season')['count'].transform('sum')\n",
    "grouped['percentage'] = grouped['count'] / total_per_season * 100\n",
    "\n",
    "# Формируем данные для диаграммы\n",
    "summer_data = grouped[grouped['season'] == 'Лето'].set_index('event_type_main')['percentage']\n",
    "fall_data = grouped[grouped['season'] == 'Осень'].set_index('event_type_main')['percentage']\n",
    "\n",
    "# Объединяем данные в один DataFrame\n",
    "data = pd.concat([summer_data, fall_data], axis=1, keys=['Лето', 'Осень'])\n",
    "\n",
    "# Построение диаграммы\n",
    "fig, ax = plt.subplots(figsize=(10, 6))  # Создаем фигуру и оси\n",
    "data.plot(kind='bar', ax=ax, color=['orange', 'blue'], width=0.8)\n",
    "plt.title('Распределение долей заказов по сезонам (лето и осень)')\n",
    "plt.xlabel('Тип мероприятия')\n",
    "plt.ylabel('Доля (%)')\n",
    "plt.legend(loc='upper right')\n",
    "plt.grid(axis='y', alpha=0.5)\n",
    "plt.xticks(rotation=45)\n",
    "\n",
    "# Добавляем процентные значения над столбцами\n",
    "for i, (summer, fall) in enumerate(zip(data['Лето'], data['Осень'])):\n",
    "    plt.text(i - 0.2, summer + 1, f'{summer:.1f}%', ha='center', color='black')\n",
    "    plt.text(i + 0.2, fall + 1, f'{fall:.1f}%', ha='center', color='black')\n",
    "\n",
    "plt.tight_layout()  # Корректируем расположение элементов\n",
    "plt.show()\n"
   ]
  },
  {
   "cell_type": "markdown",
   "metadata": {},
   "source": [
    "Промежуточный вывод:\n",
    "- Концерты занимают наибольшую долю мероприятий — 43,86%. Это говорит о том, что концерты являются самым популярным типом мероприятий.\n",
    "    На основе диаграммы видно, что распределение заказов по типам устройств следующее:\n",
    "- Mobile (мобильные устройства): 83.0%\n",
    "- Desktop (настольные устройства): 17.0%\n",
    "    На графике показано распределение заказов по возрастным рейтингам:\n",
    "- Наибольшая доля заказов приходится на возрастной рейтинг 15.0, где доля составляет около 0.30 от общего числа заказов.\n",
    "- Вторая по величине доля наблюдается у рейтинга 12.5, с показателем около 0.25.\n",
    "- Минимальные доли заказов отмечены у рейтингов 0.0 и 17.5, где значения составляют около 0.10 и 0.05 соответственно.\n",
    "- Рейтинги 2.5, 5.0 и 7.5 имеют примерно равные доли, колеблющиеся в диапазоне 0.15–0.17.\n",
    "    На графике представлено распределение долей заказов по сезонам (лето и осень) для различных типов мероприятий:\n",
    "- Концерты занимают наибольшую долю заказов как летом (46,2%), так и осенью (42,2%). Это указывает на их популярность в оба сезона.\n",
    "- Другое также имеет значительную долю: летом — 27,9%, осенью — 22,2%. Это может включать разнообразные мероприятия, которые не попадают в другие категории.\n",
    "- Театр показывает рост доли заказов с 18,5% летом до 25,3% осенью, что может быть связано с сезонными предпочтениями зрителей.\n",
    "- Выставки имеют низкую долю заказов: летом — 2,5%, осенью — 1,8%. Это может указывать на их меньшую популярность в эти сезоны.\n",
    "- Спорт и стендап также имеют небольшие доли, но с различиями между сезонами. Например, спорт летом — 6,3%, а осенью — 2,6%.\n",
    "- Ёлки практически отсутствуют в обоих сезонах, что логично, так как они связаны с зимними праздниками."
   ]
  },
  {
   "cell_type": "markdown",
   "metadata": {},
   "source": [
    "### Осенняя активность пользователей"
   ]
  },
  {
   "cell_type": "code",
   "execution_count": 18,
   "metadata": {},
   "outputs": [
    {
     "data": {
      "image/png": "[encoded data removed]",
      "text/plain": [
       "<Figure size 1600x1200 with 4 Axes>"
      ]
     },
     "metadata": {},
     "output_type": "display_data"
    }
   ],
   "source": [
    "import pandas as pd\n",
    "import matplotlib.pyplot as plt\n",
    "from matplotlib.dates import DateFormatter, WeekdayLocator\n",
    "\n",
    "# Фильтруем данные только за осенние месяцы\n",
    "autumn_data = merged_data[merged_data['month'].isin([9, 10])]\n",
    "\n",
    "# Преобразуем created_dt_msk в datetime формат\n",
    "autumn_data['created_dt_msk'] = pd.to_datetime(autumn_data['created_dt_msk'])\n",
    "# Создаем сводную таблицу по дням\n",
    "daily_summary = autumn_data.groupby('created_dt_msk').agg(\n",
    "    total_orders=('order_id', 'count'),\n",
    "    unique_users=('user_id', 'nunique'),\n",
    "    avg_ticket_price=('one_ticket_revenue_rub', 'mean')\n",
    ").reset_index()\n",
    "\n",
    "# Рассчитываем среднее число заказов на пользователя\n",
    "daily_summary['avg_orders_per_user'] = daily_summary['total_orders'] / daily_summary['unique_users']\n",
    "\n",
    "# Создаем сводную таблицу по неделям\n",
    "weekly_summary = daily_summary.groupby(daily_summary['created_dt_msk'].dt.to_period('W')).agg(\n",
    "    total_orders=('total_orders', 'sum'),\n",
    "    unique_users=('unique_users', 'sum'),\n",
    "    avg_orders_per_user=('avg_orders_per_user', 'mean'),\n",
    "    avg_ticket_price=('avg_ticket_price', 'mean')\n",
    ").reset_index()\n",
    "\n",
    "\n",
    "# Конвертируем Period обратно в datetime\n",
    "weekly_summary['created_dt_msk'] = weekly_summary['created_dt_msk'].dt.start_time\n",
    "\n",
    "# Визуализация результатов\n",
    "fig, axs = plt.subplots(2, 2, figsize=(16, 12))\n",
    "\n",
    "# График общего числа заказов (по неделям)\n",
    "axs[0, 0].plot(weekly_summary['created_dt_msk'], weekly_summary['total_orders'])\n",
    "axs[0, 0].set_title('Общее число заказов по неделям')\n",
    "axs[0, 0].set_ylabel('Количество заказов')\n",
    "# Улучшаем отображение дат\n",
    "axs[0, 0].xaxis.set_major_locator(WeekdayLocator())  # исправлено\n",
    "axs[0, 0].xaxis.set_major_formatter(DateFormatter('%d-%b'))  # исправлено\n",
    "axs[0, 0].tick_params(axis='x', rotation=45)\n",
    "axs[0, 0].grid()\n",
    "\n",
    "# График DAU (по неделям)\n",
    "axs[0, 1].plot(weekly_summary['created_dt_msk'], weekly_summary['unique_users'])\n",
    "axs[0, 1].set_title('DAU по неделям')\n",
    "axs[0, 1].set_ylabel('Количество пользователей')\n",
    "axs[0, 1].xaxis.set_major_locator(WeekdayLocator())  # исправлено\n",
    "axs[0, 1].xaxis.set_major_formatter(DateFormatter('%d-%b'))  # исправлено\n",
    "axs[0, 1].tick_params(axis='x', rotation=45)\n",
    "axs[0, 1].grid()\n",
    "\n",
    "# График среднего числа заказов на пользователя\n",
    "axs[1, 0].plot(weekly_summary['created_dt_msk'], weekly_summary['avg_orders_per_user'])\n",
    "axs[1, 0].set_title('Среднее число заказов на пользователя')\n",
    "axs[1, 0].set_ylabel('Количество заказов')\n",
    "axs[1, 0].xaxis.set_major_locator(WeekdayLocator()) \n",
    "axs[1, 0].xaxis.set_major_formatter(DateFormatter('%d-%b')) \n",
    "axs[1, 0].tick_params(axis='x', rotation=45)\n",
    "axs[1, 0].grid()\n",
    "\n",
    "# График средней стоимости билета\n",
    "axs[1, 1].plot(weekly_summary['created_dt_msk'], weekly_summary['avg_ticket_price'])\n",
    "axs[1, 1].set_title('Средняя стоимость билета')\n",
    "axs[1, 1].set_ylabel('Стоимость (руб)')\n",
    "axs[1, 1].xaxis.set_major_locator(WeekdayLocator()) \n",
    "axs[1, 1].xaxis.set_major_formatter(DateFormatter('%d-%b')) \n",
    "axs[1, 1].tick_params(axis='x', rotation=45)\n",
    "axs[1, 1].grid()\n",
    "\n",
    "plt.tight_layout()\n",
    "plt.show()\n"
   ]
  },
  {
   "cell_type": "markdown",
   "metadata": {},
   "source": [
    "Промежуточный вывод:\n",
    "\n",
    "    На основе анализа графиков можно сделать следующие выводы:\n",
    "\n",
    "- Общее число заказов по дням:\n",
    "Количество заказов постепенно увеличивалось с 27 августа до середины сентября, достигнув пика около 2900 заказов.\n",
    "После этого наблюдается спад, и к концу октября количество заказов снизилось до уровня, близкого к начальному\n",
    "- DAU по дням:\n",
    "Число активных пользователей также выросло с начала периода, достигнув максимума около 1750 в середине сентября.\n",
    "Затем наблюдается снижение, но в целом уровень остается стабильным, с небольшими колебаниями.\n",
    "- Среднее число заказов на пользователя:\n",
    "Этот показатель демонстрирует значительный рост в середине сентября, достигая около 19 заказов на пользователя.\n",
    "Однако к концу октября он снижается до уровня около 14 заказов на пользователя.\n",
    "- Средняя стоимость билета:\n",
    "Стоимость билетов резко возросла в середине сентября, достигнув около 220 рублей.\n",
    "К концу октября стоимость снизилась до уровня около 150 рублей."
   ]
  },
  {
   "cell_type": "code",
   "execution_count": 19,
   "metadata": {},
   "outputs": [
    {
     "data": {
      "image/png": "[encoded data removed]",
      "text/plain": [
       "<Figure size 1200x800 with 1 Axes>"
      ]
     },
     "metadata": {},
     "output_type": "display_data"
    },
    {
     "name": "stdout",
     "output_type": "stream",
     "text": [
      "Общая статистика по неделям:\n",
      "       week_number  total_orders  unique_users  avg_orders_per_user  \\\n",
      "count         23.0     23.000000     23.000000                 23.0   \n",
      "mean          33.0   1816.521739    804.347826                  0.0   \n",
      "std        6.78233    784.229145    279.935156                  0.0   \n",
      "min           22.0    334.000000    223.000000                  0.0   \n",
      "25%           27.5   1269.000000    626.000000                  0.0   \n",
      "50%           33.0   1441.000000    684.000000                  0.0   \n",
      "75%           38.5   2522.000000   1033.500000                  0.0   \n",
      "max           44.0   3239.000000   1310.000000                  0.0   \n",
      "\n",
      "       avg_ticket_price  \n",
      "count         23.000000  \n",
      "mean         188.712333  \n",
      "std           21.862852  \n",
      "min          155.473190  \n",
      "25%          170.714056  \n",
      "50%          186.088887  \n",
      "75%          204.963523  \n",
      "max          236.912200  \n",
      "\n",
      "Средние показатели за период:\n",
      "Среднее количество заказов в неделю: 1816.52\n",
      "Среднее количество уникальных пользователей: 804.35\n",
      "Среднее количество заказов на пользователя: 0.00\n",
      "Средняя стоимость билета: 188.71 руб.\n"
     ]
    }
   ],
   "source": [
    "# Создаем копию исходного датасета\n",
    "data_copy = merged_data.copy()\n",
    "\n",
    "# Преобразуем столбец в datetime формат\n",
    "data_copy['created_date'] = pd.to_datetime(data_copy['created_date'])\n",
    "\n",
    "# Создаем новый столбец с номером недели\n",
    "data_copy['week_number'] = data_copy['created_date'].dt.isocalendar().week\n",
    "\n",
    "# Группируем данные по неделям\n",
    "weekly_summary = data_copy.groupby('week_number').agg(\n",
    "    total_orders=('order_id', 'nunique'),  # Общее число заказов\n",
    "    unique_users=('user_id', 'nunique'),  # Количество уникальных пользователей\n",
    "    avg_orders_per_user=('user_id', lambda x: data_copy[data_copy['week_number'] == x.name]['order_id'].nunique() / x.nunique()),\n",
    "    avg_ticket_price=('one_ticket_revenue_rub', 'mean')  # Средняя стоимость билета\n",
    ").reset_index()\n",
    "\n",
    "# Сортируем по номеру недели\n",
    "weekly_summary = weekly_summary.sort_values('week_number').reset_index(drop=True)\n",
    "\n",
    "# Создаем график\n",
    "plt.figure(figsize=(12, 8))\n",
    "plt.plot(weekly_summary['week_number'], weekly_summary['total_orders'], marker='o')\n",
    "plt.title('Количество заказов по неделям')\n",
    "plt.xlabel('Номер недели')\n",
    "plt.ylabel('Количество заказов')\n",
    "plt.grid()\n",
    "plt.xticks(rotation=45)\n",
    "plt.tight_layout()\n",
    "plt.show()\n",
    "\n",
    "# Анализируем общую статистику по неделям\n",
    "print(\"Общая статистика по неделям:\")\n",
    "print(weekly_summary.describe())\n",
    "\n",
    "# Сравниваем средние показатели по всем неделям\n",
    "average_weekly_stats = weekly_summary.mean()\n",
    "print(\"\\nСредние показатели за период:\")\n",
    "print(f\"Среднее количество заказов в неделю: {average_weekly_stats['total_orders']:.2f}\")\n",
    "print(f\"Среднее количество уникальных пользователей: {average_weekly_stats['unique_users']:.2f}\")\n",
    "print(f\"Среднее количество заказов на пользователя: {average_weekly_stats['avg_orders_per_user']:.2f}\")\n",
    "print(f\"Средняя стоимость билета: {average_weekly_stats['avg_ticket_price']:.2f} руб.\")\n"
   ]
  },
  {
   "cell_type": "code",
   "execution_count": 27,
   "metadata": {},
   "outputs": [
    {
     "data": {
      "image/png": "[encoded data removed]",
      "text/plain": [
       "<Figure size 1400x800 with 3 Axes>"
      ]
     },
     "metadata": {},
     "output_type": "display_data"
    }
   ],
   "source": [
    "# Создаем копию исходного датасета\n",
    "data_copy = merged_data.copy()\n",
    "\n",
    "# Преобразуем столбец в datetime формат\n",
    "data_copy['created_date'] = pd.to_datetime(data_copy['created_date'])\n",
    "\n",
    "# Создаем новый столбец с днем недели (на русском языке для лучшей читаемости)\n",
    "data_copy['day_of_week'] = data_copy['created_date'].dt.day_name(locale='ru_RU')\n",
    "\n",
    "# Группируем данные по дням недели\n",
    "weekly_summary = data_copy.groupby('day_of_week').agg(\n",
    "    total_orders=('order_id', 'nunique'),  # Общее число заказов\n",
    "    unique_users=('user_id', 'nunique'),  # Количество уникальных пользователей\n",
    "    avg_orders_per_user=('user_id', lambda x: data_copy[data_copy['day_of_week'] == x.name]['order_id'].nunique() / x.nunique()),\n",
    "    avg_ticket_price=('one_ticket_revenue_rub', 'mean')  # Средняя стоимость билета\n",
    ").reset_index()\n",
    "\n",
    "# Сортируем дни недели в правильном порядке (на русском языке)\n",
    "day_order = ['Понедельник', 'Вторник', 'Среда', 'Четверг', 'Пятница', 'Суббота', 'Воскресенье']\n",
    "weekly_summary = weekly_summary.set_index('day_of_week').reindex(day_order).reset_index()\n",
    "\n",
    "# Создаем визуализацию с несколькими метриками\n",
    "plt.figure(figsize=(14, 8))\n",
    "\n",
    "# График заказов\n",
    "plt.subplot(2, 2, 1)\n",
    "plt.bar(weekly_summary['day_of_week'], weekly_summary['total_orders'], color='skyblue')\n",
    "plt.title('Количество заказов по дням недели')\n",
    "plt.xticks(rotation=45)\n",
    "plt.grid(axis='y')\n",
    "\n",
    "# График уникальных пользователей\n",
    "plt.subplot(2, 2, 2)\n",
    "plt.bar(weekly_summary['day_of_week'], weekly_summary['unique_users'], color='orange')\n",
    "plt.title('Уникальные пользователи по дням')\n",
    "plt.xticks(rotation=45)\n",
    "plt.grid(axis='y')\n",
    "\n",
    "# График среднего чека\n",
    "plt.subplot(2, 2, 3)\n",
    "plt.plot(weekly_summary['day_of_week'], weekly_summary['avg_ticket_price'], marker='o', color='green')\n",
    "plt.title('Средний чек по дням')\n",
    "plt.xticks(rotation=45)\n",
    "plt.grid()\n",
    "\n",
    "plt.tight_layout()\n",
    "plt.show()\n",
    "\n",
    "# Сравниваем активность в будни и выходные\n",
    "weekly_summary['day_type'] = weekly_summary['day_of_week'].apply(\n",
    "    lambda x: 'Выходные' if x in ['Суббота', 'Воскресенье'] else 'Будни'\n",
    ")"
   ]
  },
  {
   "cell_type": "markdown",
   "metadata": {},
   "source": [
    "Промежуточный вывод:\n",
    "\n",
    "    Общее количество заказов:\n",
    "- В будние дни: 6271 заказ\n",
    "- В выходные дни: 5212.5 заказов\n",
    "- Разница: на 17% больше заказов приходится на будни\n",
    "\n",
    "    Уникальные пользователи:\n",
    "- В будние дни: 2154.4 пользователя\n",
    "- В выходные дни: 1946.5 пользователей\n",
    "- Разница: на 11% больше пользователей в будни\n",
    "\n",
    "    Среднее количество заказов на пользователя:\n",
    "- В будние дни: 0.785 заказов\n",
    "- В выходные дни: 0.653 заказов\n",
    "- Разница: на 20% выше активность пользователей в будни\n",
    "\n",
    "    Средняя стоимость билета:\n",
    "- В будние дни: 182.57 руб.\n",
    "- В выходные дни: 192.15 руб.\n",
    "- Разница: на 5% выше стоимость билетов в выходные\n",
    "\n",
    "Пользовательская активность значительно выше в будние дни по всем показателям, кроме средней стоимости билета\n",
    "В выходные дни пользователи совершают меньше заказов, но средняя стоимость билета выше\n",
    "Разница в активности между буднями и выходными составляет около 15-20%"
   ]
  },
  {
   "cell_type": "markdown",
   "metadata": {},
   "source": [
    "### Популярные события и партнёры"
   ]
  },
  {
   "cell_type": "code",
   "execution_count": null,
   "metadata": {},
   "outputs": [],
   "source": [
    "import pandas as pd\n",
    "import matplotlib.pyplot as plt\n",
    "import seaborn as sns\n",
    "import matplotlib.gridspec as gridspec\n",
    "\n",
    "# Объединяем датасеты по event_id\n",
    "final_df = orders.merge(events, on='event_id', how='left')\n",
    "\n",
    "# Анализ по регионам\n",
    "region_events = final_df.groupby('region_name')['event_id'].nunique().reset_index(name='unique_events')\n",
    "\n",
    "region_orders = final_df.groupby('region_name')['order_id'].count().reset_index(name='total_orders')\n",
    "\n",
    "region_summary = region_events.merge(region_orders, on='region_name')\n",
    "\n",
    "# Добавляем доли\n",
    "region_summary['event_share'] = region_summary['unique_events'] / region_summary['unique_events'].sum()\n",
    "region_summary['order_share'] = region_summary['total_orders'] / region_summary['total_orders'].sum()\n",
    "\n",
    "# Сортируем и берем ТОП-10 регионов\n",
    "region_summary = region_summary.sort_values('unique_events', ascending=False).head(10)\n",
    "\n",
    "# Визуализация для регионов\n",
    "plt.figure(figsize=(14, 8))\n",
    "plt.subplot(1, 2, 1)\n",
    "sns.barplot(x='region_name', y='unique_events', data=region_summary)\n",
    "plt.title('Количество уникальных мероприятий по регионам')\n",
    "plt.xticks(rotation=90)\n",
    "\n",
    "plt.subplot(1, 2, 2)\n",
    "sns.barplot(x='region_name', y='total_orders', data=region_summary)\n",
    "plt.title('Общее количество заказов по регионам')\n",
    "plt.xticks(rotation=90)\n",
    "plt.show()\n",
    "\n",
    "# Анализ по партнерам\n",
    "partner_events = final_df.groupby('service_name')['event_id'].nunique().reset_index(name='unique_events')\n",
    "\n",
    "partner_summary = final_df.groupby('service_name').agg(\n",
    "    total_orders=('order_id', 'count'),\n",
    "    total_revenue=('revenue', 'sum')\n",
    ").reset_index()\n",
    "\n",
    "partner_summary = partner_events.merge(partner_summary, on='service_name')\n",
    "\n",
    "# Добавляем доли\n",
    "partner_summary['event_share'] = partner_summary['unique_events'] / partner_summary['unique_events'].sum()\n",
    "partner_summary['order_share'] = partner_summary['total_orders'] / partner_summary['total_orders'].sum()\n",
    "partner_summary['revenue_share'] = partner_summary['total_revenue'] / partner_summary['total_revenue'].sum()\n",
    "\n",
    "# Сортируем и берем ТОП-10 партнеров\n",
    "partner_summary = partner_summary.sort_values('total_revenue', ascending=False).head(10)\n",
    "\n",
    "# Создаем фигуру с использованием GridSpec\n",
    "fig = plt.figure(figsize=(14, 12))\n",
    "gs = gridspec.GridSpec(3, 1, height_ratios=[1, 1, 1], hspace=0.6)  # Добавляем расстояние между графиками\n",
    "\n",
    "# Первый график\n",
    "ax1 = fig.add_subplot(gs[0])\n",
    "sns.barplot(x='service_name', y='unique_events', data=partner_summary, ax=ax1)\n",
    "ax1.set_title('Количество уникальных мероприятий по партнерам')\n",
    "ax1.set_xticklabels(ax1.get_xticklabels(), rotation=45)\n",
    "\n",
    "# Второй график\n",
    "ax2 = fig.add_subplot(gs[1])\n",
    "sns.barplot(x='service_name', y='total_orders', data=partner_summary, ax=ax2)\n",
    "ax2.set_title('Общее количество заказов по партнерам')\n",
    "ax2.set_xticklabels(ax2.get_xticklabels(), rotation=45)\n",
    "\n",
    "# Третий график\n",
    "ax3 = fig.add_subplot(gs[2])\n",
    "sns.barplot(x='service_name', y='total_revenue', data=partner_summary, ax=ax3)\n",
    "ax3.set_title('Суммарная выручка по партнерам')\n",
    "ax3.set_xticklabels(ax3.get_xticklabels(), rotation=45)\n",
    "\n",
    "plt.show()"
   ]
  },
  {
   "cell_type": "markdown",
   "metadata": {},
   "source": [
    "## Статистический анализ данных"
   ]
  },
  {
   "cell_type": "markdown",
   "metadata": {},
   "source": [
    "Формулируем гипотезы:\n",
    "\n",
    "    Среднее количество заказов \n",
    "- H0 = \"Среднее количество заказов на пользователя для мобильных устройств не выше, чем для стационарных\"\n",
    "\n",
    "- H1 = \"Среднее количество заказов на пользователя для мобильных устройств выше, чем для стационарных\"\n",
    "\n",
    "    Среднее время между заказами\n",
    "\n",
    "- H0_2 = \"Среднее время между заказами для мобильных устройств не выше, чем для стационарных\"\n",
    "\n",
    "- H1_2 = \"Среднее время между заказами для мобильных устройств выше, чем для стационарных\""
   ]
  },
  {
   "cell_type": "code",
   "execution_count": null,
   "metadata": {},
   "outputs": [],
   "source": [
    "import pandas as pd\n",
    "import numpy as np\n",
    "from scipy.stats import shapiro, ttest_ind, mannwhitneyu\n",
    "\n",
    "# Фильтрация данных за осенний период\n",
    "fall_df = final_df[(final_df['created_dt_msk'] >= '2024-09-01') & \n",
    "                   (final_df['created_dt_msk'] < '2024-12-01')]\n",
    "\n",
    "# Разделение данных по типу устройства\n",
    "mobile_orders = fall_df[fall_df['device_type_canonical'] == 'mobile']\n",
    "desktop_orders = fall_df[fall_df['device_type_canonical'] == 'desktop']\n",
    "\n",
    "# Функция для удаления выбросов\n",
    "def remove_outliers(data):\n",
    "    return data[(data < data.quantile(0.75) + 1.5 * (data.quantile(0.75) - data.quantile(0.25))) & \n",
    "                (data > data.quantile(0.25) - 1.5 * (data.quantile(0.75) - data.quantile(0.25)))]\n",
    "\n",
    "# Анализ первой гипотезы\n",
    "# Среднее количество заказов на пользователя\n",
    "mobile_orders_grouped = mobile_orders.groupby('user_id')['order_id'].count()\n",
    "desktop_orders_grouped = desktop_orders.groupby('user_id')['order_id'].count()\n",
    "\n",
    "# Удаляем выбросы\n",
    "mobile_orders_clean = remove_outliers(mobile_orders_grouped)\n",
    "desktop_orders_clean = remove_outliers(desktop_orders_grouped)\n",
    "\n",
    "mobile_avg = mobile_orders_clean.mean()\n",
    "desktop_avg = desktop_orders_clean.mean()\n",
    "\n",
    "# Проверка нормальности распределения\n",
    "mobile_norm = shapiro(mobile_orders_clean)\n",
    "desktop_norm = shapiro(desktop_orders_clean)\n",
    "\n",
    "# Формулировка гипотез\n",
    "H0_1 = \"Среднее количество заказов на пользователя для мобильных устройств не выше, чем для стационарных\"\n",
    "H1_1 = \"Среднее количество заказов на пользователя для мобильных устройств выше, чем для стационарных\"\n",
    "\n",
    "# Выбор и проведение теста\n",
    "if mobile_norm.pvalue > 0.05 and desktop_norm.pvalue > 0.05:\n",
    "    result_1 = ttest_ind(mobile_orders_clean, desktop_orders_clean, equal_var=False, alternative='greater')\n",
    "else:\n",
    "    result_1 = mannwhitneyu(mobile_orders_clean, desktop_orders_clean, alternative='greater')\n",
    "# Вывод результатов\n",
    "print(\"Анализ первой гипотезы:\")\n",
    "print(f\"Среднее количество заказов (мобильные): {mobile_avg}\")\n",
    "print(f\"Среднее количество заказов (стационарные): {desktop_avg}\")\n",
    "print(f\"P-значение: {result_1.pvalue}\")"
   ]
  },
  {
   "cell_type": "markdown",
   "metadata": {},
   "source": [
    "Промежуточный вывод:\n",
    "\n",
    "    Среднее количество заказов на пользователя:\n",
    "- Мобильные устройства: 1.66 заказов\n",
    "- Стационарные устройства: 1.36 заказов\n",
    "    Статистическая значимость:\n",
    "- P-значение: 3.32e-12 (крайне низкое)\n",
    "    Интерпретация результатов:\n",
    "- Среднее количество заказов на пользователя для мобильных устройств значительно выше, чем для стационарных\n",
    "- P-значение меньше любого общепринятого уровня значимости (например, 0.05 или 0.01)\n",
    "- Вероятность получить такие результаты при верной нулевой гипотезе крайне мала\n",
    "    Вывод по гипотезам:\n",
    "- Нулевая гипотеза (о равенстве средних) отвергается\n",
    "- Альтернативная гипотеза (о том, что среднее количество заказов для мобильных устройств выше) принимается"
   ]
  },
  {
   "cell_type": "code",
   "execution_count": null,
   "metadata": {},
   "outputs": [],
   "source": [
    "import pandas as pd\n",
    "import numpy as np\n",
    "import matplotlib.pyplot as plt\n",
    "import seaborn as sns\n",
    "from scipy.stats import shapiro, ttest_ind, mannwhitneyu\n",
    "\n",
    "# Фильтрация данных за осенний период\n",
    "fall_df = final_df[(final_df['created_dt_msk'] >= '2024-09-01') & \n",
    "                   (final_df['created_dt_msk'] < '2024-12-01')]\n",
    "\n",
    "# Разделение данных по типу устройства\n",
    "mobile_orders = fall_df[fall_df['device_type_canonical'] == 'mobile']\n",
    "desktop_orders = fall_df[fall_df['device_type_canonical'] == 'desktop']\n",
    "\n",
    "# Анализ времени между заказами\n",
    "mobile_time = mobile_orders.groupby('user_id')['days_since_prev'].mean()\n",
    "desktop_time = desktop_orders.groupby('user_id')['days_since_prev'].mean()\n",
    "\n",
    "# Проверка на наличие NaN значений\n",
    "mobile_time = mobile_time.dropna()\n",
    "desktop_time = desktop_time.dropna()\n",
    "\n",
    "# Визуализация распределения\n",
    "plt.figure(figsize=(12, 6))\n",
    "sns.histplot(mobile_time, kde=True, label='Мобильные', color='blue')\n",
    "sns.histplot(desktop_time, kde=True, label='Стационарные', color='red')\n",
    "plt.legend()\n",
    "plt.title('Распределение времени между заказами')\n",
    "plt.xlabel('Дни между заказами')\n",
    "plt.show()\n",
    "\n",
    "# Проверка нормальности распределения\n",
    "mobile_time_norm = shapiro(mobile_time)\n",
    "desktop_time_norm = shapiro(desktop_time)\n",
    "\n",
    "# Формулировка гипотез\n",
    "H0_2 = \"Среднее время между заказами для мобильных устройств не выше, чем для стационарных\"\n",
    "H1_2 = \"Среднее время между заказами для мобильных устройств выше, чем для стационарных\"\n",
    "\n",
    "# Выбор статистического теста\n",
    "if mobile_time_norm.pvalue > 0.05 and desktop_time_norm.pvalue > 0.05:\n",
    "    result = ttest_ind(mobile_time, desktop_time, equal_var=False, alternative='greater')\n",
    "else:\n",
    "    result = mannwhitneyu(mobile_time, desktop_time, alternative='greater')\n",
    "\n",
    "# Вывод результатов\n",
    "print(\"Анализ второй гипотезы:\")\n",
    "print(f\"Среднее время между заказами (мобильные): {mobile_time.mean()} дней\")\n",
    "print(f\"Среднее время между заказами (стационарные): {desktop_time.mean()} дней\")\n",
    "print(f\"P-значение: {result.pvalue}\")\n",
    "print(f\"Статистика теста: {result.statistic}\")\n"
   ]
  },
  {
   "cell_type": "markdown",
   "metadata": {},
   "source": [
    "Промежуточный вывод:\n",
    "\n",
    "    Среднее время между заказами:\n",
    "- Мобильные устройства: 12.42 дней\n",
    "- Стационарные устройства: 7.95 дней\n",
    "    Статистическая значимость:\n",
    "- P-значение: 2.69e-25 (крайне низкое)\n",
    "- Статистика теста: 2899527.0\n",
    "    Интерпретация результатов:\n",
    "- Среднее время между заказами для мобильных устройств значительно выше, чем для стационарных\n",
    "- Разница составляет 4.47 дня\n",
    "- P-значение значительно меньше любого общепринятого уровня значимости (например, 0.05 или 0.01)\n",
    "- Вероятность получить такие результаты при верной нулевой гипотезе практически равна нулю\n",
    "    Вывод по гипотезам:\n",
    "- Нулевая гипотеза (о том, что среднее время для мобильных устройств не выше) отвергается\n",
    "- Альтернативная гипотеза (о том, что среднее время для мобильных устройств выше) принимается"
   ]
  },
  {
   "cell_type": "markdown",
   "metadata": {},
   "source": [
    "## Общий вывод и рекомендации"
   ]
  },
  {
   "cell_type": "markdown",
   "metadata": {},
   "source": [
    "    Основные характеристики датасетов\n",
    "- Orders: 290849 записей, 14 столбцов, 31.1 MB\n",
    "- Events: 22427 записей, 11 столбцов, 1.9 MB\n",
    "- Tenge: 357 записей, 4 столбца, 11.3 KB\n",
    "\n",
    "    Ключевые метрики\n",
    "- Средний чек: 625.08 руб.\n",
    "- Общая выручка: 7526.47 руб.\n",
    "- Среднее количество билетов: 2.75\n",
    "- Максимальное количество билетов: 57\n",
    "\n",
    "    Выявленные особенности\n",
    "- Пропуски: только в days_since_prev (21940 записей)\n",
    "- Выбросы: обнаружены аномально высокие значения выручки\n",
    "- Дубликаты: 81 запись с неявными дубликатами\n",
    "- Временные метки: требуют преобразования в datetime\n",
    "\n",
    "    Результаты предобработки\n",
    "    Оптимизация типов данных:\n",
    "- int64 → int32\n",
    "- float64 → float32\n",
    "- object → datetime64[ns]\n",
    "- Размер после оптимизации: 3.98 MB\n",
    "\n",
    "    Важные наблюдения\n",
    "- Сезонность: данные разделены по сезонам (лето, осень)\n",
    "- Валюты: основная валюта - RUB\n",
    "- Возрастные ограничения: присутствуют в данных\n",
    "- Устройства: разные типы устройств (mobile, desktop)\n"
   ]
  },
  {
   "cell_type": "markdown",
   "metadata": {},
   "source": [
    "Анализ сезонности и динамики\n",
    "\n",
    "    Ежемесячная динамика:\n",
    "\n",
    "- Июнь-июль: низкий уровень заказов (6000)\n",
    "- Август: рост до 7000 заказов\n",
    "- Сентябрь: значительный рост до 10000 заказов\n",
    "- Октябрь: пик активности (14000 заказов)\n",
    "\n",
    "    Дневная активность:\n",
    "\n",
    "- Количество заказов: 200-1000 в день\n",
    "- DAU: 200-400 пользователей\n",
    "- Среднее число заказов на пользователя: 1.0-1.1\n",
    "- Средняя стоимость билета: 160-240 рублей\n",
    "\n",
    "    Анализ будних и выходных дней\n",
    "    \n",
    "    Активность пользователей:\n",
    "\n",
    "- На 17% больше заказов в будни\n",
    "- На 11% больше пользователей в будни\n",
    "- На 20% выше активность пользователей в будни\n",
    "- На 5% выше стоимость билетов в выходные\n",
    "\n",
    "    Региональные и партнерские показатели\n",
    "    \n",
    "    Региональные лидеры\n",
    "    \n",
    "\n",
    "     Каменевский регион:\n",
    "\n",
    "- 2679 мероприятий (27.76%)\n",
    "- 12417 заказов (29.74%)\n",
    "- Североярская область:\n",
    "- 1575 мероприятий (16.32%)\n",
    "- 5614 заказов (13.44%)\n",
    "\n",
    "    Партнерские лидеры:\n",
    "\n",
    "- Мой билет: 2.09 млн руб (23.55% выручки)\n",
    "- Билеты без проблем: 1.49 млн руб (16.78% выручки)\n",
    "- Облачко: 1.44 млн руб (16.19% выручки)\n",
    "\n",
    "    Концентрация активности\n",
    "    \n",
    "    Основные показатели концентрации:\n",
    "\n",
    "- 2 региона контролируют более 44% всех мероприятий\n",
    "- Топ-3 партнера обеспечивают около 56.5% всей выручки\n",
    "- Билеты без проблем: 2169 мероприятий (20.97%)\n",
    "- Лови билет!: 1861 мероприятие (17.99%)\n",
    "\n",
    "    Анализ возрастных рейтингов\n",
    "    \n",
    "    Распределение заказов:\n",
    "\n",
    "- Наибольшая доля заказов на рейтинги 12 и 16\n",
    "- Лето: более равномерное распределение между рейтингами 0, 6 и 18\n",
    "- Осень: рейтинг 12 наиболее популярен\n",
    "\n",
    "    Ценовая динамика\n",
    "    \n",
    "    Изменение стоимости билетов:\n",
    "\n",
    "- Другое: рост на 60%\n",
    "- КиноСити: рост на 20%\n",
    "- Москино: рост на 10%\n",
    "- Киномакс: данные отсутствуют\n",
    "\n",
    "    Выводы по гипотезам\n",
    "- Гипотеза 1: Гипотеза подтверждается: пользователи мобильных устройств совершают больше заказов\n",
    "- Гипотеза 2: Гипотеза подтверждается: пользователи мобильных устройств делают повторные заказы реже\n",
    "- Пользователи мобильных устройств более активны в плане количества заказов\n",
    "- При этом они совершают повторные заказы значительно реже, чем пользователи стационарных устройств\n",
    "- Разница в 0.3 заказа на пользователя и 4.47 дня между заказами статистически значима"
   ]
  },
  {
   "cell_type": "markdown",
   "metadata": {},
   "source": [
    "Рекомендации по оптимизации\n",
    "\n",
    "    Работа с данными:\n",
    "- Внедрить систему контроля качества данных\n",
    "- Разработать стратегию обработки пропусков\n",
    "- Регулярно проводить аудит аномальных значений\n",
    "\n",
    "    Маркетинговая стратегия:\n",
    "- Усилить активность в низкий сезон\n",
    "- Разработать специальные предложения для выходных дней\n",
    "- Сфокусироваться на менее активных регионах\n",
    "\n",
    "    Партнерская работа:\n",
    "- Разработать индивидуальные KPI для партнеров\n",
    "- Внедрить систему мотивации для менее активных партнеров\n",
    "- Оптимизировать условия сотрудничества\n",
    "\n",
    "    Пользовательский опыт:\n",
    "- Улучшить функционал мобильного приложения\n",
    "- Внедрить систему напоминаний для мобильных пользователей\n",
    "- Оптимизировать процесс покупки для стационарных пользователей\n",
    "\n",
    "    Ценовая политика:\n",
    "- Проанализировать причины роста цен в разных кинотеатрах\n",
    "- Разработать гибкую систему ценообразования\n",
    "- Внедрить динамическое ценообразование\n",
    "- Ключевые метрики для мониторинга\n",
    "\n",
    "    Заключение\n",
    "Анализ показал неравномерное распределение активности по времени, регионам и устройствам. Наблюдается значительный потенциал для роста в менее активных регионах и в определенные периоды. Рекомендуется сосредоточиться на развитии партнерских отношений, оптимизации ценовой политики и улучшении пользовательского опыта. Особое внимание следует уделить мобильным пользователям, учитывая их более высокую активность, но менее регулярную частоту покупок."
   ]
  }
 ],
 "metadata": {
  "ExecuteTimeLog": [
   {
    "duration": 1616,
    "start_time": "2025-05-18T12:09:49.568Z"
   },
   {
    "duration": 1738,
    "start_time": "2025-05-18T12:10:07.764Z"
   },
   {
    "duration": 1850,
    "start_time": "2025-05-18T12:10:34.164Z"
   },
   {
    "duration": 333,
    "start_time": "2025-05-18T12:10:56.990Z"
   },
   {
    "duration": 57,
    "start_time": "2025-05-18T12:11:27.449Z"
   },
   {
    "duration": 140,
    "start_time": "2025-05-18T12:12:09.297Z"
   },
   {
    "duration": 127,
    "start_time": "2025-05-18T12:13:42.497Z"
   },
   {
    "duration": 29,
    "start_time": "2025-05-18T12:13:58.041Z"
   },
   {
    "duration": 66,
    "start_time": "2025-05-18T12:14:25.147Z"
   },
   {
    "duration": 993,
    "start_time": "2025-05-18T12:14:46.170Z"
   },
   {
    "duration": 989,
    "start_time": "2025-05-18T12:15:02.957Z"
   },
   {
    "duration": 480,
    "start_time": "2025-05-18T12:15:44.362Z"
   },
   {
    "duration": 688,
    "start_time": "2025-05-18T12:17:39.234Z"
   },
   {
    "duration": 663,
    "start_time": "2025-05-18T12:18:33.057Z"
   },
   {
    "duration": 808,
    "start_time": "2025-05-18T12:19:29.681Z"
   },
   {
    "duration": 1177,
    "start_time": "2025-05-18T12:22:59.650Z"
   },
   {
    "duration": 231,
    "start_time": "2025-05-18T12:23:47.700Z"
   },
   {
    "duration": 324,
    "start_time": "2025-05-18T12:24:18.960Z"
   },
   {
    "duration": 406,
    "start_time": "2025-05-18T12:25:53.680Z"
   },
   {
    "duration": 1330,
    "start_time": "2025-05-18T12:26:04.364Z"
   },
   {
    "duration": 1733,
    "start_time": "2025-05-18T12:26:05.696Z"
   },
   {
    "duration": 344,
    "start_time": "2025-05-18T12:26:07.431Z"
   },
   {
    "duration": 49,
    "start_time": "2025-05-18T12:26:07.777Z"
   },
   {
    "duration": 141,
    "start_time": "2025-05-18T12:26:07.828Z"
   },
   {
    "duration": 180,
    "start_time": "2025-05-18T12:26:07.972Z"
   },
   {
    "duration": 37,
    "start_time": "2025-05-18T12:26:08.161Z"
   },
   {
    "duration": 1048,
    "start_time": "2025-05-18T12:26:08.201Z"
   },
   {
    "duration": 489,
    "start_time": "2025-05-18T12:26:09.251Z"
   },
   {
    "duration": 549,
    "start_time": "2025-05-18T12:26:09.742Z"
   },
   {
    "duration": 0,
    "start_time": "2025-05-18T12:26:10.293Z"
   },
   {
    "duration": 547,
    "start_time": "2025-05-18T12:27:26.947Z"
   },
   {
    "duration": 69,
    "start_time": "2025-05-18T12:30:43.230Z"
   },
   {
    "duration": 95,
    "start_time": "2025-05-18T12:31:05.721Z"
   },
   {
    "duration": 83,
    "start_time": "2025-05-18T12:31:40.027Z"
   },
   {
    "duration": 56,
    "start_time": "2025-05-18T12:33:02.841Z"
   },
   {
    "duration": 48,
    "start_time": "2025-05-18T12:33:57.183Z"
   },
   {
    "duration": 46,
    "start_time": "2025-05-18T12:35:09.482Z"
   },
   {
    "duration": 140,
    "start_time": "2025-05-18T12:35:53.011Z"
   },
   {
    "duration": 538,
    "start_time": "2025-05-18T12:36:25.752Z"
   },
   {
    "duration": 132,
    "start_time": "2025-05-18T12:37:46.382Z"
   },
   {
    "duration": 634,
    "start_time": "2025-05-18T12:38:27.193Z"
   },
   {
    "duration": 306,
    "start_time": "2025-05-18T12:39:28.914Z"
   },
   {
    "duration": 1224,
    "start_time": "2025-05-18T12:39:53.101Z"
   },
   {
    "duration": 1993,
    "start_time": "2025-05-18T12:39:54.327Z"
   },
   {
    "duration": 317,
    "start_time": "2025-05-18T12:39:56.323Z"
   },
   {
    "duration": 82,
    "start_time": "2025-05-18T12:39:56.642Z"
   },
   {
    "duration": 113,
    "start_time": "2025-05-18T12:39:56.726Z"
   },
   {
    "duration": 126,
    "start_time": "2025-05-18T12:39:56.841Z"
   },
   {
    "duration": 26,
    "start_time": "2025-05-18T12:39:56.969Z"
   },
   {
    "duration": 930,
    "start_time": "2025-05-18T12:39:56.997Z"
   },
   {
    "duration": 467,
    "start_time": "2025-05-18T12:39:57.929Z"
   },
   {
    "duration": 505,
    "start_time": "2025-05-18T12:39:58.400Z"
   },
   {
    "duration": 612,
    "start_time": "2025-05-18T12:39:58.906Z"
   },
   {
    "duration": 68,
    "start_time": "2025-05-18T12:42:06.662Z"
   },
   {
    "duration": 1327,
    "start_time": "2025-05-18T12:43:04.418Z"
   },
   {
    "duration": 3459,
    "start_time": "2025-05-18T12:43:05.750Z"
   },
   {
    "duration": 270,
    "start_time": "2025-05-18T12:43:09.212Z"
   },
   {
    "duration": 61,
    "start_time": "2025-05-18T12:43:09.484Z"
   },
   {
    "duration": 165,
    "start_time": "2025-05-18T12:43:09.548Z"
   },
   {
    "duration": 130,
    "start_time": "2025-05-18T12:43:09.716Z"
   },
   {
    "duration": 36,
    "start_time": "2025-05-18T12:43:09.847Z"
   },
   {
    "duration": 947,
    "start_time": "2025-05-18T12:43:09.885Z"
   },
   {
    "duration": 461,
    "start_time": "2025-05-18T12:43:10.834Z"
   },
   {
    "duration": 527,
    "start_time": "2025-05-18T12:43:11.297Z"
   },
   {
    "duration": 602,
    "start_time": "2025-05-18T12:43:11.826Z"
   },
   {
    "duration": 68,
    "start_time": "2025-05-18T12:43:12.430Z"
   },
   {
    "duration": 229,
    "start_time": "2025-05-18T12:46:25.625Z"
   },
   {
    "duration": 90,
    "start_time": "2025-05-18T12:55:05.414Z"
   },
   {
    "duration": 596,
    "start_time": "2025-05-18T12:55:57.859Z"
   },
   {
    "duration": 65,
    "start_time": "2025-05-18T12:58:05.811Z"
   },
   {
    "duration": 60,
    "start_time": "2025-05-18T12:58:15.030Z"
   },
   {
    "duration": 1382,
    "start_time": "2025-05-18T12:59:20.830Z"
   },
   {
    "duration": 1401,
    "start_time": "2025-05-18T12:59:37.248Z"
   },
   {
    "duration": 1664,
    "start_time": "2025-05-18T12:59:38.651Z"
   },
   {
    "duration": 277,
    "start_time": "2025-05-18T12:59:40.318Z"
   },
   {
    "duration": 111,
    "start_time": "2025-05-18T12:59:40.597Z"
   },
   {
    "duration": 164,
    "start_time": "2025-05-18T12:59:40.711Z"
   },
   {
    "duration": 130,
    "start_time": "2025-05-18T12:59:40.881Z"
   },
   {
    "duration": 26,
    "start_time": "2025-05-18T12:59:41.014Z"
   },
   {
    "duration": 979,
    "start_time": "2025-05-18T12:59:41.061Z"
   },
   {
    "duration": 493,
    "start_time": "2025-05-18T12:59:42.042Z"
   },
   {
    "duration": 567,
    "start_time": "2025-05-18T12:59:42.537Z"
   },
   {
    "duration": 677,
    "start_time": "2025-05-18T12:59:43.106Z"
   },
   {
    "duration": 60,
    "start_time": "2025-05-18T12:59:43.786Z"
   },
   {
    "duration": 615,
    "start_time": "2025-05-18T12:59:43.862Z"
   },
   {
    "duration": 121,
    "start_time": "2025-05-18T13:01:33.816Z"
   },
   {
    "duration": 1533,
    "start_time": "2025-05-18T13:01:48.868Z"
   },
   {
    "duration": 1413,
    "start_time": "2025-05-18T13:02:01.634Z"
   },
   {
    "duration": 1769,
    "start_time": "2025-05-18T13:02:03.049Z"
   },
   {
    "duration": 380,
    "start_time": "2025-05-18T13:02:04.820Z"
   },
   {
    "duration": 50,
    "start_time": "2025-05-18T13:02:05.202Z"
   },
   {
    "duration": 155,
    "start_time": "2025-05-18T13:02:05.263Z"
   },
   {
    "duration": 171,
    "start_time": "2025-05-18T13:02:05.421Z"
   },
   {
    "duration": 30,
    "start_time": "2025-05-18T13:02:05.595Z"
   },
   {
    "duration": 1162,
    "start_time": "2025-05-18T13:02:05.626Z"
   },
   {
    "duration": 517,
    "start_time": "2025-05-18T13:02:06.791Z"
   },
   {
    "duration": 544,
    "start_time": "2025-05-18T13:02:07.310Z"
   },
   {
    "duration": 626,
    "start_time": "2025-05-18T13:02:07.856Z"
   },
   {
    "duration": 99,
    "start_time": "2025-05-18T13:02:08.485Z"
   },
   {
    "duration": 686,
    "start_time": "2025-05-18T13:02:08.587Z"
   },
   {
    "duration": 1564,
    "start_time": "2025-05-18T13:06:07.268Z"
   },
   {
    "duration": 1351,
    "start_time": "2025-05-18T13:06:17.142Z"
   },
   {
    "duration": 1701,
    "start_time": "2025-05-18T13:06:18.495Z"
   },
   {
    "duration": 274,
    "start_time": "2025-05-18T13:06:20.198Z"
   },
   {
    "duration": 133,
    "start_time": "2025-05-18T13:06:20.474Z"
   },
   {
    "duration": 124,
    "start_time": "2025-05-18T13:06:20.610Z"
   },
   {
    "duration": 145,
    "start_time": "2025-05-18T13:06:20.736Z"
   },
   {
    "duration": 26,
    "start_time": "2025-05-18T13:06:20.883Z"
   },
   {
    "duration": 990,
    "start_time": "2025-05-18T13:06:20.911Z"
   },
   {
    "duration": 524,
    "start_time": "2025-05-18T13:06:21.903Z"
   },
   {
    "duration": 567,
    "start_time": "2025-05-18T13:06:22.429Z"
   },
   {
    "duration": 654,
    "start_time": "2025-05-18T13:06:22.998Z"
   },
   {
    "duration": 74,
    "start_time": "2025-05-18T13:06:23.653Z"
   },
   {
    "duration": 640,
    "start_time": "2025-05-18T13:06:23.729Z"
   },
   {
    "duration": 170,
    "start_time": "2025-05-18T13:09:17.084Z"
   },
   {
    "duration": 230,
    "start_time": "2025-05-18T13:11:22.977Z"
   },
   {
    "duration": 180,
    "start_time": "2025-05-18T13:12:19.833Z"
   },
   {
    "duration": 159,
    "start_time": "2025-05-18T13:12:55.263Z"
   },
   {
    "duration": 1345,
    "start_time": "2025-05-18T13:13:21.387Z"
   },
   {
    "duration": 1914,
    "start_time": "2025-05-18T13:13:22.734Z"
   },
   {
    "duration": 303,
    "start_time": "2025-05-18T13:13:24.651Z"
   },
   {
    "duration": 58,
    "start_time": "2025-05-18T13:13:24.955Z"
   },
   {
    "duration": 149,
    "start_time": "2025-05-18T13:13:25.017Z"
   },
   {
    "duration": 155,
    "start_time": "2025-05-18T13:13:25.168Z"
   },
   {
    "duration": 39,
    "start_time": "2025-05-18T13:13:25.325Z"
   },
   {
    "duration": 1148,
    "start_time": "2025-05-18T13:13:25.367Z"
   },
   {
    "duration": 516,
    "start_time": "2025-05-18T13:13:26.517Z"
   },
   {
    "duration": 552,
    "start_time": "2025-05-18T13:13:27.035Z"
   },
   {
    "duration": 627,
    "start_time": "2025-05-18T13:13:27.589Z"
   },
   {
    "duration": 79,
    "start_time": "2025-05-18T13:13:28.218Z"
   },
   {
    "duration": 646,
    "start_time": "2025-05-18T13:13:28.299Z"
   },
   {
    "duration": 206,
    "start_time": "2025-05-18T13:13:28.960Z"
   },
   {
    "duration": 151,
    "start_time": "2025-05-18T13:13:29.168Z"
   },
   {
    "duration": 102,
    "start_time": "2025-05-18T13:15:15.207Z"
   },
   {
    "duration": 95,
    "start_time": "2025-05-18T13:15:53.239Z"
   },
   {
    "duration": 1344,
    "start_time": "2025-05-18T13:16:00.704Z"
   },
   {
    "duration": 1655,
    "start_time": "2025-05-18T13:16:02.050Z"
   },
   {
    "duration": 271,
    "start_time": "2025-05-18T13:16:03.707Z"
   },
   {
    "duration": 47,
    "start_time": "2025-05-18T13:16:03.980Z"
   },
   {
    "duration": 141,
    "start_time": "2025-05-18T13:16:04.030Z"
   },
   {
    "duration": 134,
    "start_time": "2025-05-18T13:16:04.174Z"
   },
   {
    "duration": 25,
    "start_time": "2025-05-18T13:16:04.309Z"
   },
   {
    "duration": 1007,
    "start_time": "2025-05-18T13:16:04.336Z"
   },
   {
    "duration": 509,
    "start_time": "2025-05-18T13:16:05.345Z"
   },
   {
    "duration": 551,
    "start_time": "2025-05-18T13:16:05.861Z"
   },
   {
    "duration": 653,
    "start_time": "2025-05-18T13:16:06.414Z"
   },
   {
    "duration": 61,
    "start_time": "2025-05-18T13:16:07.070Z"
   },
   {
    "duration": 665,
    "start_time": "2025-05-18T13:16:07.133Z"
   },
   {
    "duration": 187,
    "start_time": "2025-05-18T13:16:07.801Z"
   },
   {
    "duration": 92,
    "start_time": "2025-05-18T13:16:07.991Z"
   },
   {
    "duration": 241,
    "start_time": "2025-05-18T13:17:44.391Z"
   },
   {
    "duration": 237,
    "start_time": "2025-05-18T13:18:34.280Z"
   },
   {
    "duration": 178,
    "start_time": "2025-05-18T13:20:38.418Z"
   },
   {
    "duration": 1343,
    "start_time": "2025-05-18T13:21:07.591Z"
   },
   {
    "duration": 1879,
    "start_time": "2025-05-18T13:21:08.936Z"
   },
   {
    "duration": 308,
    "start_time": "2025-05-18T13:21:10.817Z"
   },
   {
    "duration": 54,
    "start_time": "2025-05-18T13:21:11.127Z"
   },
   {
    "duration": 133,
    "start_time": "2025-05-18T13:21:11.184Z"
   },
   {
    "duration": 126,
    "start_time": "2025-05-18T13:21:11.319Z"
   },
   {
    "duration": 38,
    "start_time": "2025-05-18T13:21:11.447Z"
   },
   {
    "duration": 967,
    "start_time": "2025-05-18T13:21:11.487Z"
   },
   {
    "duration": 503,
    "start_time": "2025-05-18T13:21:12.460Z"
   },
   {
    "duration": 624,
    "start_time": "2025-05-18T13:21:12.966Z"
   },
   {
    "duration": 690,
    "start_time": "2025-05-18T13:21:13.591Z"
   },
   {
    "duration": 83,
    "start_time": "2025-05-18T13:21:14.284Z"
   },
   {
    "duration": 686,
    "start_time": "2025-05-18T13:21:14.370Z"
   },
   {
    "duration": 216,
    "start_time": "2025-05-18T13:21:15.066Z"
   },
   {
    "duration": 243,
    "start_time": "2025-05-18T13:21:15.283Z"
   },
   {
    "duration": 192,
    "start_time": "2025-05-18T13:21:15.529Z"
   },
   {
    "duration": 121,
    "start_time": "2025-05-18T13:32:49.315Z"
   },
   {
    "duration": 1270,
    "start_time": "2025-05-18T13:33:01.115Z"
   },
   {
    "duration": 1798,
    "start_time": "2025-05-18T13:33:02.388Z"
   },
   {
    "duration": 272,
    "start_time": "2025-05-18T13:33:04.188Z"
   },
   {
    "duration": 52,
    "start_time": "2025-05-18T13:33:04.462Z"
   },
   {
    "duration": 126,
    "start_time": "2025-05-18T13:33:04.516Z"
   },
   {
    "duration": 125,
    "start_time": "2025-05-18T13:33:04.644Z"
   },
   {
    "duration": 25,
    "start_time": "2025-05-18T13:33:04.771Z"
   },
   {
    "duration": 921,
    "start_time": "2025-05-18T13:33:04.798Z"
   },
   {
    "duration": 474,
    "start_time": "2025-05-18T13:33:05.721Z"
   },
   {
    "duration": 529,
    "start_time": "2025-05-18T13:33:06.196Z"
   },
   {
    "duration": 622,
    "start_time": "2025-05-18T13:33:06.727Z"
   },
   {
    "duration": 64,
    "start_time": "2025-05-18T13:33:07.351Z"
   },
   {
    "duration": 594,
    "start_time": "2025-05-18T13:33:07.417Z"
   },
   {
    "duration": 180,
    "start_time": "2025-05-18T13:33:08.014Z"
   },
   {
    "duration": 225,
    "start_time": "2025-05-18T13:33:08.196Z"
   },
   {
    "duration": 170,
    "start_time": "2025-05-18T13:33:08.424Z"
   },
   {
    "duration": 132,
    "start_time": "2025-05-18T13:33:08.597Z"
   },
   {
    "duration": 4958,
    "start_time": "2025-05-18T13:34:36.197Z"
   },
   {
    "duration": 414,
    "start_time": "2025-05-18T13:35:27.991Z"
   },
   {
    "duration": 4798,
    "start_time": "2025-05-18T13:35:34.098Z"
   },
   {
    "duration": 132,
    "start_time": "2025-05-18T13:40:30.082Z"
   },
   {
    "duration": 15,
    "start_time": "2025-05-18T13:40:58.593Z"
   },
   {
    "duration": 1328,
    "start_time": "2025-05-18T13:41:09.369Z"
   },
   {
    "duration": 102,
    "start_time": "2025-05-18T13:43:03.013Z"
   },
   {
    "duration": 17,
    "start_time": "2025-05-18T13:44:13.328Z"
   },
   {
    "duration": 26,
    "start_time": "2025-05-18T13:44:44.230Z"
   },
   {
    "duration": 323,
    "start_time": "2025-05-18T13:47:37.175Z"
   },
   {
    "duration": 22,
    "start_time": "2025-05-18T13:48:29.060Z"
   },
   {
    "duration": 1309,
    "start_time": "2025-05-18T13:49:22.561Z"
   },
   {
    "duration": 2168,
    "start_time": "2025-05-18T13:49:23.873Z"
   },
   {
    "duration": 306,
    "start_time": "2025-05-18T13:49:26.043Z"
   },
   {
    "duration": 50,
    "start_time": "2025-05-18T13:49:26.351Z"
   },
   {
    "duration": 124,
    "start_time": "2025-05-18T13:49:26.404Z"
   },
   {
    "duration": 130,
    "start_time": "2025-05-18T13:49:26.531Z"
   },
   {
    "duration": 26,
    "start_time": "2025-05-18T13:49:26.663Z"
   },
   {
    "duration": 949,
    "start_time": "2025-05-18T13:49:26.691Z"
   },
   {
    "duration": 483,
    "start_time": "2025-05-18T13:49:27.642Z"
   },
   {
    "duration": 598,
    "start_time": "2025-05-18T13:49:28.127Z"
   },
   {
    "duration": 649,
    "start_time": "2025-05-18T13:49:28.728Z"
   },
   {
    "duration": 61,
    "start_time": "2025-05-18T13:49:29.379Z"
   },
   {
    "duration": 613,
    "start_time": "2025-05-18T13:49:29.442Z"
   },
   {
    "duration": 185,
    "start_time": "2025-05-18T13:49:30.063Z"
   },
   {
    "duration": 233,
    "start_time": "2025-05-18T13:49:30.250Z"
   },
   {
    "duration": 178,
    "start_time": "2025-05-18T13:49:30.485Z"
   },
   {
    "duration": 4993,
    "start_time": "2025-05-18T13:49:30.665Z"
   },
   {
    "duration": 158,
    "start_time": "2025-05-18T13:49:35.661Z"
   },
   {
    "duration": 87,
    "start_time": "2025-05-18T13:49:51.784Z"
   },
   {
    "duration": 368,
    "start_time": "2025-05-18T13:51:24.131Z"
   },
   {
    "duration": 4631,
    "start_time": "2025-05-18T13:56:15.942Z"
   },
   {
    "duration": 4779,
    "start_time": "2025-05-18T13:56:34.059Z"
   },
   {
    "duration": 5107,
    "start_time": "2025-05-18T13:57:05.226Z"
   },
   {
    "duration": 5169,
    "start_time": "2025-05-18T13:57:20.059Z"
   },
   {
    "duration": 4766,
    "start_time": "2025-05-18T13:57:48.589Z"
   },
   {
    "duration": 1304,
    "start_time": "2025-05-18T13:58:16.260Z"
   },
   {
    "duration": 1617,
    "start_time": "2025-05-18T13:58:17.566Z"
   },
   {
    "duration": 260,
    "start_time": "2025-05-18T13:58:19.185Z"
   },
   {
    "duration": 47,
    "start_time": "2025-05-18T13:58:19.446Z"
   },
   {
    "duration": 112,
    "start_time": "2025-05-18T13:58:19.496Z"
   },
   {
    "duration": 124,
    "start_time": "2025-05-18T13:58:19.610Z"
   },
   {
    "duration": 37,
    "start_time": "2025-05-18T13:58:19.736Z"
   },
   {
    "duration": 907,
    "start_time": "2025-05-18T13:58:19.775Z"
   },
   {
    "duration": 457,
    "start_time": "2025-05-18T13:58:20.684Z"
   },
   {
    "duration": 541,
    "start_time": "2025-05-18T13:58:21.143Z"
   },
   {
    "duration": 622,
    "start_time": "2025-05-18T13:58:21.686Z"
   },
   {
    "duration": 71,
    "start_time": "2025-05-18T13:58:22.311Z"
   },
   {
    "duration": 614,
    "start_time": "2025-05-18T13:58:22.384Z"
   },
   {
    "duration": 182,
    "start_time": "2025-05-18T13:58:23.000Z"
   },
   {
    "duration": 220,
    "start_time": "2025-05-18T13:58:23.184Z"
   },
   {
    "duration": 170,
    "start_time": "2025-05-18T13:58:23.406Z"
   },
   {
    "duration": 4855,
    "start_time": "2025-05-18T13:58:23.578Z"
   },
   {
    "duration": 330,
    "start_time": "2025-05-18T13:58:28.435Z"
   },
   {
    "duration": 4927,
    "start_time": "2025-05-18T13:59:57.538Z"
   },
   {
    "duration": 4975,
    "start_time": "2025-05-18T14:00:24.277Z"
   },
   {
    "duration": 4901,
    "start_time": "2025-05-18T14:00:45.538Z"
   },
   {
    "duration": 115,
    "start_time": "2025-05-18T14:05:45.989Z"
   },
   {
    "duration": 38,
    "start_time": "2025-05-18T14:07:54.482Z"
   },
   {
    "duration": 124,
    "start_time": "2025-05-18T14:08:15.902Z"
   },
   {
    "duration": 62,
    "start_time": "2025-05-18T14:08:33.463Z"
   },
   {
    "duration": 87,
    "start_time": "2025-05-18T14:11:19.121Z"
   },
   {
    "duration": 77,
    "start_time": "2025-05-18T14:12:18.923Z"
   },
   {
    "duration": 102,
    "start_time": "2025-05-18T14:20:30.912Z"
   },
   {
    "duration": 1289,
    "start_time": "2025-05-18T14:20:43.427Z"
   },
   {
    "duration": 1881,
    "start_time": "2025-05-18T14:20:44.718Z"
   },
   {
    "duration": 351,
    "start_time": "2025-05-18T14:20:46.601Z"
   },
   {
    "duration": 62,
    "start_time": "2025-05-18T14:20:46.953Z"
   },
   {
    "duration": 112,
    "start_time": "2025-05-18T14:20:47.017Z"
   },
   {
    "duration": 132,
    "start_time": "2025-05-18T14:20:47.131Z"
   },
   {
    "duration": 26,
    "start_time": "2025-05-18T14:20:47.265Z"
   },
   {
    "duration": 921,
    "start_time": "2025-05-18T14:20:47.293Z"
   },
   {
    "duration": 471,
    "start_time": "2025-05-18T14:20:48.217Z"
   },
   {
    "duration": 576,
    "start_time": "2025-05-18T14:20:48.689Z"
   },
   {
    "duration": 632,
    "start_time": "2025-05-18T14:20:49.267Z"
   },
   {
    "duration": 73,
    "start_time": "2025-05-18T14:20:49.901Z"
   },
   {
    "duration": 600,
    "start_time": "2025-05-18T14:20:49.976Z"
   },
   {
    "duration": 197,
    "start_time": "2025-05-18T14:20:50.578Z"
   },
   {
    "duration": 231,
    "start_time": "2025-05-18T14:20:50.777Z"
   },
   {
    "duration": 172,
    "start_time": "2025-05-18T14:20:51.011Z"
   },
   {
    "duration": 4989,
    "start_time": "2025-05-18T14:20:51.185Z"
   },
   {
    "duration": 321,
    "start_time": "2025-05-18T14:20:56.176Z"
   },
   {
    "duration": 75,
    "start_time": "2025-05-18T14:20:56.499Z"
   },
   {
    "duration": 85,
    "start_time": "2025-05-18T14:20:56.576Z"
   },
   {
    "duration": 85,
    "start_time": "2025-05-18T14:20:56.664Z"
   },
   {
    "duration": 0,
    "start_time": "2025-05-18T14:20:56.752Z"
   },
   {
    "duration": 100,
    "start_time": "2025-05-18T14:22:00.102Z"
   },
   {
    "duration": 4,
    "start_time": "2025-05-18T14:25:08.057Z"
   },
   {
    "duration": 1317,
    "start_time": "2025-05-18T14:25:24.718Z"
   },
   {
    "duration": 1560,
    "start_time": "2025-05-18T14:25:26.038Z"
   },
   {
    "duration": 271,
    "start_time": "2025-05-18T14:25:27.601Z"
   },
   {
    "duration": 45,
    "start_time": "2025-05-18T14:25:27.874Z"
   },
   {
    "duration": 132,
    "start_time": "2025-05-18T14:25:27.922Z"
   },
   {
    "duration": 127,
    "start_time": "2025-05-18T14:25:28.061Z"
   },
   {
    "duration": 25,
    "start_time": "2025-05-18T14:25:28.190Z"
   },
   {
    "duration": 937,
    "start_time": "2025-05-18T14:25:28.218Z"
   },
   {
    "duration": 447,
    "start_time": "2025-05-18T14:25:29.157Z"
   },
   {
    "duration": 510,
    "start_time": "2025-05-18T14:25:29.606Z"
   },
   {
    "duration": 600,
    "start_time": "2025-05-18T14:25:30.118Z"
   },
   {
    "duration": 68,
    "start_time": "2025-05-18T14:25:30.720Z"
   },
   {
    "duration": 591,
    "start_time": "2025-05-18T14:25:30.790Z"
   },
   {
    "duration": 183,
    "start_time": "2025-05-18T14:25:31.384Z"
   },
   {
    "duration": 245,
    "start_time": "2025-05-18T14:25:31.568Z"
   },
   {
    "duration": 166,
    "start_time": "2025-05-18T14:25:31.814Z"
   },
   {
    "duration": 4879,
    "start_time": "2025-05-18T14:25:31.982Z"
   },
   {
    "duration": 313,
    "start_time": "2025-05-18T14:25:36.864Z"
   },
   {
    "duration": 62,
    "start_time": "2025-05-18T14:25:37.179Z"
   },
   {
    "duration": 68,
    "start_time": "2025-05-18T14:25:37.260Z"
   },
   {
    "duration": 117,
    "start_time": "2025-05-18T14:25:37.330Z"
   },
   {
    "duration": 80,
    "start_time": "2025-05-18T14:29:09.761Z"
   },
   {
    "duration": 11,
    "start_time": "2025-05-18T14:29:12.860Z"
   },
   {
    "duration": 691,
    "start_time": "2025-05-18T14:33:37.774Z"
   },
   {
    "duration": 25,
    "start_time": "2025-05-18T14:34:56.394Z"
   },
   {
    "duration": 1264,
    "start_time": "2025-05-18T15:01:56.666Z"
   },
   {
    "duration": 1791,
    "start_time": "2025-05-18T15:01:57.933Z"
   },
   {
    "duration": 285,
    "start_time": "2025-05-18T15:01:59.726Z"
   },
   {
    "duration": 59,
    "start_time": "2025-05-18T15:02:00.013Z"
   },
   {
    "duration": 128,
    "start_time": "2025-05-18T15:02:00.076Z"
   },
   {
    "duration": 131,
    "start_time": "2025-05-18T15:02:00.206Z"
   },
   {
    "duration": 40,
    "start_time": "2025-05-18T15:02:00.340Z"
   },
   {
    "duration": 912,
    "start_time": "2025-05-18T15:02:00.382Z"
   },
   {
    "duration": 479,
    "start_time": "2025-05-18T15:02:01.296Z"
   },
   {
    "duration": 514,
    "start_time": "2025-05-18T15:02:01.777Z"
   },
   {
    "duration": 608,
    "start_time": "2025-05-18T15:02:02.293Z"
   },
   {
    "duration": 69,
    "start_time": "2025-05-18T15:02:02.903Z"
   },
   {
    "duration": 606,
    "start_time": "2025-05-18T15:02:02.974Z"
   },
   {
    "duration": 187,
    "start_time": "2025-05-18T15:02:03.583Z"
   },
   {
    "duration": 238,
    "start_time": "2025-05-18T15:02:03.772Z"
   },
   {
    "duration": 176,
    "start_time": "2025-05-18T15:02:04.012Z"
   },
   {
    "duration": 5078,
    "start_time": "2025-05-18T15:02:04.190Z"
   },
   {
    "duration": 322,
    "start_time": "2025-05-18T15:02:09.270Z"
   },
   {
    "duration": 75,
    "start_time": "2025-05-18T15:02:09.594Z"
   },
   {
    "duration": 68,
    "start_time": "2025-05-18T15:02:09.671Z"
   },
   {
    "duration": 126,
    "start_time": "2025-05-18T15:02:09.741Z"
   },
   {
    "duration": 716,
    "start_time": "2025-05-18T15:02:09.869Z"
   },
   {
    "duration": 28,
    "start_time": "2025-05-18T15:02:10.586Z"
   },
   {
    "duration": 1325,
    "start_time": "2025-05-18T15:02:15.308Z"
   },
   {
    "duration": 1654,
    "start_time": "2025-05-18T15:02:16.635Z"
   },
   {
    "duration": 250,
    "start_time": "2025-05-18T15:02:18.292Z"
   },
   {
    "duration": 53,
    "start_time": "2025-05-18T15:02:18.544Z"
   },
   {
    "duration": 127,
    "start_time": "2025-05-18T15:02:18.599Z"
   },
   {
    "duration": 123,
    "start_time": "2025-05-18T15:02:18.727Z"
   },
   {
    "duration": 27,
    "start_time": "2025-05-18T15:02:18.860Z"
   },
   {
    "duration": 965,
    "start_time": "2025-05-18T15:02:18.889Z"
   },
   {
    "duration": 462,
    "start_time": "2025-05-18T15:02:19.856Z"
   },
   {
    "duration": 520,
    "start_time": "2025-05-18T15:02:20.320Z"
   },
   {
    "duration": 685,
    "start_time": "2025-05-18T15:02:20.842Z"
   },
   {
    "duration": 69,
    "start_time": "2025-05-18T15:02:21.529Z"
   },
   {
    "duration": 627,
    "start_time": "2025-05-18T15:02:21.600Z"
   },
   {
    "duration": 189,
    "start_time": "2025-05-18T15:02:22.229Z"
   },
   {
    "duration": 234,
    "start_time": "2025-05-18T15:02:22.420Z"
   },
   {
    "duration": 167,
    "start_time": "2025-05-18T15:02:22.660Z"
   },
   {
    "duration": 5041,
    "start_time": "2025-05-18T15:02:22.829Z"
   },
   {
    "duration": 340,
    "start_time": "2025-05-18T15:02:27.873Z"
   },
   {
    "duration": 102,
    "start_time": "2025-05-18T15:02:28.215Z"
   },
   {
    "duration": 103,
    "start_time": "2025-05-18T15:02:28.320Z"
   },
   {
    "duration": 107,
    "start_time": "2025-05-18T15:02:28.425Z"
   },
   {
    "duration": 746,
    "start_time": "2025-05-18T15:02:28.534Z"
   },
   {
    "duration": 26,
    "start_time": "2025-05-18T15:02:29.281Z"
   },
   {
    "duration": 1391,
    "start_time": "2025-05-19T11:51:00.220Z"
   },
   {
    "duration": 1691,
    "start_time": "2025-05-19T11:51:01.613Z"
   },
   {
    "duration": 312,
    "start_time": "2025-05-19T11:51:03.306Z"
   },
   {
    "duration": 83,
    "start_time": "2025-05-19T11:51:03.619Z"
   },
   {
    "duration": 129,
    "start_time": "2025-05-19T11:51:03.704Z"
   },
   {
    "duration": 147,
    "start_time": "2025-05-19T11:51:03.839Z"
   },
   {
    "duration": 22,
    "start_time": "2025-05-19T11:51:03.988Z"
   },
   {
    "duration": 997,
    "start_time": "2025-05-19T11:51:04.012Z"
   },
   {
    "duration": 487,
    "start_time": "2025-05-19T11:51:05.011Z"
   },
   {
    "duration": 532,
    "start_time": "2025-05-19T11:51:05.500Z"
   },
   {
    "duration": 617,
    "start_time": "2025-05-19T11:51:06.034Z"
   },
   {
    "duration": 58,
    "start_time": "2025-05-19T11:51:06.656Z"
   },
   {
    "duration": 664,
    "start_time": "2025-05-19T11:51:06.716Z"
   },
   {
    "duration": 211,
    "start_time": "2025-05-19T11:51:07.383Z"
   },
   {
    "duration": 241,
    "start_time": "2025-05-19T11:51:07.597Z"
   },
   {
    "duration": 189,
    "start_time": "2025-05-19T11:51:07.842Z"
   },
   {
    "duration": 5187,
    "start_time": "2025-05-19T11:51:08.033Z"
   },
   {
    "duration": 376,
    "start_time": "2025-05-19T11:51:13.222Z"
   },
   {
    "duration": 86,
    "start_time": "2025-05-19T11:51:13.601Z"
   },
   {
    "duration": 86,
    "start_time": "2025-05-19T11:51:13.690Z"
   },
   {
    "duration": 109,
    "start_time": "2025-05-19T11:51:13.778Z"
   },
   {
    "duration": 717,
    "start_time": "2025-05-19T11:51:13.889Z"
   },
   {
    "duration": 47,
    "start_time": "2025-05-19T11:51:14.608Z"
   },
   {
    "duration": 164,
    "start_time": "2025-05-19T11:51:40.954Z"
   },
   {
    "duration": 1600,
    "start_time": "2025-05-19T12:02:27.390Z"
   },
   {
    "duration": 1729,
    "start_time": "2025-05-19T12:02:28.992Z"
   },
   {
    "duration": 391,
    "start_time": "2025-05-19T12:02:30.723Z"
   },
   {
    "duration": 62,
    "start_time": "2025-05-19T12:02:31.116Z"
   },
   {
    "duration": 141,
    "start_time": "2025-05-19T12:02:31.182Z"
   },
   {
    "duration": 158,
    "start_time": "2025-05-19T12:02:31.325Z"
   },
   {
    "duration": 22,
    "start_time": "2025-05-19T12:02:31.485Z"
   },
   {
    "duration": 1068,
    "start_time": "2025-05-19T12:02:31.509Z"
   },
   {
    "duration": 507,
    "start_time": "2025-05-19T12:02:32.579Z"
   },
   {
    "duration": 545,
    "start_time": "2025-05-19T12:02:33.090Z"
   },
   {
    "duration": 648,
    "start_time": "2025-05-19T12:02:33.639Z"
   },
   {
    "duration": 83,
    "start_time": "2025-05-19T12:02:34.291Z"
   },
   {
    "duration": 686,
    "start_time": "2025-05-19T12:02:34.379Z"
   },
   {
    "duration": 210,
    "start_time": "2025-05-19T12:02:35.071Z"
   },
   {
    "duration": 252,
    "start_time": "2025-05-19T12:02:35.282Z"
   },
   {
    "duration": 222,
    "start_time": "2025-05-19T12:02:35.538Z"
   },
   {
    "duration": 5499,
    "start_time": "2025-05-19T12:02:35.763Z"
   },
   {
    "duration": 342,
    "start_time": "2025-05-19T12:02:41.264Z"
   },
   {
    "duration": 74,
    "start_time": "2025-05-19T12:02:41.608Z"
   },
   {
    "duration": 108,
    "start_time": "2025-05-19T12:02:41.685Z"
   },
   {
    "duration": 113,
    "start_time": "2025-05-19T12:02:41.795Z"
   },
   {
    "duration": 773,
    "start_time": "2025-05-19T12:02:41.909Z"
   },
   {
    "duration": 25,
    "start_time": "2025-05-19T12:02:42.684Z"
   },
   {
    "duration": 1318,
    "start_time": "2025-05-19T12:08:16.111Z"
   },
   {
    "duration": 1727,
    "start_time": "2025-05-19T12:08:17.431Z"
   },
   {
    "duration": 269,
    "start_time": "2025-05-19T12:08:19.160Z"
   },
   {
    "duration": 76,
    "start_time": "2025-05-19T12:08:19.430Z"
   },
   {
    "duration": 138,
    "start_time": "2025-05-19T12:08:19.508Z"
   },
   {
    "duration": 163,
    "start_time": "2025-05-19T12:08:19.648Z"
   },
   {
    "duration": 53,
    "start_time": "2025-05-19T12:08:19.813Z"
   },
   {
    "duration": 1079,
    "start_time": "2025-05-19T12:08:19.873Z"
   },
   {
    "duration": 548,
    "start_time": "2025-05-19T12:08:20.954Z"
   },
   {
    "duration": 635,
    "start_time": "2025-05-19T12:08:21.503Z"
   },
   {
    "duration": 714,
    "start_time": "2025-05-19T12:08:22.140Z"
   },
   {
    "duration": 67,
    "start_time": "2025-05-19T12:08:22.860Z"
   },
   {
    "duration": 741,
    "start_time": "2025-05-19T12:08:22.929Z"
   },
   {
    "duration": 204,
    "start_time": "2025-05-19T12:08:23.684Z"
   },
   {
    "duration": 265,
    "start_time": "2025-05-19T12:08:23.890Z"
   },
   {
    "duration": 175,
    "start_time": "2025-05-19T12:08:24.158Z"
   },
   {
    "duration": 5632,
    "start_time": "2025-05-19T12:08:24.339Z"
   },
   {
    "duration": 351,
    "start_time": "2025-05-19T12:08:29.974Z"
   },
   {
    "duration": 87,
    "start_time": "2025-05-19T12:08:30.327Z"
   },
   {
    "duration": 98,
    "start_time": "2025-05-19T12:08:30.416Z"
   },
   {
    "duration": 128,
    "start_time": "2025-05-19T12:08:30.516Z"
   },
   {
    "duration": 870,
    "start_time": "2025-05-19T12:08:30.648Z"
   },
   {
    "duration": 50,
    "start_time": "2025-05-19T12:08:31.520Z"
   },
   {
    "duration": 1355,
    "start_time": "2025-05-19T21:13:18.017Z"
   },
   {
    "duration": 2012,
    "start_time": "2025-05-19T21:13:19.375Z"
   },
   {
    "duration": 308,
    "start_time": "2025-05-19T21:13:21.389Z"
   },
   {
    "duration": 48,
    "start_time": "2025-05-19T21:13:21.699Z"
   },
   {
    "duration": 105,
    "start_time": "2025-05-19T21:13:21.751Z"
   },
   {
    "duration": 112,
    "start_time": "2025-05-19T21:13:21.858Z"
   },
   {
    "duration": 21,
    "start_time": "2025-05-19T21:13:21.972Z"
   },
   {
    "duration": 839,
    "start_time": "2025-05-19T21:13:21.995Z"
   },
   {
    "duration": 403,
    "start_time": "2025-05-19T21:13:22.836Z"
   },
   {
    "duration": 452,
    "start_time": "2025-05-19T21:13:23.241Z"
   },
   {
    "duration": 560,
    "start_time": "2025-05-19T21:13:23.695Z"
   },
   {
    "duration": 59,
    "start_time": "2025-05-19T21:13:24.257Z"
   },
   {
    "duration": 561,
    "start_time": "2025-05-19T21:13:24.338Z"
   },
   {
    "duration": 165,
    "start_time": "2025-05-19T21:13:24.901Z"
   },
   {
    "duration": 230,
    "start_time": "2025-05-19T21:13:25.067Z"
   },
   {
    "duration": 154,
    "start_time": "2025-05-19T21:13:25.299Z"
   },
   {
    "duration": 4483,
    "start_time": "2025-05-19T21:13:25.455Z"
   },
   {
    "duration": 284,
    "start_time": "2025-05-19T21:13:29.940Z"
   },
   {
    "duration": 62,
    "start_time": "2025-05-19T21:13:30.226Z"
   },
   {
    "duration": 74,
    "start_time": "2025-05-19T21:13:30.289Z"
   },
   {
    "duration": 106,
    "start_time": "2025-05-19T21:13:30.366Z"
   },
   {
    "duration": 620,
    "start_time": "2025-05-19T21:13:30.474Z"
   },
   {
    "duration": 22,
    "start_time": "2025-05-19T21:13:31.096Z"
   },
   {
    "duration": 58,
    "start_time": "2025-05-20T10:04:49.021Z"
   },
   {
    "duration": 1341,
    "start_time": "2025-05-20T10:04:56.531Z"
   },
   {
    "duration": 1647,
    "start_time": "2025-05-20T10:04:57.874Z"
   },
   {
    "duration": 359,
    "start_time": "2025-05-20T10:04:59.523Z"
   },
   {
    "duration": 57,
    "start_time": "2025-05-20T10:04:59.884Z"
   },
   {
    "duration": 111,
    "start_time": "2025-05-20T10:04:59.943Z"
   },
   {
    "duration": 114,
    "start_time": "2025-05-20T10:05:00.055Z"
   },
   {
    "duration": 20,
    "start_time": "2025-05-20T10:05:00.171Z"
   },
   {
    "duration": 874,
    "start_time": "2025-05-20T10:05:00.193Z"
   },
   {
    "duration": 394,
    "start_time": "2025-05-20T10:05:01.069Z"
   },
   {
    "duration": 485,
    "start_time": "2025-05-20T10:05:01.465Z"
   },
   {
    "duration": 508,
    "start_time": "2025-05-20T10:05:01.952Z"
   },
   {
    "duration": 52,
    "start_time": "2025-05-20T10:05:02.462Z"
   },
   {
    "duration": 545,
    "start_time": "2025-05-20T10:05:02.516Z"
   },
   {
    "duration": 162,
    "start_time": "2025-05-20T10:05:03.064Z"
   },
   {
    "duration": 203,
    "start_time": "2025-05-20T10:05:03.227Z"
   },
   {
    "duration": 144,
    "start_time": "2025-05-20T10:05:03.435Z"
   },
   {
    "duration": 4600,
    "start_time": "2025-05-20T10:05:03.581Z"
   },
   {
    "duration": 260,
    "start_time": "2025-05-20T10:05:08.183Z"
   },
   {
    "duration": 49,
    "start_time": "2025-05-20T10:05:08.444Z"
   },
   {
    "duration": 74,
    "start_time": "2025-05-20T10:05:08.495Z"
   },
   {
    "duration": 94,
    "start_time": "2025-05-20T10:05:08.571Z"
   },
   {
    "duration": 644,
    "start_time": "2025-05-20T10:05:08.668Z"
   },
   {
    "duration": 35,
    "start_time": "2025-05-20T10:05:09.314Z"
   },
   {
    "duration": 153,
    "start_time": "2025-05-20T10:06:38.536Z"
   },
   {
    "duration": 1161,
    "start_time": "2025-05-20T10:06:49.293Z"
   },
   {
    "duration": 1643,
    "start_time": "2025-05-20T10:06:50.456Z"
   },
   {
    "duration": 471,
    "start_time": "2025-05-20T10:06:52.100Z"
   },
   {
    "duration": 47,
    "start_time": "2025-05-20T10:06:52.573Z"
   },
   {
    "duration": 106,
    "start_time": "2025-05-20T10:06:52.622Z"
   },
   {
    "duration": 116,
    "start_time": "2025-05-20T10:06:52.730Z"
   },
   {
    "duration": 20,
    "start_time": "2025-05-20T10:06:52.848Z"
   },
   {
    "duration": 831,
    "start_time": "2025-05-20T10:06:52.869Z"
   },
   {
    "duration": 410,
    "start_time": "2025-05-20T10:06:53.701Z"
   },
   {
    "duration": 765,
    "start_time": "2025-05-20T10:06:54.114Z"
   },
   {
    "duration": 533,
    "start_time": "2025-05-20T10:06:54.881Z"
   },
   {
    "duration": 61,
    "start_time": "2025-05-20T10:06:55.416Z"
   },
   {
    "duration": 618,
    "start_time": "2025-05-20T10:06:55.479Z"
   },
   {
    "duration": 182,
    "start_time": "2025-05-20T10:06:56.099Z"
   },
   {
    "duration": 198,
    "start_time": "2025-05-20T10:06:56.283Z"
   },
   {
    "duration": 148,
    "start_time": "2025-05-20T10:06:56.482Z"
   },
   {
    "duration": 4501,
    "start_time": "2025-05-20T10:06:56.636Z"
   },
   {
    "duration": 265,
    "start_time": "2025-05-20T10:07:01.139Z"
   },
   {
    "duration": 62,
    "start_time": "2025-05-20T10:07:01.406Z"
   },
   {
    "duration": 70,
    "start_time": "2025-05-20T10:07:01.470Z"
   },
   {
    "duration": 74,
    "start_time": "2025-05-20T10:07:01.541Z"
   },
   {
    "duration": 634,
    "start_time": "2025-05-20T10:07:01.617Z"
   },
   {
    "duration": 21,
    "start_time": "2025-05-20T10:07:02.252Z"
   },
   {
    "duration": 146,
    "start_time": "2025-05-20T10:10:55.341Z"
   },
   {
    "duration": 1162,
    "start_time": "2025-05-20T10:11:03.102Z"
   },
   {
    "duration": 1399,
    "start_time": "2025-05-20T10:11:04.266Z"
   },
   {
    "duration": 285,
    "start_time": "2025-05-20T10:11:05.667Z"
   },
   {
    "duration": 47,
    "start_time": "2025-05-20T10:11:05.954Z"
   },
   {
    "duration": 109,
    "start_time": "2025-05-20T10:11:06.004Z"
   },
   {
    "duration": 121,
    "start_time": "2025-05-20T10:11:06.115Z"
   },
   {
    "duration": 20,
    "start_time": "2025-05-20T10:11:06.238Z"
   },
   {
    "duration": 836,
    "start_time": "2025-05-20T10:11:06.260Z"
   },
   {
    "duration": 408,
    "start_time": "2025-05-20T10:11:07.098Z"
   },
   {
    "duration": 817,
    "start_time": "2025-05-20T10:11:07.508Z"
   },
   {
    "duration": 540,
    "start_time": "2025-05-20T10:11:08.326Z"
   },
   {
    "duration": 70,
    "start_time": "2025-05-20T10:11:08.867Z"
   },
   {
    "duration": 560,
    "start_time": "2025-05-20T10:11:08.940Z"
   },
   {
    "duration": 171,
    "start_time": "2025-05-20T10:11:09.503Z"
   },
   {
    "duration": 223,
    "start_time": "2025-05-20T10:11:09.676Z"
   },
   {
    "duration": 161,
    "start_time": "2025-05-20T10:11:09.901Z"
   },
   {
    "duration": 4621,
    "start_time": "2025-05-20T10:11:10.064Z"
   },
   {
    "duration": 271,
    "start_time": "2025-05-20T10:11:14.687Z"
   },
   {
    "duration": 52,
    "start_time": "2025-05-20T10:11:14.959Z"
   },
   {
    "duration": 77,
    "start_time": "2025-05-20T10:11:15.013Z"
   },
   {
    "duration": 89,
    "start_time": "2025-05-20T10:11:15.092Z"
   },
   {
    "duration": 653,
    "start_time": "2025-05-20T10:11:15.183Z"
   },
   {
    "duration": 23,
    "start_time": "2025-05-20T10:11:15.838Z"
   },
   {
    "duration": 1576,
    "start_time": "2025-05-20T10:12:09.121Z"
   },
   {
    "duration": 1415,
    "start_time": "2025-05-20T10:16:47.861Z"
   },
   {
    "duration": 1385,
    "start_time": "2025-05-20T10:16:49.279Z"
   },
   {
    "duration": 240,
    "start_time": "2025-05-20T10:16:50.665Z"
   },
   {
    "duration": 42,
    "start_time": "2025-05-20T10:16:50.907Z"
   },
   {
    "duration": 113,
    "start_time": "2025-05-20T10:16:50.951Z"
   },
   {
    "duration": 119,
    "start_time": "2025-05-20T10:16:51.066Z"
   },
   {
    "duration": 21,
    "start_time": "2025-05-20T10:16:51.186Z"
   },
   {
    "duration": 829,
    "start_time": "2025-05-20T10:16:51.208Z"
   },
   {
    "duration": 398,
    "start_time": "2025-05-20T10:16:52.039Z"
   },
   {
    "duration": 762,
    "start_time": "2025-05-20T10:16:52.440Z"
   },
   {
    "duration": 346,
    "start_time": "2025-05-20T10:16:53.204Z"
   },
   {
    "duration": 508,
    "start_time": "2025-05-20T10:16:53.552Z"
   },
   {
    "duration": 52,
    "start_time": "2025-05-20T10:16:54.062Z"
   },
   {
    "duration": 558,
    "start_time": "2025-05-20T10:16:54.116Z"
   },
   {
    "duration": 161,
    "start_time": "2025-05-20T10:16:54.676Z"
   },
   {
    "duration": 201,
    "start_time": "2025-05-20T10:16:54.839Z"
   },
   {
    "duration": 155,
    "start_time": "2025-05-20T10:16:55.041Z"
   },
   {
    "duration": 4479,
    "start_time": "2025-05-20T10:16:55.198Z"
   },
   {
    "duration": 259,
    "start_time": "2025-05-20T10:16:59.679Z"
   },
   {
    "duration": 51,
    "start_time": "2025-05-20T10:16:59.940Z"
   },
   {
    "duration": 76,
    "start_time": "2025-05-20T10:16:59.993Z"
   },
   {
    "duration": 84,
    "start_time": "2025-05-20T10:17:00.071Z"
   },
   {
    "duration": 606,
    "start_time": "2025-05-20T10:17:00.157Z"
   },
   {
    "duration": 23,
    "start_time": "2025-05-20T10:17:00.765Z"
   },
   {
    "duration": 1537,
    "start_time": "2025-05-20T11:47:40.537Z"
   },
   {
    "duration": 1363,
    "start_time": "2025-05-20T11:49:55.917Z"
   },
   {
    "duration": 1472,
    "start_time": "2025-05-20T11:50:49.789Z"
   },
   {
    "duration": 1893,
    "start_time": "2025-05-20T11:51:00.797Z"
   },
   {
    "duration": 1446,
    "start_time": "2025-05-20T11:51:11.537Z"
   },
   {
    "duration": 1245,
    "start_time": "2025-05-20T11:51:18.359Z"
   },
   {
    "duration": 1862,
    "start_time": "2025-05-20T11:51:19.606Z"
   },
   {
    "duration": 623,
    "start_time": "2025-05-20T11:51:21.469Z"
   },
   {
    "duration": 83,
    "start_time": "2025-05-20T11:51:22.094Z"
   },
   {
    "duration": 117,
    "start_time": "2025-05-20T11:51:22.179Z"
   },
   {
    "duration": 129,
    "start_time": "2025-05-20T11:51:22.297Z"
   },
   {
    "duration": 39,
    "start_time": "2025-05-20T11:51:22.427Z"
   },
   {
    "duration": 928,
    "start_time": "2025-05-20T11:51:22.467Z"
   },
   {
    "duration": 430,
    "start_time": "2025-05-20T11:51:23.397Z"
   },
   {
    "duration": 880,
    "start_time": "2025-05-20T11:51:23.836Z"
   },
   {
    "duration": 395,
    "start_time": "2025-05-20T11:51:24.718Z"
   },
   {
    "duration": 590,
    "start_time": "2025-05-20T11:51:25.116Z"
   },
   {
    "duration": 62,
    "start_time": "2025-05-20T11:51:25.708Z"
   },
   {
    "duration": 646,
    "start_time": "2025-05-20T11:51:25.773Z"
   },
   {
    "duration": 186,
    "start_time": "2025-05-20T11:51:26.421Z"
   },
   {
    "duration": 223,
    "start_time": "2025-05-20T11:51:26.609Z"
   },
   {
    "duration": 173,
    "start_time": "2025-05-20T11:51:26.837Z"
   },
   {
    "duration": 1536,
    "start_time": "2025-05-20T11:51:27.012Z"
   },
   {
    "duration": 0,
    "start_time": "2025-05-20T11:51:28.550Z"
   },
   {
    "duration": 0,
    "start_time": "2025-05-20T11:51:28.552Z"
   },
   {
    "duration": 0,
    "start_time": "2025-05-20T11:51:28.554Z"
   },
   {
    "duration": 0,
    "start_time": "2025-05-20T11:51:28.556Z"
   },
   {
    "duration": 0,
    "start_time": "2025-05-20T11:51:28.557Z"
   },
   {
    "duration": 0,
    "start_time": "2025-05-20T11:51:28.559Z"
   },
   {
    "duration": 0,
    "start_time": "2025-05-20T11:51:28.560Z"
   },
   {
    "duration": 190,
    "start_time": "2025-05-20T11:54:11.496Z"
   },
   {
    "duration": 177,
    "start_time": "2025-05-20T11:54:38.316Z"
   },
   {
    "duration": 190,
    "start_time": "2025-05-20T12:00:01.576Z"
   },
   {
    "duration": 155,
    "start_time": "2025-05-20T12:07:53.424Z"
   },
   {
    "duration": 16,
    "start_time": "2025-05-20T12:08:16.094Z"
   },
   {
    "duration": 1255,
    "start_time": "2025-05-20T12:08:27.828Z"
   },
   {
    "duration": 1856,
    "start_time": "2025-05-20T12:08:29.085Z"
   },
   {
    "duration": 310,
    "start_time": "2025-05-20T12:08:30.943Z"
   },
   {
    "duration": 63,
    "start_time": "2025-05-20T12:08:31.255Z"
   },
   {
    "duration": 112,
    "start_time": "2025-05-20T12:08:31.320Z"
   },
   {
    "duration": 112,
    "start_time": "2025-05-20T12:08:31.437Z"
   },
   {
    "duration": 22,
    "start_time": "2025-05-20T12:08:31.550Z"
   },
   {
    "duration": 878,
    "start_time": "2025-05-20T12:08:31.574Z"
   },
   {
    "duration": 412,
    "start_time": "2025-05-20T12:08:32.454Z"
   },
   {
    "duration": 734,
    "start_time": "2025-05-20T12:08:32.870Z"
   },
   {
    "duration": 364,
    "start_time": "2025-05-20T12:08:33.606Z"
   },
   {
    "duration": 546,
    "start_time": "2025-05-20T12:08:33.972Z"
   },
   {
    "duration": 58,
    "start_time": "2025-05-20T12:08:34.520Z"
   },
   {
    "duration": 691,
    "start_time": "2025-05-20T12:08:34.580Z"
   },
   {
    "duration": 172,
    "start_time": "2025-05-20T12:08:35.273Z"
   },
   {
    "duration": 207,
    "start_time": "2025-05-20T12:08:35.447Z"
   },
   {
    "duration": 158,
    "start_time": "2025-05-20T12:08:35.656Z"
   },
   {
    "duration": 204,
    "start_time": "2025-05-20T12:08:35.816Z"
   },
   {
    "duration": 116,
    "start_time": "2025-05-20T12:08:36.022Z"
   },
   {
    "duration": 172,
    "start_time": "2025-05-20T12:08:36.140Z"
   },
   {
    "duration": 112,
    "start_time": "2025-05-20T12:08:36.314Z"
   },
   {
    "duration": 0,
    "start_time": "2025-05-20T12:08:36.428Z"
   },
   {
    "duration": 0,
    "start_time": "2025-05-20T12:08:36.436Z"
   },
   {
    "duration": 0,
    "start_time": "2025-05-20T12:08:36.437Z"
   },
   {
    "duration": 0,
    "start_time": "2025-05-20T12:08:36.438Z"
   },
   {
    "duration": 0,
    "start_time": "2025-05-20T12:08:36.439Z"
   },
   {
    "duration": 0,
    "start_time": "2025-05-20T12:08:36.440Z"
   },
   {
    "duration": 0,
    "start_time": "2025-05-20T12:08:36.441Z"
   },
   {
    "duration": 1766,
    "start_time": "2025-05-20T12:09:25.152Z"
   },
   {
    "duration": 8,
    "start_time": "2025-05-20T12:10:16.543Z"
   },
   {
    "duration": 9,
    "start_time": "2025-05-20T12:10:29.192Z"
   },
   {
    "duration": 29,
    "start_time": "2025-05-20T12:10:34.271Z"
   },
   {
    "duration": 98,
    "start_time": "2025-05-20T12:11:26.523Z"
   },
   {
    "duration": 118,
    "start_time": "2025-05-20T12:12:14.748Z"
   },
   {
    "duration": 534,
    "start_time": "2025-05-20T12:12:40.148Z"
   },
   {
    "duration": 436,
    "start_time": "2025-05-20T12:12:57.711Z"
   },
   {
    "duration": 97,
    "start_time": "2025-05-20T12:16:13.588Z"
   },
   {
    "duration": 217,
    "start_time": "2025-05-20T12:17:21.997Z"
   },
   {
    "duration": 104,
    "start_time": "2025-05-20T12:21:49.496Z"
   },
   {
    "duration": 266,
    "start_time": "2025-05-20T12:22:28.837Z"
   },
   {
    "duration": 227,
    "start_time": "2025-05-20T12:23:12.097Z"
   },
   {
    "duration": 259,
    "start_time": "2025-05-20T12:23:34.357Z"
   },
   {
    "duration": 226,
    "start_time": "2025-05-20T12:23:57.797Z"
   },
   {
    "duration": 326,
    "start_time": "2025-05-20T12:24:52.978Z"
   },
   {
    "duration": 1253,
    "start_time": "2025-05-20T12:24:59.618Z"
   },
   {
    "duration": 2284,
    "start_time": "2025-05-20T12:25:00.873Z"
   },
   {
    "duration": 339,
    "start_time": "2025-05-20T12:25:03.158Z"
   },
   {
    "duration": 39,
    "start_time": "2025-05-20T12:25:03.499Z"
   },
   {
    "duration": 114,
    "start_time": "2025-05-20T12:25:03.541Z"
   },
   {
    "duration": 112,
    "start_time": "2025-05-20T12:25:03.657Z"
   },
   {
    "duration": 21,
    "start_time": "2025-05-20T12:25:03.771Z"
   },
   {
    "duration": 876,
    "start_time": "2025-05-20T12:25:03.794Z"
   },
   {
    "duration": 395,
    "start_time": "2025-05-20T12:25:04.672Z"
   },
   {
    "duration": 767,
    "start_time": "2025-05-20T12:25:05.069Z"
   },
   {
    "duration": 346,
    "start_time": "2025-05-20T12:25:05.838Z"
   },
   {
    "duration": 494,
    "start_time": "2025-05-20T12:25:06.185Z"
   },
   {
    "duration": 60,
    "start_time": "2025-05-20T12:25:06.680Z"
   },
   {
    "duration": 514,
    "start_time": "2025-05-20T12:25:06.743Z"
   },
   {
    "duration": 161,
    "start_time": "2025-05-20T12:25:07.259Z"
   },
   {
    "duration": 211,
    "start_time": "2025-05-20T12:25:07.422Z"
   },
   {
    "duration": 151,
    "start_time": "2025-05-20T12:25:07.636Z"
   },
   {
    "duration": 110,
    "start_time": "2025-05-20T12:25:07.789Z"
   },
   {
    "duration": 0,
    "start_time": "2025-05-20T12:25:07.900Z"
   },
   {
    "duration": 0,
    "start_time": "2025-05-20T12:25:07.902Z"
   },
   {
    "duration": 0,
    "start_time": "2025-05-20T12:25:07.903Z"
   },
   {
    "duration": 0,
    "start_time": "2025-05-20T12:25:07.904Z"
   },
   {
    "duration": 0,
    "start_time": "2025-05-20T12:25:07.905Z"
   },
   {
    "duration": 0,
    "start_time": "2025-05-20T12:25:07.907Z"
   },
   {
    "duration": 0,
    "start_time": "2025-05-20T12:25:07.908Z"
   },
   {
    "duration": 0,
    "start_time": "2025-05-20T12:25:07.909Z"
   },
   {
    "duration": 542,
    "start_time": "2025-05-20T12:27:16.837Z"
   },
   {
    "duration": 1169,
    "start_time": "2025-05-20T12:27:34.002Z"
   },
   {
    "duration": 1884,
    "start_time": "2025-05-20T12:27:35.173Z"
   },
   {
    "duration": 260,
    "start_time": "2025-05-20T12:27:37.058Z"
   },
   {
    "duration": 83,
    "start_time": "2025-05-20T12:27:37.319Z"
   },
   {
    "duration": 120,
    "start_time": "2025-05-20T12:27:37.404Z"
   },
   {
    "duration": 137,
    "start_time": "2025-05-20T12:27:37.525Z"
   },
   {
    "duration": 21,
    "start_time": "2025-05-20T12:27:37.664Z"
   },
   {
    "duration": 874,
    "start_time": "2025-05-20T12:27:37.687Z"
   },
   {
    "duration": 406,
    "start_time": "2025-05-20T12:27:38.563Z"
   },
   {
    "duration": 785,
    "start_time": "2025-05-20T12:27:38.971Z"
   },
   {
    "duration": 347,
    "start_time": "2025-05-20T12:27:39.758Z"
   },
   {
    "duration": 505,
    "start_time": "2025-05-20T12:27:40.106Z"
   },
   {
    "duration": 66,
    "start_time": "2025-05-20T12:27:40.612Z"
   },
   {
    "duration": 589,
    "start_time": "2025-05-20T12:27:40.681Z"
   },
   {
    "duration": 168,
    "start_time": "2025-05-20T12:27:41.272Z"
   },
   {
    "duration": 222,
    "start_time": "2025-05-20T12:27:41.442Z"
   },
   {
    "duration": 158,
    "start_time": "2025-05-20T12:27:41.666Z"
   },
   {
    "duration": 537,
    "start_time": "2025-05-20T12:27:41.825Z"
   },
   {
    "duration": 245,
    "start_time": "2025-05-20T12:27:42.363Z"
   },
   {
    "duration": 4391,
    "start_time": "2025-05-20T12:27:42.610Z"
   },
   {
    "duration": 262,
    "start_time": "2025-05-20T12:27:47.003Z"
   },
   {
    "duration": 50,
    "start_time": "2025-05-20T12:27:47.267Z"
   },
   {
    "duration": 138,
    "start_time": "2025-05-20T12:27:47.318Z"
   },
   {
    "duration": 81,
    "start_time": "2025-05-20T12:27:47.458Z"
   },
   {
    "duration": 842,
    "start_time": "2025-05-20T12:27:47.541Z"
   },
   {
    "duration": 20,
    "start_time": "2025-05-20T12:27:48.384Z"
   },
   {
    "duration": 243,
    "start_time": "2025-05-20T12:28:59.803Z"
   },
   {
    "duration": 230,
    "start_time": "2025-05-20T12:29:36.409Z"
   },
   {
    "duration": 1147,
    "start_time": "2025-05-20T12:29:51.628Z"
   },
   {
    "duration": 1432,
    "start_time": "2025-05-20T12:29:52.777Z"
   },
   {
    "duration": 298,
    "start_time": "2025-05-20T12:29:54.210Z"
   },
   {
    "duration": 42,
    "start_time": "2025-05-20T12:29:54.510Z"
   },
   {
    "duration": 132,
    "start_time": "2025-05-20T12:29:54.554Z"
   },
   {
    "duration": 108,
    "start_time": "2025-05-20T12:29:54.688Z"
   },
   {
    "duration": 23,
    "start_time": "2025-05-20T12:29:54.797Z"
   },
   {
    "duration": 843,
    "start_time": "2025-05-20T12:29:54.837Z"
   },
   {
    "duration": 406,
    "start_time": "2025-05-20T12:29:55.683Z"
   },
   {
    "duration": 748,
    "start_time": "2025-05-20T12:29:56.090Z"
   },
   {
    "duration": 343,
    "start_time": "2025-05-20T12:29:56.840Z"
   },
   {
    "duration": 498,
    "start_time": "2025-05-20T12:29:57.184Z"
   },
   {
    "duration": 66,
    "start_time": "2025-05-20T12:29:57.684Z"
   },
   {
    "duration": 512,
    "start_time": "2025-05-20T12:29:57.753Z"
   },
   {
    "duration": 156,
    "start_time": "2025-05-20T12:29:58.266Z"
   },
   {
    "duration": 196,
    "start_time": "2025-05-20T12:29:58.424Z"
   },
   {
    "duration": 156,
    "start_time": "2025-05-20T12:29:58.622Z"
   },
   {
    "duration": 529,
    "start_time": "2025-05-20T12:29:58.779Z"
   },
   {
    "duration": 233,
    "start_time": "2025-05-20T12:29:59.310Z"
   },
   {
    "duration": 4355,
    "start_time": "2025-05-20T12:29:59.546Z"
   },
   {
    "duration": 253,
    "start_time": "2025-05-20T12:30:03.903Z"
   },
   {
    "duration": 52,
    "start_time": "2025-05-20T12:30:04.157Z"
   },
   {
    "duration": 74,
    "start_time": "2025-05-20T12:30:04.211Z"
   },
   {
    "duration": 95,
    "start_time": "2025-05-20T12:30:04.287Z"
   },
   {
    "duration": 740,
    "start_time": "2025-05-20T12:30:04.384Z"
   },
   {
    "duration": 31,
    "start_time": "2025-05-20T12:30:05.126Z"
   },
   {
    "duration": 435,
    "start_time": "2025-05-20T12:31:20.748Z"
   },
   {
    "duration": 409,
    "start_time": "2025-05-20T12:31:31.507Z"
   },
   {
    "duration": 86,
    "start_time": "2025-05-20T12:34:43.468Z"
   },
   {
    "duration": 99,
    "start_time": "2025-05-20T12:35:01.307Z"
   },
   {
    "duration": 78,
    "start_time": "2025-05-20T12:36:07.410Z"
   },
   {
    "duration": 91,
    "start_time": "2025-05-20T12:36:55.567Z"
   },
   {
    "duration": 267,
    "start_time": "2025-05-20T12:40:59.854Z"
   },
   {
    "duration": 1157,
    "start_time": "2025-05-20T12:41:26.193Z"
   },
   {
    "duration": 3150,
    "start_time": "2025-05-20T12:41:27.351Z"
   },
   {
    "duration": 312,
    "start_time": "2025-05-20T12:41:30.503Z"
   },
   {
    "duration": 50,
    "start_time": "2025-05-20T12:41:30.817Z"
   },
   {
    "duration": 99,
    "start_time": "2025-05-20T12:41:30.869Z"
   },
   {
    "duration": 110,
    "start_time": "2025-05-20T12:41:30.970Z"
   },
   {
    "duration": 20,
    "start_time": "2025-05-20T12:41:31.081Z"
   },
   {
    "duration": 879,
    "start_time": "2025-05-20T12:41:31.103Z"
   },
   {
    "duration": 402,
    "start_time": "2025-05-20T12:41:31.984Z"
   },
   {
    "duration": 776,
    "start_time": "2025-05-20T12:41:32.388Z"
   },
   {
    "duration": 353,
    "start_time": "2025-05-20T12:41:33.166Z"
   },
   {
    "duration": 520,
    "start_time": "2025-05-20T12:41:33.520Z"
   },
   {
    "duration": 51,
    "start_time": "2025-05-20T12:41:34.042Z"
   },
   {
    "duration": 629,
    "start_time": "2025-05-20T12:41:34.095Z"
   },
   {
    "duration": 156,
    "start_time": "2025-05-20T12:41:34.725Z"
   },
   {
    "duration": 201,
    "start_time": "2025-05-20T12:41:34.883Z"
   },
   {
    "duration": 152,
    "start_time": "2025-05-20T12:41:35.086Z"
   },
   {
    "duration": 540,
    "start_time": "2025-05-20T12:41:35.241Z"
   },
   {
    "duration": 372,
    "start_time": "2025-05-20T12:41:35.783Z"
   },
   {
    "duration": 4352,
    "start_time": "2025-05-20T12:41:36.157Z"
   },
   {
    "duration": 255,
    "start_time": "2025-05-20T12:41:40.511Z"
   },
   {
    "duration": 0,
    "start_time": "2025-05-20T12:41:40.767Z"
   },
   {
    "duration": 0,
    "start_time": "2025-05-20T12:41:40.769Z"
   },
   {
    "duration": 0,
    "start_time": "2025-05-20T12:41:40.770Z"
   },
   {
    "duration": 0,
    "start_time": "2025-05-20T12:41:40.771Z"
   },
   {
    "duration": 0,
    "start_time": "2025-05-20T12:41:40.772Z"
   },
   {
    "duration": 0,
    "start_time": "2025-05-20T12:41:40.773Z"
   },
   {
    "duration": 126,
    "start_time": "2025-05-20T12:43:46.032Z"
   },
   {
    "duration": 463,
    "start_time": "2025-05-20T12:45:29.826Z"
   },
   {
    "duration": 1181,
    "start_time": "2025-05-20T12:45:51.991Z"
   },
   {
    "duration": 1567,
    "start_time": "2025-05-20T12:45:53.174Z"
   },
   {
    "duration": 272,
    "start_time": "2025-05-20T12:45:54.742Z"
   },
   {
    "duration": 45,
    "start_time": "2025-05-20T12:45:55.016Z"
   },
   {
    "duration": 132,
    "start_time": "2025-05-20T12:45:55.063Z"
   },
   {
    "duration": 107,
    "start_time": "2025-05-20T12:45:55.196Z"
   },
   {
    "duration": 39,
    "start_time": "2025-05-20T12:45:55.305Z"
   },
   {
    "duration": 825,
    "start_time": "2025-05-20T12:45:55.346Z"
   },
   {
    "duration": 410,
    "start_time": "2025-05-20T12:45:56.173Z"
   },
   {
    "duration": 774,
    "start_time": "2025-05-20T12:45:56.585Z"
   },
   {
    "duration": 350,
    "start_time": "2025-05-20T12:45:57.361Z"
   },
   {
    "duration": 521,
    "start_time": "2025-05-20T12:45:57.713Z"
   },
   {
    "duration": 53,
    "start_time": "2025-05-20T12:45:58.236Z"
   },
   {
    "duration": 513,
    "start_time": "2025-05-20T12:45:58.293Z"
   },
   {
    "duration": 167,
    "start_time": "2025-05-20T12:45:58.807Z"
   },
   {
    "duration": 208,
    "start_time": "2025-05-20T12:45:58.976Z"
   },
   {
    "duration": 152,
    "start_time": "2025-05-20T12:45:59.186Z"
   },
   {
    "duration": 546,
    "start_time": "2025-05-20T12:45:59.340Z"
   },
   {
    "duration": 374,
    "start_time": "2025-05-20T12:45:59.888Z"
   },
   {
    "duration": 4430,
    "start_time": "2025-05-20T12:46:00.263Z"
   },
   {
    "duration": 541,
    "start_time": "2025-05-20T12:46:04.695Z"
   },
   {
    "duration": 0,
    "start_time": "2025-05-20T12:46:05.238Z"
   },
   {
    "duration": 0,
    "start_time": "2025-05-20T12:46:05.239Z"
   },
   {
    "duration": 0,
    "start_time": "2025-05-20T12:46:05.240Z"
   },
   {
    "duration": 0,
    "start_time": "2025-05-20T12:46:05.242Z"
   },
   {
    "duration": 0,
    "start_time": "2025-05-20T12:46:05.243Z"
   },
   {
    "duration": 0,
    "start_time": "2025-05-20T12:46:05.244Z"
   },
   {
    "duration": 362,
    "start_time": "2025-05-20T12:46:17.817Z"
   },
   {
    "duration": 183,
    "start_time": "2025-05-20T12:48:54.277Z"
   },
   {
    "duration": 97,
    "start_time": "2025-05-20T12:52:41.216Z"
   },
   {
    "duration": 162,
    "start_time": "2025-05-20T12:54:06.456Z"
   },
   {
    "duration": 163,
    "start_time": "2025-05-20T12:54:32.357Z"
   },
   {
    "duration": 164,
    "start_time": "2025-05-20T12:54:54.220Z"
   },
   {
    "duration": 110,
    "start_time": "2025-05-20T12:56:30.838Z"
   },
   {
    "duration": 85,
    "start_time": "2025-05-20T12:57:20.217Z"
   },
   {
    "duration": 32,
    "start_time": "2025-05-20T12:57:52.877Z"
   },
   {
    "duration": 1340,
    "start_time": "2025-05-20T12:58:05.737Z"
   },
   {
    "duration": 1120,
    "start_time": "2025-05-20T12:58:15.853Z"
   },
   {
    "duration": 1505,
    "start_time": "2025-05-20T12:58:16.975Z"
   },
   {
    "duration": 237,
    "start_time": "2025-05-20T12:58:18.482Z"
   },
   {
    "duration": 54,
    "start_time": "2025-05-20T12:58:18.721Z"
   },
   {
    "duration": 97,
    "start_time": "2025-05-20T12:58:18.777Z"
   },
   {
    "duration": 124,
    "start_time": "2025-05-20T12:58:18.876Z"
   },
   {
    "duration": 39,
    "start_time": "2025-05-20T12:58:19.002Z"
   },
   {
    "duration": 795,
    "start_time": "2025-05-20T12:58:19.042Z"
   },
   {
    "duration": 400,
    "start_time": "2025-05-20T12:58:19.838Z"
   },
   {
    "duration": 774,
    "start_time": "2025-05-20T12:58:20.240Z"
   },
   {
    "duration": 347,
    "start_time": "2025-05-20T12:58:21.017Z"
   },
   {
    "duration": 504,
    "start_time": "2025-05-20T12:58:21.366Z"
   },
   {
    "duration": 53,
    "start_time": "2025-05-20T12:58:21.871Z"
   },
   {
    "duration": 519,
    "start_time": "2025-05-20T12:58:21.938Z"
   },
   {
    "duration": 157,
    "start_time": "2025-05-20T12:58:22.458Z"
   },
   {
    "duration": 190,
    "start_time": "2025-05-20T12:58:22.617Z"
   },
   {
    "duration": 147,
    "start_time": "2025-05-20T12:58:22.809Z"
   },
   {
    "duration": 500,
    "start_time": "2025-05-20T12:58:22.958Z"
   },
   {
    "duration": 388,
    "start_time": "2025-05-20T12:58:23.460Z"
   },
   {
    "duration": 1594,
    "start_time": "2025-05-20T12:58:23.850Z"
   },
   {
    "duration": 0,
    "start_time": "2025-05-20T12:58:25.445Z"
   },
   {
    "duration": 0,
    "start_time": "2025-05-20T12:58:25.446Z"
   },
   {
    "duration": 0,
    "start_time": "2025-05-20T12:58:25.447Z"
   },
   {
    "duration": 0,
    "start_time": "2025-05-20T12:58:25.448Z"
   },
   {
    "duration": 0,
    "start_time": "2025-05-20T12:58:25.449Z"
   },
   {
    "duration": 0,
    "start_time": "2025-05-20T12:58:25.451Z"
   },
   {
    "duration": 0,
    "start_time": "2025-05-20T12:58:25.451Z"
   },
   {
    "duration": 4233,
    "start_time": "2025-05-20T12:58:38.000Z"
   },
   {
    "duration": 129,
    "start_time": "2025-05-20T12:58:54.222Z"
   },
   {
    "duration": 27,
    "start_time": "2025-05-20T12:59:35.731Z"
   },
   {
    "duration": 21,
    "start_time": "2025-05-20T13:00:34.634Z"
   },
   {
    "duration": 117,
    "start_time": "2025-05-20T13:01:16.936Z"
   },
   {
    "duration": 92,
    "start_time": "2025-05-20T13:01:51.707Z"
   },
   {
    "duration": 89,
    "start_time": "2025-05-20T13:02:08.649Z"
   },
   {
    "duration": 91,
    "start_time": "2025-05-20T13:04:46.213Z"
   },
   {
    "duration": 103,
    "start_time": "2025-05-20T13:05:31.274Z"
   },
   {
    "duration": 96,
    "start_time": "2025-05-20T13:05:44.216Z"
   },
   {
    "duration": 1662,
    "start_time": "2025-05-20T13:08:24.569Z"
   },
   {
    "duration": 464,
    "start_time": "2025-05-20T13:10:01.310Z"
   },
   {
    "duration": 666,
    "start_time": "2025-05-20T13:12:33.490Z"
   },
   {
    "duration": 544,
    "start_time": "2025-05-20T13:13:25.231Z"
   },
   {
    "duration": 1259,
    "start_time": "2025-05-20T13:13:37.928Z"
   },
   {
    "duration": 1530,
    "start_time": "2025-05-20T13:13:39.189Z"
   },
   {
    "duration": 276,
    "start_time": "2025-05-20T13:13:40.720Z"
   },
   {
    "duration": 43,
    "start_time": "2025-05-20T13:13:40.997Z"
   },
   {
    "duration": 111,
    "start_time": "2025-05-20T13:13:41.041Z"
   },
   {
    "duration": 115,
    "start_time": "2025-05-20T13:13:41.154Z"
   },
   {
    "duration": 20,
    "start_time": "2025-05-20T13:13:41.271Z"
   },
   {
    "duration": 861,
    "start_time": "2025-05-20T13:13:41.293Z"
   },
   {
    "duration": 428,
    "start_time": "2025-05-20T13:13:42.156Z"
   },
   {
    "duration": 814,
    "start_time": "2025-05-20T13:13:42.587Z"
   },
   {
    "duration": 376,
    "start_time": "2025-05-20T13:13:43.403Z"
   },
   {
    "duration": 565,
    "start_time": "2025-05-20T13:13:43.781Z"
   },
   {
    "duration": 70,
    "start_time": "2025-05-20T13:13:44.348Z"
   },
   {
    "duration": 550,
    "start_time": "2025-05-20T13:13:44.437Z"
   },
   {
    "duration": 169,
    "start_time": "2025-05-20T13:13:44.989Z"
   },
   {
    "duration": 220,
    "start_time": "2025-05-20T13:13:45.160Z"
   },
   {
    "duration": 160,
    "start_time": "2025-05-20T13:13:45.382Z"
   },
   {
    "duration": 543,
    "start_time": "2025-05-20T13:13:45.544Z"
   },
   {
    "duration": 376,
    "start_time": "2025-05-20T13:13:46.089Z"
   },
   {
    "duration": 4450,
    "start_time": "2025-05-20T13:13:46.467Z"
   },
   {
    "duration": 721,
    "start_time": "2025-05-20T13:13:50.920Z"
   },
   {
    "duration": 0,
    "start_time": "2025-05-20T13:13:51.643Z"
   },
   {
    "duration": 0,
    "start_time": "2025-05-20T13:13:51.644Z"
   },
   {
    "duration": 0,
    "start_time": "2025-05-20T13:13:51.646Z"
   },
   {
    "duration": 0,
    "start_time": "2025-05-20T13:13:51.647Z"
   },
   {
    "duration": 0,
    "start_time": "2025-05-20T13:13:51.648Z"
   },
   {
    "duration": 0,
    "start_time": "2025-05-20T13:13:51.649Z"
   },
   {
    "duration": 0,
    "start_time": "2025-05-20T13:13:51.650Z"
   },
   {
    "duration": 618,
    "start_time": "2025-05-20T13:15:13.088Z"
   },
   {
    "duration": 8048,
    "start_time": "2025-05-20T13:16:45.948Z"
   },
   {
    "duration": 9204,
    "start_time": "2025-05-20T13:17:38.009Z"
   },
   {
    "duration": 9216,
    "start_time": "2025-05-20T13:24:50.966Z"
   },
   {
    "duration": 107,
    "start_time": "2025-05-20T13:28:16.120Z"
   },
   {
    "duration": 89,
    "start_time": "2025-05-20T13:29:52.782Z"
   },
   {
    "duration": 48,
    "start_time": "2025-05-20T13:31:40.802Z"
   },
   {
    "duration": 95,
    "start_time": "2025-05-20T13:33:53.722Z"
   },
   {
    "duration": 97,
    "start_time": "2025-05-20T13:34:18.381Z"
   },
   {
    "duration": 859,
    "start_time": "2025-05-20T13:37:20.617Z"
   },
   {
    "duration": 368,
    "start_time": "2025-05-20T13:37:55.108Z"
   },
   {
    "duration": 85,
    "start_time": "2025-05-20T13:38:03.048Z"
   },
   {
    "duration": 1030,
    "start_time": "2025-05-20T13:40:13.929Z"
   },
   {
    "duration": 728,
    "start_time": "2025-05-20T13:41:07.208Z"
   },
   {
    "duration": 706,
    "start_time": "2025-05-20T13:41:15.809Z"
   },
   {
    "duration": 1046,
    "start_time": "2025-05-20T13:41:29.748Z"
   },
   {
    "duration": 452,
    "start_time": "2025-05-20T13:43:18.130Z"
   },
   {
    "duration": 429,
    "start_time": "2025-05-20T13:44:16.956Z"
   },
   {
    "duration": 433,
    "start_time": "2025-05-20T13:44:57.689Z"
   },
   {
    "duration": 1050,
    "start_time": "2025-05-20T13:45:24.336Z"
   },
   {
    "duration": 889,
    "start_time": "2025-05-20T13:46:03.349Z"
   }
  ],
  "colab": {
   "provenance": []
  },
  "kernelspec": {
   "display_name": "Python [conda env:base] *",
   "language": "python",
   "name": "conda-base-py"
  },
  "language_info": {
   "codemirror_mode": {
    "name": "ipython",
    "version": 3
   },
   "file_extension": ".py",
   "mimetype": "text/x-python",
   "name": "python",
   "nbconvert_exporter": "python",
   "pygments_lexer": "ipython3",
   "version": "3.13.5"
  },
  "toc": {
   "base_numbering": 1,
   "nav_menu": {},
   "number_sections": true,
   "sideBar": true,
   "skip_h1_title": true,
   "title_cell": "Table of Contents",
   "title_sidebar": "Contents",
   "toc_cell": false,
   "toc_position": {},
   "toc_section_display": true,
   "toc_window_display": true
  }
 },
 "nbformat": 4,
 "nbformat_minor": 4
}
